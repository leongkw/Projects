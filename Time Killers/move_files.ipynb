{
 "cells": [
  {
   "cell_type": "code",
   "execution_count": 1,
   "id": "7a1c8d61",
   "metadata": {},
   "outputs": [],
   "source": [
    "import os\n",
    "import shutil"
   ]
  },
  {
   "cell_type": "raw",
   "id": "a310b647",
   "metadata": {},
   "source": [
    "Purpose: \n",
    "- I have many sub-folders with files inside. \n",
    "- I need to shift the files inside these sub-folders into the main folders one level up"
   ]
  },
  {
   "cell_type": "code",
   "execution_count": 2,
   "id": "7b31ba68",
   "metadata": {},
   "outputs": [
    {
     "name": "stdout",
     "output_type": "stream",
     "text": [
      "['Check It Out', 'Check It Out Remix', 'Cherry Pop', 'Chiisana Hana', 'Christmas Memories', 'Chromatic Blitz', 'Coactive', 'Cold Scream', 'Color Paradise', 'Colour', 'Come Back Home', 'Come Back To Me', 'Contra', 'Core Arirang', 'Cosmic Rays', 'Cranky Song', 'Crazy Go Go', 'Crazy Love', 'Cross Time!!', 'Crowdpleaser', 'Csikos Post', 'Curse Of Hera', 'Cutting Circles', 'Daydreaming', 'Death Moon', 'Desire', 'Destination', 'Deviation', 'Direction', 'Disco Train', 'Distro X', \"Don't Movin\", \"Don't Say Anything!\", \"Don't Tell Mama\", 'Dragon Eyes', 'Dreaming Lion', 'Driving Lazy Bee', 'Drum N Bass', 'Drum N Bass Step Mix', 'Duel (O2 Version)', 'DX05', 'Earth Quake', 'Ecstacy', 'Electro Fantasy', 'Electro8', 'Eleventh Hour', 'Empty Dream', 'End Of Fight', 'Envy Mask', 'Escape', 'Espere (O2 Short Version)', 'Eternity', 'Euphorium', 'Eyes', 'Fantazindy', 'Feel So Good', 'Feel The O2jam!', 'Feel The Rhythm', 'Feeling', 'Field Of Dreams', 'Fiesta', 'Flower Song', 'Fly Magpie!', 'For Elise', 'Forever', 'Four Seasons Linverno', 'Free', 'Free (Original)', 'Friday', 'From', 'Future World', 'Game Over', 'Gargoyle', 'Gaussian Blur', 'Get Drunk', 'Get It Up', 'Ghost House', 'Girl', 'Girl Friend', 'Go Hell', 'Go!', 'Gong Xi Jam', 'Grande Valse Brillante', 'Groove Alright', 'Happy Christmas', 'Happy Face', 'Happy Then', 'Have A Good Time', 'Have A Sweet Day', 'Head Over Hills', 'Heffy End', 'Hell Boy', 'Hi Iggy', 'High', 'High Energy', 'Humoresque', 'Hunch', 'Hyper Speed Carol Mix', 'I Love Dance', 'I Love DOKDO', 'I Need Your Love', 'Identity', 'Identity Part II', 'Identity Part III', 'IM', 'Imagination', 'In My Fantasia', 'Instrument', 'Intense Color', 'It Feels Good', 'Jinglebell Mega Mix', 'June', 'Just 1 More', 'Just Dance!!', 'Kan Kan', 'Kan Kan (Riverdance HD)', 'Karng Karw Geen Kruai', 'Last Winter', 'Let Me Dance', 'Let The Sunshine', 'Let The Sunshine (Original)', \"Let's Get Party\", 'Like This!!', 'Little Nurse', 'Little Star', 'Little Zoo', 'Live Wire (Full Version)', 'Lonely Song', 'Lovable Times', 'Love Diary', 'Love Drive', 'Love Fighter!!', 'Luv Mu Revolution', 'Mad Moon Sonata', 'Make It Rock', 'Maranata', 'Maustrap', 'Mega Trancer', 'Memories', 'Midnight Express', 'Milk Chocolate', 'Missing U', 'Monochrome', 'Monster Express', 'Move It On (Dj HD Mix)', 'Move It On!!', 'Movie Star', 'My Life', 'Natal Angel', 'New Generation', 'Night Falls', 'No 7', 'No Lies', 'Nocturne OP 9-2', 'Nostalgia (End Of Ages Mix)', 'Nostatic', 'O2 Blues', 'O2 Jam', 'O2 Red Jelly', 'O25', \"Oh C'mon\", 'Ohm Busters!', 'Ondo', 'One Love', 'One Love - Blue', 'One Sided Love', 'Open Your Mind', 'Out of Control', 'Over The Ocean', 'Overture', 'Permanent Loops II', 'Phase 1', 'Phaya Noi Chom Talard', 'Piano Sonata In C, K545', 'Pit-A-Pat Christmas', 'Pit-A-Pat Summer', 'Play Dis Night', \"Please Don't Go!\", 'Poison', 'Puberty', 'Pulse In Opus', 'Puzzle', 'QTSA', 'Quantum', 'R3', 'Rainy Morning', 'Recollection', 'Reincarnation', 'Renegades Of Hardcore', \"Rock N' Roll\", 'Rudie Girl', 'Run For You', 'Run To Forest', 'Run Up!!!', 'Sad Christmas', 'Salary Rider', 'Samisen Junkie', 'Save The Floor', 'Seine R', 'Separated Union', 'Shake It Up', 'Shooting Star', 'Showdown', 'Shuffle Heaven', 'Sibuya K One', 'Something Special', 'Sonata (O2 Version)', 'Sonata (O3 Underground Remix)', 'Sonatine #1', 'Sonatine #14-1', 'Sonatine #7-1', 'Sonatine #8-1', 'Sonatine #9-1', 'Song Of Pain', 'Song Of Vacation', 'Spring Symphony', 'Sputnik', 'Stak Atak', 'Stay', 'Still Remember You', 'Storm Over The Ocean', 'Story Of The Underdog', 'Stunt Flying', 'Stunt Flying (O3 Remix)', 'Suddenly', 'Summer Party', 'Sunlight', 'Supa Ride', 'Surf', 'Surfin USA (Remake)', \"Sweel You're Head!!!\", 'Symphonia No 40', 'Symphony From The Rock World', 'Take 2', 'Take 5', 'Take It', 'Take Off', 'Take The Gloomy', 'Telepath', 'Television', 'Tell Me', 'Tell Me A Story', 'Tell Me Again', 'Tempest', 'The Blues', 'The Dream Of One Summer Night', 'The Festival Of Ghost 1', 'The Festival Of Ghost 2', 'The Last Flight', 'The Simplest Christmas Gift', \"The Theme Of Chup's Gang\", 'The Way', 'Theme Of EZ2DJ', 'Time Crisis', 'To You', 'Toccata And Fugue', 'Tolerance', 'Trampled Leaves', 'Trance World', 'Transection', 'Tribal Revival', 'Trust', 'Turn A', 'Turn It Upside Down', 'Twin Sun', 'Until You Come Back', 'Up N Down!', 'V3 (O2 Version)', 'Venus-R', 'Victim', 'Visual Dream!!', 'Vivaldi In HipHop', 'Volcano', 'VooDoo', 'Waiting 4 Love', 'Waiting 4 Love Full Version', 'Waltz Of Puppy', 'What I Need', 'White Christmas', 'White Day', 'William Tell (O2 Version)', 'Wind On The Horizon', 'Wings Of Dreams', 'With U', 'You', 'You Was Borned To Be Loved', 'You, U, You', 'Your Majesty', 'Zap! O2 Mix', 'Zero-One', 'Zexon', 'Zigeunerweisen', 'ZL']\n"
     ]
    }
   ],
   "source": [
    "os.chdir(\"C:/Users/xxxxx/Desktop/Games/o2 Mania/music\")\n",
    "\n",
    "# Get list of all files, create an empty list to store names of all folders\n",
    "all_files = os.listdir()\n",
    "folders = []\n",
    "\n",
    "# For files that don't contain '.ojn' or '.ojm' extension, they are folders and shift them into the folders list\n",
    "for file in all_files:\n",
    "    if '.ojn' not in file and '.ojm' not in file:\n",
    "        folders.append(file)\n",
    "\n",
    "print(folders)"
   ]
  },
  {
   "cell_type": "code",
   "execution_count": 3,
   "id": "a906783f",
   "metadata": {},
   "outputs": [],
   "source": [
    "for folder in folders:\n",
    "    # Get the directory I want to move files into\n",
    "    # Iterate through list of folders, then move into the iterated folder\n",
    "    base_directory = \"C:/Users/xxxxx/Desktop/Games/o2 Mania/music\"\n",
    "    change_to = \"C:/Users/xxxxx/Desktop/Games/o2 Mania/music\" + '/' + folder\n",
    "    \n",
    "    # Change to the music folder, then get a list of the files\n",
    "    os.chdir(change_to)\n",
    "    files = os.listdir()\n",
    "    \n",
    "    # For each file in the list of files, move the file into the base directory\n",
    "    for file in files:\n",
    "        file_to_move = change_to + '/' + file\n",
    "        shutil.move(file_to_move, base_directory)\n",
    "    \n",
    "    # Once files are moved, change back to base directory, then repeat\n",
    "    os.chdir('..')"
   ]
  },
  {
   "cell_type": "code",
   "execution_count": 4,
   "id": "94487926",
   "metadata": {},
   "outputs": [],
   "source": [
    "# Delete all the empty folders\n",
    "for folder in folders:\n",
    "    base_directory = \"C:/Users/xxxxx/Desktop/Games/o2 Mania/music\"\n",
    "    folder_path = \"C:/Users/xxxxx/Desktop/Games/o2 Mania/music\" + '/' + folder\n",
    "    os.rmdir(folder_path)"
   ]
  }
 ],
 "metadata": {
  "kernelspec": {
   "display_name": "Python 3 (ipykernel)",
   "language": "python",
   "name": "python3"
  },
  "language_info": {
   "codemirror_mode": {
    "name": "ipython",
    "version": 3
   },
   "file_extension": ".py",
   "mimetype": "text/x-python",
   "name": "python",
   "nbconvert_exporter": "python",
   "pygments_lexer": "ipython3",
   "version": "3.9.7"
  }
 },
 "nbformat": 4,
 "nbformat_minor": 5
}
