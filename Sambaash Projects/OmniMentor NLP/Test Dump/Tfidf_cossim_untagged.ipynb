{
 "cells": [
  {
   "cell_type": "code",
   "execution_count": 1,
   "metadata": {},
   "outputs": [],
   "source": [
    "import numpy as np\n",
    "import pandas as pd\n",
    "\n",
    "import gensim\n",
    "import gensim.corpora as corpora\n",
    "from gensim.utils import simple_preprocess\n",
    "import spacy\n",
    "\n",
    "import nltk\n",
    "from nltk.corpus import stopwords\n",
    "\n",
    "from sklearn.feature_extraction.text import TfidfTransformer, CountVectorizer, TfidfVectorizer\n",
    "from nltk.stem import WordNetLemmatizer\n",
    "from nltk.tokenize import sent_tokenize, word_tokenize\n",
    "from sklearn.metrics.pairwise import cosine_similarity\n",
    "\n",
    "import random\n",
    "import string\n",
    "\n",
    "# Tag stages vs don't tag stages, see the differences in accuracy\n",
    "# Don't tag stages - Seems ok.."
   ]
  },
  {
   "cell_type": "code",
   "execution_count": null,
   "metadata": {},
   "outputs": [],
   "source": [
    "# Full edition of prompts\n",
    "f = open('prompts_full.txt', 'r', encoding='utf=8')\n",
    "raw_txt = f.read()\n",
    "raw_txt = raw_txt.replace('\\n', ' ')"
   ]
  },
  {
   "cell_type": "code",
   "execution_count": null,
   "metadata": {},
   "outputs": [],
   "source": [
    "# Reading in the prompts and response database\n",
    "qandadb = pd.read_excel('q&adatabase.xlsx')\n",
    "\n",
    "# Changing questions column to lowercase\n",
    "qandadb['questions'] = qandadb['questions'].apply(lambda x : x.lower())\n",
    "\n",
    "# Droping all the duplicates that appear in each stage\n",
    "qandadb = qandadb.drop_duplicates(subset=['stage', 'questions', 'resp'], keep='first')"
   ]
  },
  {
   "cell_type": "code",
   "execution_count": null,
   "metadata": {},
   "outputs": [],
   "source": [
    "qandadb[(qandadb['questions'].str.contains('what should i do?'))]"
   ]
  },
  {
   "cell_type": "code",
   "execution_count": null,
   "metadata": {},
   "outputs": [],
   "source": [
    "# qandadb[(qandadb['questions'] == 'what should i do?')]\n",
    "#  & (qandadb['stage'] == 'FC1– A1')"
   ]
  },
  {
   "cell_type": "code",
   "execution_count": null,
   "metadata": {},
   "outputs": [],
   "source": [
    "# Loop method\n",
    "# for sentence in qandadb[qandadb['questions'] == 'Is there any late payment fee?']['resp']:\n",
    "#    print(sentence)\n",
    "\n",
    "# Index method (pretty dumb code but 1 line)\n",
    "# qandadb[qandadb['questions'] == 'How to make payment?']['resp'][qandadb[qandadb['questions'] == 'How to make payment?']['resp'].index[0]]"
   ]
  },
  {
   "cell_type": "code",
   "execution_count": null,
   "metadata": {},
   "outputs": [],
   "source": [
    "# NLP Processing\n",
    "\"\"\"\n",
    "1. Convert all to lower case\n",
    "2. Tokenization\n",
    "3. Removing noise (rubbish like special characters)\n",
    "4. Removing stop words\n",
    "5. Stemming\n",
    "6. Lemmatization\n",
    "7. Bag of words/Tfidf\n",
    "\"\"\""
   ]
  },
  {
   "cell_type": "code",
   "execution_count": null,
   "metadata": {},
   "outputs": [],
   "source": [
    "# Let's start with just 3 sentences\n",
    "# 1. How to pay sch fees\n",
    "# 2. What is my progress\n",
    "# 3. How do I contact mentor\n",
    "\n",
    "\n",
    "# Nltk processing functions works better with strings\n",
    "# Separate sentences by punctuation marks\n",
    "# data = 'What should I do to pay my school fees? How can I check my course progress? If I want to contact my mentor, how can I go about it? What if I do not want to pay school fees?'     \n",
    "\n",
    "# Response library\n",
    "# library = {'What should I do to pay my school fees?' : 'You can pay with Paylah!',\n",
    "#           'How can I check my course progress?' : 'You can check on eDX.',\n",
    "#           'If I want to contact my mentor, how can I go about it?' : 'You can message them on Telegram.',\n",
    "#           'What if I do not want to pay school fees?' : 'You must pay school fees or else you cannot continue!'}\n",
    "\n",
    "\n",
    "# Changing to lower case\n",
    "\n",
    "data_lower = raw_txt.lower()"
   ]
  },
  {
   "cell_type": "code",
   "execution_count": null,
   "metadata": {},
   "outputs": [],
   "source": [
    "# Converting to word & sentence tokens\n",
    "sent_token = nltk.sent_tokenize(data_lower)\n",
    "word_token = nltk.word_tokenize(data_lower)"
   ]
  },
  {
   "cell_type": "code",
   "execution_count": null,
   "metadata": {},
   "outputs": [],
   "source": [
    "lemmer = nltk.stem.WordNetLemmatizer()\n",
    "\n",
    "def LemTokens(tokens):\n",
    "    return [lemmer.lemmatize(token) for token in tokens]\n",
    "\n",
    "remove_punct_dict = dict((ord(punct), None) for punct in string.punctuation)\n",
    "\n",
    "def LemNormalize(text):\n",
    "    return LemTokens(nltk.word_tokenize(text.lower().translate(remove_punct_dict)))"
   ]
  },
  {
   "cell_type": "code",
   "execution_count": null,
   "metadata": {},
   "outputs": [],
   "source": [
    "greet_input = ['hello', 'hi', 'greetings', 'sup',\n",
    "               \"what's up\", 'hey', 'yo', 'henlo']\n",
    "greet_reply = ['Hello nigga', 'Hi homie', 'Yo wassup', 'Ni hao',\n",
    "               'Konichiwa', 'Annyeong haseyo', 'Sawadikap']\n",
    "\n",
    "def greeting(sentence): \n",
    "    for word in sentence.split():\n",
    "        if word.lower() in greet_input:\n",
    "            return random.choice(greet_reply)"
   ]
  },
  {
   "cell_type": "code",
   "execution_count": null,
   "metadata": {},
   "outputs": [],
   "source": [
    "def response(user_input):\n",
    "    bot_response = ''\n",
    "    sent_token.append(user_input)\n",
    "    \n",
    "    TfidfVec = TfidfVectorizer(tokenizer=LemNormalize, stop_words='english')\n",
    "    tfidf = TfidfVec.fit_transform(sent_token)\n",
    "    \n",
    "    cosine_vals = cosine_similarity(tfidf[-1], tfidf)\n",
    "    \n",
    "    # Use to index out the matched response after sorting it\n",
    "    # [-2] means 2nd from behind, use -2 because -1 is the input sentence\n",
    "    # So, -2 is the next best score for cosine similarity\n",
    "    index = cosine_vals.argsort()[0][-2]\n",
    "    \n",
    "    flat = cosine_vals.flatten()\n",
    "    flat.sort()\n",
    "    \n",
    "    matched_cosine = flat[-2]\n",
    "    \n",
    "    if matched_cosine == 0:\n",
    "        bot_response = bot_response + \"I'm sorry, I do not understand you.\"\n",
    "    \n",
    "    else:\n",
    "        bot_response = bot_response + qandadb[(qandadb['questions'].str.contains(sent_token[index]))]['resp'][qandadb[qandadb['questions'] == sent_token[index]]['resp'].index[0]]\n",
    "        # library[sent_token[index]]\n",
    "        return bot_response"
   ]
  },
  {
   "cell_type": "code",
   "execution_count": null,
   "metadata": {},
   "outputs": [],
   "source": [
    "flag=True\n",
    "print(\"Hello, please ask me a question!\")\n",
    "while(flag==True):\n",
    "    user_input = input()\n",
    "    user_input = user_input.lower()\n",
    "    \n",
    "    if greeting(user_input) != None:\n",
    "        print(\"Bot: \" + greeting(user_input))\n",
    "    \n",
    "    elif user_input == 'thanks' or user_input == 'thank you' or user_input == 'bye':\n",
    "        flag=False\n",
    "        print(\"Bot: Bye! take care..\")\n",
    "    \n",
    "    elif user_input != 'bye' or user_input != 'thanks' or user_input != 'thank you':\n",
    "        print(\"Bot: \", end= \"\")\n",
    "        print(response(user_input))\n",
    "        sent_token.remove(user_input)"
   ]
  }
 ],
 "metadata": {
  "kernelspec": {
   "display_name": "Python 3",
   "language": "python",
   "name": "python3"
  },
  "language_info": {
   "codemirror_mode": {
    "name": "ipython",
    "version": 3
   },
   "file_extension": ".py",
   "mimetype": "text/x-python",
   "name": "python",
   "nbconvert_exporter": "python",
   "pygments_lexer": "ipython3",
   "version": "3.7.1"
  }
 },
 "nbformat": 4,
 "nbformat_minor": 2
}
