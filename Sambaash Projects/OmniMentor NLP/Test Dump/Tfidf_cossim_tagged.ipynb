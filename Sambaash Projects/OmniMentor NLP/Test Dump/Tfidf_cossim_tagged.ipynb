{
 "cells": [
  {
   "cell_type": "code",
   "execution_count": 1,
   "metadata": {},
   "outputs": [],
   "source": [
    "import numpy as np\n",
    "import pandas as pd\n",
    "\n",
    "import gensim\n",
    "import gensim.corpora as corpora\n",
    "from gensim.utils import simple_preprocess\n",
    "import spacy\n",
    "\n",
    "import nltk\n",
    "from nltk.corpus import stopwords\n",
    "from sklearn.feature_extraction.text import TfidfTransformer, CountVectorizer, TfidfVectorizer\n",
    "from nltk.stem import WordNetLemmatizer\n",
    "from nltk.tokenize import sent_tokenize, word_tokenize\n",
    "from sklearn.metrics.pairwise import cosine_similarity\n",
    "\n",
    "import random\n",
    "import string"
   ]
  },
  {
   "cell_type": "code",
   "execution_count": 2,
   "metadata": {},
   "outputs": [],
   "source": [
    "# Reading in the prompts and response database\n",
    "qandadb = pd.read_excel('q&adatabase.xlsx')\n",
    "\n",
    "# Changing questions column to lowercase\n",
    "qandadb['questions'] = qandadb['questions'].apply(lambda x : x.lower())\n",
    "\n",
    "# Droping all the duplicates that appear in each stage\n",
    "qandadb = qandadb.drop_duplicates(subset=['stage', 'questions', 'resp'], keep='first')"
   ]
  },
  {
   "cell_type": "code",
   "execution_count": 3,
   "metadata": {},
   "outputs": [],
   "source": [
    "stopwords = [\n",
    "             'i', 'me', 'my', 'myself', 'we', 'our', 'ours', \n",
    "             'ourselves', 'you', \"you're\", \"you've\", \"you'll\", \n",
    "             \"you'd\", 'your', 'yours', 'yourself', 'yourselves', \n",
    "             'he', 'him', 'his', 'himself', 'she', \"she's\", 'her', \n",
    "             'hers', 'herself', 'it', \"it's\", 'its', 'itself', \n",
    "             'they', 'them', 'their', 'theirs', 'themselves', 'what', \n",
    "             'which', 'who', 'whom', 'this', 'that', \"that'll\", 'these', \n",
    "             'those', 'am', 'is', 'are', 'was', 'were', 'be', 'been', \n",
    "             'being', 'have', 'has', 'had', 'having', 'do', 'does', \n",
    "             'did', 'doing', 'a', 'an', 'the', 'and', 'but', 'if', \n",
    "             'or', 'because', 'as', 'until', 'while', 'of', 'at', \n",
    "             'by', 'for', 'with', 'about', 'against', 'between', \n",
    "             'into', 'through', 'during', 'before', 'after', 'above', \n",
    "             'below', 'to', 'from', 'up', 'down', 'in', 'out', 'on', \n",
    "             'off', 'over', 'under', 'again', 'further', 'then', 'once', \n",
    "             'here', 'there', 'when', 'where', 'why', 'how', 'all', 'any', \n",
    "             'both', 'each', 'few', 'more', 'most', 'other', 'some', \n",
    "             'such', 'no', 'nor', 'not', 'only', 'own', 'same', 'so', \n",
    "             'than', 'too', 'very', 's', 't', 'can', 'will', 'just', \n",
    "             'don', \"don't\", 'should', \"should've\", 'now', 'd', 'll', \n",
    "             'm', 'o', 're', 've', 'y', 'ain', 'aren', \"aren't\", 'couldn', \n",
    "             \"couldn't\", 'didn', \"didn't\", 'doesn', \"doesn't\", 'hadn', \n",
    "             \"hadn't\", 'hasn', \"hasn't\", 'haven', \"haven't\", 'isn', \"isn't\", \n",
    "             'ma', 'mightn', \"mightn't\", 'mustn', \"mustn't\", 'needn', \"needn't\", \n",
    "             'shan', \"shan't\", 'shouldn', \"shouldn't\", 'wasn', \"wasn't\", 'weren',\n",
    "             \"weren't\", 'won', \"won't\", 'wouldn', \"wouldn't\", 'fuck', 'fucker',\n",
    "             'lah', 'la', 'leh', 'lor', 'nah', 'ya', 'yah', 'shit', 'ass', 'asshole',\n",
    "             'le', 'already', 'liao', 'liaoz', 'u', 'cheebye', 'lanjiao',\n",
    "             'nabei', 'kaopei', 'knnb', 'cb', 'cheebye', 'fucked', 'fucks',\n",
    "             'bitch', 'bitches', 'scumbag', 'fuckface', 'wtf', 'ffs', 'siao',\n",
    "             'walao', 'waliao', 'ttyl', 'orhhhh', 'sai'\n",
    "             ]"
   ]
  },
  {
   "cell_type": "code",
   "execution_count": 4,
   "metadata": {},
   "outputs": [],
   "source": [
    "# Function to convert questions in each stage to one string\n",
    "def stage2string(stage_name):\n",
    "    string = ''   \n",
    "    for x in qandadb[qandadb['stage'] == stage_name]['questions']:\n",
    "        string += str(x + ' ')\n",
    "    return string"
   ]
  },
  {
   "cell_type": "code",
   "execution_count": 5,
   "metadata": {},
   "outputs": [
    {
     "name": "stdout",
     "output_type": "stream",
     "text": [
      "i have settled my payment with my consultant. i have made my payment with my consultant. when do i have to make payment? how do i make payment? is there any late payment fee? can i request for an extension of payment? i want to meet with my consultant. how do i pay with my skills future credits? how do i pay with my sfc? when must i submit my sfc? no, i do not need help. yes, i need help. yes, i need assistance. yes, i want to meet the mentor. how do i read the timetable? how does the attendance system work? how do we take attendance? how does the attendance work? when can i contact my mentor? how do i contact my mentor for online support? what is my mentor's email address? what is my mentor's phone number? \n",
      "---------------------------------\n",
      "i am having an issue in accessing the e-content in lms. i am having difficulty in understanding the e-content. i am having difficulty in understanding the course content. is it compulsory to complete the e-learning? till which date i can complete e-learning? what if i do not complete the e-learning on time?  i do not have time to complete my mcqs. how many times can i attempt the mcqs? what should i do? till which date i can complete mcqs? what if i do not complete the mcqs on the time?  what if i do not attempt the mcqs? is there is any marking for mcqs? where can i see my progress? what is the site to access my e-book? can i download or print the e-book? do you have a hard copy of the e-book? what is the next step? \n",
      "---------------------------------\n",
      "i am having an issue in accessing the e-content in lms. i am having difficulty in understanding the e-content. i am having difficulty in understanding the course content. is it compulsory to complete the e-learning? till which date i can complete e-learning? what if i do not complete the e-learning on time?  i do not have time to complete my mcqs. how many times can i attempt the mcqs? what should i do? till which date i can complete mcqs? what if i do not complete the mcqs on the time?  what if i do not attempt the mcqs? is there is any marking for mcqs? where can i see my progress? what is the site to access my e-book? can i download or print the e-book? do you have a hard copy of the e-book? what is the next step? \n",
      "---------------------------------\n",
      "i am having an issue in accessing the e-content in lms. i am having difficulty in understanding the e-content. i am having difficulty in understanding the course content. is it compulsory to complete the e-learning? till which date i can complete e-learning? what if i do not complete the e-learning on time?  i do not have time to complete my mcqs. how many times can i attempt the mcqs? what should i do? till which date i can complete mcqs? what if i do not complete the mcqs on the time?  what if i do not attempt the mcqs? is there is any marking for mcqs? where can i see my progress? when is my flipped class? what should i prepare for my flipped class? what if i cannot attend the flipped class. what can i do? is there any make-up flipped class? do i have to submit my assignment during flipped class? what is the site to access my e-book? can i download or print the e-book? do you have a hard copy of the e-book? what is the next step? what should i prepare for my flipped class? what if i cannot attend the flipped class. what can i do? is there any make-up flipped class? do i have to submit my assignment during flipped class? \n",
      "---------------------------------\n",
      "i do not have time to complete my assignment. how many times can i upload the assignments? who will score my assignment? when can i see my assignment score? till which date i can complete assignments? what if i do not complete the assignments on the time?  what if i do not attempt the assignments? where can i see my progress? what should i do if i did not score 70% for my assignment? who can i approach to reset my assignment? why i can’t log into the learn-on-demand? where do i upload the lab assignment? why can’t i see the upload button in the lms? why can’t i launch the lab? where do i get the template? what is the site to access my e-book? can i download or print the e-book? do you have a hard copy of the e-book? is it compulsory to attend the mentoring session? i am not able to attend the mentoring session. how was the attendance capture for the mentoring session? i have no issue with my assignment. can i skip the mentoring session? i have completed my assignment in advance. can i skip the mentoring session? what is the next step? when is my next flipped class? what should i prepare for my next flipped class? what if i cannot attend the next flipped class. what can i do? is there any make-up flipped class? do i have to submit my assignment during flipped class? how was the attendance capture for the mentoring session? why i can’t log into the learn-on-demand? \n",
      "---------------------------------\n",
      "i do not have time to complete my assignment. how many times can i upload the assignments? who will score my assignment? when can i see my assignment score? till which date i can complete assignments? what if i do not complete the assignments on the time?  what if i do not attempt the assignments? where can i see my progress? what should i do if i did not score 70% for my assignment? who can i approach to reset my assignment? why i can’t log into the learn-on-demand? where do i upload the lab assignment? why can’t i see the upload button in the lms? why can’t i launch the lab? where do i get the template? what is the site to access my e-book? can i download or print the e-book? do you have a hard copy of the e-book? is it compulsory to attend the mentoring session? i am not able to attend the mentoring session. how was the attendance capture for the mentoring session? i have no issue with my assignment. can i skip the mentoring session? i have completed my assignment in advance. can i skip the mentoring session? what is the next step? how was the attendance capture for the mentoring session? why i can’t log into the learn-on-demand? \n",
      "---------------------------------\n",
      "i am having an issue in accessing the e-content in lms. i am having difficulty in understanding the e-content. is it compulsory to complete the e-learning? till which date i can complete e-learning? what if i do not complete the e-learning on time?  i do not have time to complete my mcqs. how many times can i attempt the mcqs? what should i do? till which date i can complete mcqs? what if i do not complete the mcqs on the time?  what if i do not attempt the mcqs? is there is any marking for mcqs? where can i see my progress? i do not have time to complete my assignment. how many times can i upload the assignments? who will score my assignment? when can i see my assignment score? till which date i can complete assignments? what if i do not complete the assignments on the time?  what if i do not attempt the assignments? what should i do if i did not score 70% for my assignment? who can i approach to reset my assignment? why i can’t log into the learn-on-demand? where do i upload the lab assignment? why can’t i see the upload button in the lms? why can’t i launch the lab? where do i get the template? what is the site to access my e-book? can i download or print the e-book? do you have a hard copy of the e-book? is it compulsory to attend the mentoring session? i am not able to attend the mentoring session. how was the attendance capture for the mentoring session? i have no issue with my assignment. can i skip the mentoring session? i have completed my assignment in advance. can i skip the mentoring session? what is the next step? how was the attendance capture for the mentoring session? \n",
      "---------------------------------\n"
     ]
    },
    {
     "name": "stdout",
     "output_type": "stream",
     "text": [
      "i am having an issue in accessing the e-content in lms. i am having difficulty in understanding the e-content. i am having difficulty in understanding the course content. is it compulsory to complete the e-learning? till which date i can complete e-learning? what if i do not complete the e-learning on time?  i do not have time to complete my mcqs. how many times can i attempt the mcqs? what should i do? till which date i can complete mcqs? what if i do not complete the mcqs on the time?  what if i do not attempt the mcqs? is there is any marking for mcqs? where can i see my progress? what is the site to access my e-book? can i download or print the e-book? do you have a hard copy of the e-book? what is the next step? \n",
      "---------------------------------\n",
      "i am having an issue in accessing the e-content in lms. i am having difficulty in understanding the e-content. i am having difficulty in understanding the course content. is it compulsory to complete the e-learning? till which date i can complete e-learning? what if i do not complete the e-learning on time?  i do not have time to complete my mcqs. how many times can i attempt the mcqs? what should i do? till which date i can complete mcqs? what if i do not complete the mcqs on the time?  what if i do not attempt the mcqs? is there is any marking for mcqs? where can i see my progress? when is my flipped class? what should i prepare for my flipped class? what if i cannot attend the flipped class. what can i do? is there any make-up flipped class? do i have to submit my assignment during flipped class? what is the site to access my e-book? can i download or print the e-book? do you have a hard copy of the e-book? what is the next step? do i have to submit my assignment during flipped class? \n",
      "---------------------------------\n",
      "i do not have time to complete my assignment. how many times can i upload the assignments? who will score my assignment? when can i see my assignment score? till which date i can complete assignments? what if i do not complete the assignments on the time?  what if i do not attempt the assignments? where can i see my progress? what should i do if i did not score 70% for my assignment? who can i approach to reset my assignment? why i can’t log into the learn-on-demand? where do i upload the lab assignment? why can’t i see the upload button in the lms? why can’t i launch the lab? where do i get the template? what is the site to access my e-book? can i download or print the e-book? do you have a hard copy of the e-book? is it compulsory to attend the mentoring session? i am not able to attend the mentoring session. how was the attendance capture for the mentoring session? i have no issue with my assignment. can i skip the mentoring session? i have completed my assignment in advance. can i skip the mentoring session? what is the next step? when is my next flipped class? what should i prepare for my next flipped class? what if i cannot attend the next flipped class. what can i do? is there any make-up flipped class? do i have to submit my assignment during flipped class? \n",
      "---------------------------------\n",
      "i do not have time to complete my assignment. how many times can i upload the assignments? who will score my assignment? when can i see my assignment score? till which date i can complete assignments? what if i do not complete the assignments on the time?  what if i do not attempt the assignments? where can i see my progress? what should i do if i did not score 70% for my assignment? who can i approach to reset my assignment? why i can’t log into the learn-on-demand? where do i upload the lab assignment? why can’t i see the upload button in the lms? why can’t i launch the lab? where do i get the template? what is the site to access my e-book? can i download or print the e-book? do you have a hard copy of the e-book? is it compulsory to attend the mentoring session? i am not able to attend the mentoring session. how was the attendance capture for the mentoring session? i have completed my assignment in advance. can i skip the mentoring session? what is the next step? i have no issue with my assignment. can i skip the mentoring session? \n",
      "---------------------------------\n",
      "i am having an issue in accessing the e-content in lms. i am having difficulty in understanding the e-content. i am having difficulty in understanding the course content. is it compulsory to complete the e-learning? till which date i can complete e-learning? what if i do not complete the e-learning on time?  i do not have time to complete my mcqs. how many times can i attempt the mcqs? what should i do? till which date i can complete mcqs? what if i do not complete the mcqs on the time?  what if i do not attempt the mcqs? is there is any marking for mcqs? where can i see my progress? i do not have time to complete my assignment. how many times can i upload the assignments? who will score my assignment? when can i see my assignment score? till which date i can complete assignments? what if i do not complete the assignments on the time?  what if i do not attempt the assignments? what should i do if i did not score 70% for my assignment? who can i approach to reset my assignment? why i can’t log into the learn-on-demand? where do i upload the lab assignment? why can’t i see the upload button in the lms? why can’t i launch the lab? where do i get the template? what is the site to access my e-book? can i download or print the e-book? do you have a hard copy of the e-book? is it compulsory to attend the mentoring session? i am not able to attend the mentoring session. how was the attendance capture for the mentoring session? i have no issue with my assignment. can i skip the mentoring session? i have completed my assignment in advance. can i skip the mentoring session? what is the next step? \n",
      "---------------------------------\n",
      "i am having an issue in accessing the e-content in lms. i am having difficulty in understanding the e-content. i am having difficulty in understanding the course content. is it compulsory to complete the e-learning? till which date i can complete e-learning? what if i do not complete the e-learning on time?  i do not have time to complete my mcqs. how many times can i attempt the mcqs? what should i do? till which date i can complete mcqs? what if i do not complete the mcqs on the time?  what if i do not attempt the mcqs? is there is any marking for mcqs? where can i see my progress? what is the site to access my e-book? can i download or print the e-book? do you have a hard copy of the e-book? what is the next step? do you have a hard copy of the e-book? \n",
      "---------------------------------\n",
      "i am having an issue in accessing the e-content in lms. i am having difficulty in understanding the e-content. i am having difficulty in understanding the course content. is it compulsory to complete the e-learning? till which date i can complete e-learning? what if i do not complete the e-learning on time?  i do not have time to complete my mcqs. how many times can i attempt the mcqs? what should i do? till which date i can complete mcqs? what if i do not complete the mcqs on the time?  what if i do not attempt the mcqs? is there is any marking for mcqs? where can i see my progress? when is my flipped class? what should i prepare for my flipped class? what if i cannot attend the flipped class. what can i do? is there any make-up flipped class? do i have to submit my assignment during flipped class? what is the site to access my e-book? can i download or print the e-book? do you have a hard copy of the e-book? what is the next step? do i have to submit my assignment during flipped class? \n",
      "---------------------------------\n"
     ]
    },
    {
     "name": "stdout",
     "output_type": "stream",
     "text": [
      "i do not have time to complete my assignment. how many times can i upload the assignments? who will score my assignment? when can i see my assignment score? till which date i can complete assignments? what if i do not complete the assignments on the time?  what if i do not attempt the assignments? where can i see my progress? what should i do if i did not score 70% for my assignment? who can i approach to reset my assignment? why i can’t log into the learn-on-demand? where do i upload the lab assignment? why can’t i see the upload button in the lms? why can’t i launch the lab? where do i get the template? what is the site to access my e-book? can i download or print the e-book? do you have a hard copy of the e-book? is it compulsory to attend the mentoring session? i am not able to attend the mentoring session. how was the attendance capture for the mentoring session? i have no issue with my assignment. can i skip the mentoring session? i have completed my assignment in advance. can i skip the mentoring session? what is the next step? when is my next flipped class? what should i prepare for my next flipped class? what if i cannot attend the next flipped class. what can i do? is there any make-up flipped class? do i have to submit my assignment during flipped class? \n",
      "---------------------------------\n",
      "i do not have time to complete my assignment. how many times can i upload the assignments? who will score my assignment? when can i see my assignment score? till which date i can complete assignments? what if i do not complete the assignments on the time?  what if i do not attempt the assignments? where can i see my progress? what should i do if i did not score 70% for my assignment? who can i approach to reset my assignment? why i can’t log into the learn-on-demand? where do i upload the lab assignment? why can’t i see the upload button in the lms? why can’t i launch the lab? where do i get the template? what is the site to access my e-book? can i download or print the e-book? do you have a hard copy of the e-book? is it compulsory to attend the mentoring session? i am not able to attend the mentoring session. how was the attendance capture for the mentoring session? i have no issue with my assignment. can i skip the mentoring session? i have completed my assignment in advance. can i skip the mentoring session? what is the next step? when is my next flipped class? what should i prepare for my next flipped class? what if i cannot attend the next flipped class. what can i do? is there any make-up flipped class? do i have to submit my assignment during flipped class? i have no issue with my assignment. can i skip the mentoring session? \n",
      "---------------------------------\n",
      "i do not have time to complete my assignment. how many times can i upload the assignments? who will score my assignment? when can i see my assignment score? till which date i can complete assignments? what if i do not complete the assignments on the time? what if i do not attempt the assignments? where can i see my progress? what should i do if i did not score 70% for my assignment? who can i approach to reset my assignment? why i can’t log into the learn-on-demand? where do i upload the lab assignment? why can’t i see the upload button in the lms? why can’t i launch the lab? where do i get the template? what is the site to access my e-book? can i download or print the e-book? do you have a hard copy of the e-book? is it compulsory to attend the mentoring session? i am not able to attend the mentoring session. how was the attendance capture for the mentoring session? i have no issue with my assignment. can i skip the mentoring session? i have completed my assignment in advance. can i skip the mentoring session? what is the next step? when is my next flipped class? what should i prepare for my next flipped class? what if i cannot attend the next flipped class. what can i do? is there any make-up flipped class? do i have to submit my assignment during flipped class? do you have a hard copy of the e-book? \n",
      "---------------------------------\n"
     ]
    }
   ],
   "source": [
    "stage_name = qandadb['stage'].unique().tolist()\n",
    "\n",
    "for stage in stage_name:\n",
    "    print(stage2string(stage))\n",
    "    print('---------------------------------')"
   ]
  },
  {
   "cell_type": "code",
   "execution_count": 6,
   "metadata": {},
   "outputs": [],
   "source": [
    "# Stage dictionary\n",
    "soc_days = \"i have settled my payment with my consultant. i have made my payment with my consultant. when do i have to make payment? how do i make payment? is there any late payment fee? can i request for an extension of payment? i want to meet with my consultant. how do i pay with my skills future credits? how do i pay with my sfc? when must i submit my sfc? no, i do not need help. yes, i need help. yes, i need assistance. yes, i want to meet the mentor. how do i read the timetable? how does the attendance system work? how do we take attendance? how does the attendance work? when can i contact my mentor? how do i contact my mentor for online support? what is my mentor's email address? what is my mentor's phone number?\"\n",
    "soc_el1 = 'i am having an issue in accessing the e-content in lms.i am having difficulty in understanding the e-content.i am having difficulty in understanding the course content.is it compulsory to complete the e-learning?till which date i can complete e-learning?what if i do not complete the e-learning on time? i do not have time to complete my mcqs.how many times can i attempt the mcqs?what should i do?till which date i can complete mcqs?what if i do not complete the mcqs on the time? what if i do not attempt the mcqs?is there is any marking for mcqs?where can i see my progress?what is the site to access my e-book?can i download or print the e-book?do you have a hard copy of the e-book?what is the next step?'\n",
    "el1_el2 = 'i am having an issue in accessing the e-content in lms.i am having difficulty in understanding the e-content.i am having difficulty in understanding the course content.is it compulsory to complete the e-learning?till which date i can complete e-learning?what if i do not complete the e-learning on time? i do not have time to complete my mcqs.how many times can i attempt the mcqs?what should i do?till which date i can complete mcqs?what if i do not complete the mcqs on the time? what if i do not attempt the mcqs?is there is any marking for mcqs?where can i see my progress?what is the site to access my e-book?can i download or print the e-book?do you have a hard copy of the e-book?what is the next step?'\n",
    "el2_fc1 = 'i am having an issue in accessing the e-content in lms.i am having difficulty in understanding the e-content.i am having difficulty in understanding the course content.is it compulsory to complete the e-learning?till which date i can complete e-learning?what if i do not complete the e-learning on time? i do not have time to complete my mcqs.how many times can i attempt the mcqs?what should i do?till which date i can complete mcqs?what if i do not complete the mcqs on the time? what if i do not attempt the mcqs?is there is any marking for mcqs?where can i see my progress?when is my flipped class?what should i prepare for my flipped class?what if i cannot attend the flipped class. what can i do?is there any make-up flipped class?do i have to submit my assignment during flipped class?what is the site to access my e-book?can i download or print the e-book?do you have a hard copy of the e-book?what is the next step?what should i prepare for my flipped class?what if i cannot attend the flipped class. what can i do?is there any make-up flipped class?do i have to submit my assignment during flipped class?'\n",
    "fc1_a1 = 'i do not have time to complete my assignment.how many times can i upload the assignments?who will score my assignment?when can i see my assignment score?till which date i can complete assignments?what if i do not complete the assignments on the time? what if i do not attempt the assignments?where can i see my progress?what should i do if i did not score 70% for my assignment?who can i approach to reset my assignment?why i can’t log into the learn-on-demand?where do i upload the lab assignment?why can’t i see the upload button in the lms?why can’t i launch the lab?where do i get the template?what is the site to access my e-book?can i download or print the e-book?do you have a hard copy of the e-book?is it compulsory to attend the mentoring session?i am not able to attend the mentoring session.how was the attendance capture for the mentoring session?i have no issue with my assignment. can i skip the mentoring session?i have completed my assignment in advance. can i skip the mentoring session?what is the next step?when is my next flipped class?what should i prepare for my next flipped class?what if i cannot attend the next flipped class. what can i do?is there any make-up flipped class?do i have to submit my assignment during flipped class?how was the attendance capture for the mentoring session?why i can’t log into the learn-on-demand?'\n",
    "a1_a2 = 'i do not have time to complete my assignment.how many times can i upload the assignments?who will score my assignment?when can i see my assignment score?till which date i can complete assignments?what if i do not complete the assignments on the time? what if i do not attempt the assignments?where can i see my progress?what should i do if i did not score 70% for my assignment?who can i approach to reset my assignment?why i can’t log into the learn-on-demand?where do i upload the lab assignment?why can’t i see the upload button in the lms?why can’t i launch the lab?where do i get the template?what is the site to access my e-book?can i download or print the e-book?do you have a hard copy of the e-book?is it compulsory to attend the mentoring session?i am not able to attend the mentoring session.how was the attendance capture for the mentoring session?i have no issue with my assignment. can i skip the mentoring session?i have completed my assignment in advance. can i skip the mentoring session?what is the next step?how was the attendance capture for the mentoring session?why i can’t log into the learn-on-demand?'\n",
    "a2_el3 = 'i am having an issue in accessing the e-content in lms.i am having difficulty in understanding the e-content.is it compulsory to complete the e-learning?till which date i can complete e-learning?what if i do not complete the e-learning on time? i do not have time to complete my mcqs.how many times can i attempt the mcqs?what should i do?till which date i can complete mcqs?what if i do not complete the mcqs on the time? what if i do not attempt the mcqs?is there is any marking for mcqs?where can i see my progress?i do not have time to complete my assignment.how many times can i upload the assignments?who will score my assignment?when can i see my assignment score?till which date i can complete assignments?what if i do not complete the assignments on the time? what if i do not attempt the assignments?what should i do if i did not score 70% for my assignment?who can i approach to reset my assignment?why i can’t log into the learn-on-demand?where do i upload the lab assignment?why can’t i see the upload button in the lms?why can’t i launch the lab?where do i get the template?what is the site to access my e-book?can i download or print the e-book?do you have a hard copy of the e-book?is it compulsory to attend the mentoring session?i am not able to attend the mentoring session.how was the attendance capture for the mentoring session?i have no issue with my assignment. can i skip the mentoring session?i have completed my assignment in advance. can i skip the mentoring session?what is the next step?how was the attendance capture for the mentoring session?'\n",
    "el3_el4 = 'i am having an issue in accessing the e-content in lms.i am having difficulty in understanding the e-content.i am having difficulty in understanding the course content.is it compulsory to complete the e-learning?till which date i can complete e-learning?what if i do not complete the e-learning on time? i do not have time to complete my mcqs.how many times can i attempt the mcqs?what should i do?till which date i can complete mcqs?what if i do not complete the mcqs on the time? what if i do not attempt the mcqs?is there is any marking for mcqs?where can i see my progress?what is the site to access my e-book?can i download or print the e-book?do you have a hard copy of the e-book?what is the next step?'\n",
    "el4_fc2 = 'i am having an issue in accessing the e-content in lms.i am having difficulty in understanding the e-content.i am having difficulty in understanding the course content.is it compulsory to complete the e-learning?till which date i can complete e-learning?what if i do not complete the e-learning on time? i do not have time to complete my mcqs.how many times can i attempt the mcqs?what should i do?till which date i can complete mcqs?what if i do not complete the mcqs on the time? what if i do not attempt the mcqs?is there is any marking for mcqs?where can i see my progress?when is my flipped class?what should i prepare for my flipped class?what if i cannot attend the flipped class. what can i do?is there any make-up flipped class?do i have to submit my assignment during flipped class?what is the site to access my e-book?can i download or print the e-book?do you have a hard copy of the e-book?what is the next step?do i have to submit my assignment during flipped class?'\n",
    "fc2_a3 = 'i do not have time to complete my assignment.how many times can i upload the assignments?who will score my assignment?when can i see my assignment score?till which date i can complete assignments?what if i do not complete the assignments on the time? what if i do not attempt the assignments?where can i see my progress?what should i do if i did not score 70% for my assignment?who can i approach to reset my assignment?why i can’t log into the learn-on-demand?where do i upload the lab assignment?why can’t i see the upload button in the lms?why can’t i launch the lab?where do i get the template?what is the site to access my e-book?can i download or print the e-book?do you have a hard copy of the e-book?is it compulsory to attend the mentoring session?i am not able to attend the mentoring session.how was the attendance capture for the mentoring session?i have no issue with my assignment. can i skip the mentoring session?i have completed my assignment in advance. can i skip the mentoring session?what is the next step?when is my next flipped class?what should i prepare for my next flipped class?what if i cannot attend the next flipped class. what can i do?is there any make-up flipped class?do i have to submit my assignment during flipped class?'\n",
    "a3_fc3 = 'i do not have time to complete my assignment.how many times can i upload the assignments?who will score my assignment?when can i see my assignment score?till which date i can complete assignments?what if i do not complete the assignments on the time? what if i do not attempt the assignments?where can i see my progress?what should i do if i did not score 70% for my assignment?who can i approach to reset my assignment?why i can’t log into the learn-on-demand?where do i upload the lab assignment?why can’t i see the upload button in the lms?why can’t i launch the lab?where do i get the template?what is the site to access my e-book?can i download or print the e-book?do you have a hard copy of the e-book?is it compulsory to attend the mentoring session?i am not able to attend the mentoring session.how was the attendance capture for the mentoring session?i have completed my assignment in advance. can i skip the mentoring session?what is the next step?i have no issue with my assignment. can i skip the mentoring session?'\n",
    "fc3_el5 = 'i am having an issue in accessing the e-content in lms.i am having difficulty in understanding the e-content.i am having difficulty in understanding the course content.is it compulsory to complete the e-learning?till which date i can complete e-learning?what if i do not complete the e-learning on time? i do not have time to complete my mcqs.how many times can i attempt the mcqs?what should i do?till which date i can complete mcqs?what if i do not complete the mcqs on the time? what if i do not attempt the mcqs?is there is any marking for mcqs?where can i see my progress?i do not have time to complete my assignment.how many times can i upload the assignments?who will score my assignment?when can i see my assignment score?till which date i can complete assignments?what if i do not complete the assignments on the time? what if i do not attempt the assignments?what should i do if i did not score 70% for my assignment?who can i approach to reset my assignment?why i can’t log into the learn-on-demand?where do i upload the lab assignment?why can’t i see the upload button in the lms?why can’t i launch the lab?where do i get the template?what is the site to access my e-book?can i download or print the e-book?do you have a hard copy of the e-book?is it compulsory to attend the mentoring session?i am not able to attend the mentoring session.how was the attendance capture for the mentoring session?i have no issue with my assignment. can i skip the mentoring session?i have completed my assignment in advance. can i skip the mentoring session?what is the next step?'\n",
    "el5_fc4 = 'i am having an issue in accessing the e-content in lms.i am having difficulty in understanding the e-content.i am having difficulty in understanding the course content.is it compulsory to complete the e-learning?till which date i can complete e-learning?what if i do not complete the e-learning on time? i do not have time to complete my mcqs.how many times can i attempt the mcqs?what should i do?till which date i can complete mcqs?what if i do not complete the mcqs on the time? what if i do not attempt the mcqs?is there is any marking for mcqs?where can i see my progress?what is the site to access my e-book?can i download or print the e-book?do you have a hard copy of the e-book?what is the next step?do you have a hard copy of the e-book?'\n",
    "fc4_a4 = 'i am having an issue in accessing the e-content in lms.i am having difficulty in understanding the e-content.i am having difficulty in understanding the course content.is it compulsory to complete the e-learning?till which date i can complete e-learning?what if i do not complete the e-learning on time? i do not have time to complete my mcqs.how many times can i attempt the mcqs?what should i do?till which date i can complete mcqs?what if i do not complete the mcqs on the time? what if i do not attempt the mcqs?is there is any marking for mcqs?where can i see my progress?when is my flipped class?what should i prepare for my flipped class?what if i cannot attend the flipped class. what can i do?is there any make-up flipped class?do i have to submit my assignment during flipped class?what is the site to access my e-book?can i download or print the e-book?do you have a hard copy of the e-book?what is the next step?do i have to submit my assignment during flipped class?'\n",
    "a4_a5 = 'i do not have time to complete my assignment.how many times can i upload the assignments?who will score my assignment?when can i see my assignment score?till which date i can complete assignments?what if i do not complete the assignments on the time? what if i do not attempt the assignments?where can i see my progress?what should i do if i did not score 70% for my assignment?who can i approach to reset my assignment?why i can’t log into the learn-on-demand?where do i upload the lab assignment?why can’t i see the upload button in the lms?why can’t i launch the lab?where do i get the template?what is the site to access my e-book?can i download or print the e-book?do you have a hard copy of the e-book?is it compulsory to attend the mentoring session?i am not able to attend the mentoring session.how was the attendance capture for the mentoring session?i have no issue with my assignment. can i skip the mentoring session?i have completed my assignment in advance. can i skip the mentoring session?what is the next step?when is my next flipped class?what should i prepare for my next flipped class?what if i cannot attend the next flipped class. what can i do?is there any make-up flipped class?do i have to submit my assignment during flipped class?'\n",
    "a5_pm1 = 'i do not have time to complete my assignment.how many times can i upload the assignments?who will score my assignment?when can i see my assignment score?till which date i can complete assignments?what if i do not complete the assignments on the time? what if i do not attempt the assignments?where can i see my progress?what should i do if i did not score 70% for my assignment?who can i approach to reset my assignment?why i can’t log into the learn-on-demand?where do i upload the lab assignment?why can’t i see the upload button in the lms?why can’t i launch the lab?where do i get the template?what is the site to access my e-book?can i download or print the e-book?do you have a hard copy of the e-book?is it compulsory to attend the mentoring session?i am not able to attend the mentoring session.how was the attendance capture for the mentoring session?i have no issue with my assignment. can i skip the mentoring session?i have completed my assignment in advance. can i skip the mentoring session?what is the next step?when is my next flipped class?what should i prepare for my next flipped class?what if i cannot attend the next flipped class. what can i do?is there any make-up flipped class?do i have to submit my assignment during flipped class?i have no issue with my assignment. can i skip the mentoring session?'\n",
    "pm1_pi1 = 'i do not have time to complete my assignment.how many times can i upload the assignments?who will score my assignment?when can i see my assignment score?till which date i can complete assignments?what if i do not complete the assignments on the time?what if i do not attempt the assignments?where can i see my progress?what should i do if i did not score 70% for my assignment?who can i approach to reset my assignment?why i can’t log into the learn-on-demand?where do i upload the lab assignment?why can’t i see the upload button in the lms?why can’t i launch the lab?where do i get the template?what is the site to access my e-book?can i download or print the e-book?do you have a hard copy of the e-book?is it compulsory to attend the mentoring session?i am not able to attend the mentoring session.how was the attendance capture for the mentoring session?i have no issue with my assignment. can i skip the mentoring session?i have completed my assignment in advance. can i skip the mentoring session?what is the next step?when is my next flipped class?what should i prepare for my next flipped class?what if i cannot attend the next flipped class. what can i do?is there any make-up flipped class?do i have to submit my assignment during flipped class?do you have a hard copy of the e-book?'"
   ]
  },
  {
   "cell_type": "code",
   "execution_count": 7,
   "metadata": {},
   "outputs": [],
   "source": [
    "# Irritating nltk.sent_tokenizer recognizes sentences by .!? and space behind\n",
    "# So need to add spaces\n",
    "soc_days = soc_days.replace('?', '? ').replace('!', '! ').replace('.', '. ')\n",
    "data_lower = soc_days"
   ]
  },
  {
   "cell_type": "code",
   "execution_count": 8,
   "metadata": {},
   "outputs": [],
   "source": [
    "\n",
    "\n",
    "# Converting to word & sentence tokens\n",
    "sent_token = nltk.sent_tokenize(data_lower)\n",
    "word_token = nltk.word_tokenize(data_lower)"
   ]
  },
  {
   "cell_type": "code",
   "execution_count": 9,
   "metadata": {},
   "outputs": [],
   "source": [
    "lemmer = nltk.stem.WordNetLemmatizer()\n",
    "\n",
    "def LemTokens(tokens):\n",
    "    return [lemmer.lemmatize(token) for token in tokens]\n",
    "\n",
    "remove_punct_dict = dict((ord(punct), None) for punct in string.punctuation)\n",
    "\n",
    "def LemNormalize(text):\n",
    "    return LemTokens(nltk.word_tokenize(text.lower().translate(remove_punct_dict)))"
   ]
  },
  {
   "cell_type": "code",
   "execution_count": 10,
   "metadata": {},
   "outputs": [],
   "source": [
    "greet_input = ['hello', 'hi', 'greetings', 'sup',\n",
    "               \"what's up\", 'hey', 'yo', 'henlo']\n",
    "greet_reply = ['Hello nigga', 'Hi homie', 'Yo wassup', 'Ni hao',\n",
    "               'Konichiwa', 'Annyeong haseyo', 'Sawadikap']\n",
    "\n",
    "def greeting(sentence): \n",
    "    for word in sentence.split():\n",
    "        if word.lower() in greet_input:\n",
    "            return random.choice(greet_reply)"
   ]
  },
  {
   "cell_type": "code",
   "execution_count": 11,
   "metadata": {},
   "outputs": [],
   "source": [
    "def response(user_input):\n",
    "    global index, flat, index\n",
    "    bot_response = ''\n",
    "    sent_token.append(user_input)\n",
    "    \n",
    "    TfidfVec = TfidfVectorizer(tokenizer=LemNormalize, stop_words=stopwords, ngram_range=(1,2))\n",
    "#    TfidfVec = TfidfVectorizer(tokenizer=LemNormalize, stop_words=stopwords, ngram_range=(1,2))\n",
    "    tfidf = TfidfVec.fit_transform(sent_token)\n",
    "    cosine_vals = cosine_similarity(tfidf[-1], tfidf)\n",
    "#    cvec = CountVectorizer(tokenizer=LemNormalize, \n",
    "#                           stop_words='english',\n",
    "#                           ngram_range=(1,2))\n",
    "#    cvector = cvec.fit_transform(sent_token)\n",
    "#    cosine_vals = cosine_similarity(cvector[-1], cvector)\n",
    "    \n",
    "    # Use to index out the matched response after sorting it\n",
    "    # [-2] means 2nd from behind, use -2 because -1 is the input sentence\n",
    "    # So, -2 is the next best score for cosine similarity\n",
    "    index = cosine_vals.argsort()[0][-2]\n",
    "    \n",
    "    flat = cosine_vals.flatten()\n",
    "    flat.sort()\n",
    "    \n",
    "    matched_cosine = flat[-2]\n",
    "    \n",
    "    if matched_cosine == 0:\n",
    "        bot_response = bot_response + \"I'm sorry, I do not understand you.\"\n",
    "    \n",
    "    else:\n",
    "        try:\n",
    "            bot_response = bot_response + qandadb[(qandadb['questions'].str.contains(sent_token[index]))]['resp'][qandadb[qandadb['questions'] == sent_token[index]]['resp'].index[0]]\n",
    "        except:\n",
    "            bot_response = bot_response + qandadb[(qandadb['questions'].str.contains(sent_token[index]))]\n",
    "        # library[sent_token[index]]\n",
    "        return bot_response"
   ]
  },
  {
   "cell_type": "code",
   "execution_count": null,
   "metadata": {},
   "outputs": [
    {
     "name": "stdout",
     "output_type": "stream",
     "text": [
      "Hello, please ask me a question!\n",
      "pay with skills future?\n",
      "Bot: "
     ]
    },
    {
     "name": "stderr",
     "output_type": "stream",
     "text": [
      "C:\\Users\\kengw\\Anaconda3\\lib\\site-packages\\sklearn\\feature_extraction\\text.py:300: UserWarning: Your stop_words may be inconsistent with your preprocessing. Tokenizing the stop words generated tokens ['arent', 'couldnt', 'didnt', 'doe', 'doesnt', 'dont', 'ha', 'hadnt', 'hasnt', 'havent', 'isnt', 'mightnt', 'mustnt', 'neednt', 'shant', 'shes', 'shouldnt', 'shouldve', 'thatll', 'wa', 'wasnt', 'werent', 'wont', 'wouldnt', 'youd', 'youll', 'youre', 'youve'] not in stop_words.\n",
      "  'stop_words.' % sorted(inconsistent))\n"
     ]
    },
    {
     "name": "stdout",
     "output_type": "stream",
     "text": [
      "For payment via SFC, you are to place you claim via SkillFuture Credit website using your NRIC and your SingPass. Link: www.myskillsfuture.sg. A copy of the module invoice is required. You may request your LA for the invoice.\n",
      "Cosine Similarity Values:  [0.         0.         0.         0.         0.         0.\n",
      " 0.         0.         0.         0.         0.         0.\n",
      " 0.         0.         0.         0.         0.         0.\n",
      " 0.         0.         0.21249242 0.8081374  1.        ]\n",
      "Matched Question:  how do i pay with my skills future credits?\n",
      "2nd Best Match:  i want to meet with my consultant.\n",
      "3rd Best Match: can i request for an extension of payment?\n",
      "7\n",
      "No, i don't need help\n",
      "Bot: "
     ]
    },
    {
     "name": "stderr",
     "output_type": "stream",
     "text": [
      "C:\\Users\\kengw\\Anaconda3\\lib\\site-packages\\sklearn\\feature_extraction\\text.py:300: UserWarning: Your stop_words may be inconsistent with your preprocessing. Tokenizing the stop words generated tokens ['arent', 'couldnt', 'didnt', 'doe', 'doesnt', 'dont', 'ha', 'hadnt', 'hasnt', 'havent', 'isnt', 'mightnt', 'mustnt', 'neednt', 'shant', 'shes', 'shouldnt', 'shouldve', 'thatll', 'wa', 'wasnt', 'werent', 'wont', 'wouldnt', 'youd', 'youll', 'youre', 'youve'] not in stop_words.\n",
      "  'stop_words.' % sorted(inconsistent))\n"
     ]
    },
    {
     "name": "stdout",
     "output_type": "stream",
     "text": [
      "Awesome! I’ll be here if you need any assistance. Otherwise, Happy Learning!\n",
      "Cosine Similarity Values:  [0.         0.         0.         0.         0.         0.\n",
      " 0.         0.         0.         0.         0.         0.\n",
      " 0.         0.         0.         0.         0.         0.\n",
      " 0.         0.13945344 0.51804888 0.69091913 1.        ]\n",
      "Matched Question:  no, i do not need help.\n",
      "2nd Best Match:  when must i submit my sfc?\n",
      "3rd Best Match: how do i pay with my sfc?\n",
      "10\n",
      "i need help\n",
      "Bot: "
     ]
    },
    {
     "name": "stderr",
     "output_type": "stream",
     "text": [
      "C:\\Users\\kengw\\Anaconda3\\lib\\site-packages\\sklearn\\feature_extraction\\text.py:300: UserWarning: Your stop_words may be inconsistent with your preprocessing. Tokenizing the stop words generated tokens ['arent', 'couldnt', 'didnt', 'doe', 'doesnt', 'dont', 'ha', 'hadnt', 'hasnt', 'havent', 'isnt', 'mightnt', 'mustnt', 'neednt', 'shant', 'shes', 'shouldnt', 'shouldve', 'thatll', 'wa', 'wasnt', 'werent', 'wont', 'wouldnt', 'youd', 'youll', 'youre', 'youve'] not in stop_words.\n",
      "  'stop_words.' % sorted(inconsistent))\n"
     ]
    },
    {
     "name": "stdout",
     "output_type": "stream",
     "text": [
      "Awesome! I’ll be here if you need any assistance. Otherwise, Happy Learning!\n",
      "Cosine Similarity Values:  [0.         0.         0.         0.         0.         0.\n",
      " 0.         0.         0.         0.         0.         0.\n",
      " 0.         0.         0.         0.         0.         0.\n",
      " 0.         0.20183757 0.7497967  1.         1.        ]\n",
      "Matched Question:  no, i do not need help.\n",
      "2nd Best Match:  when must i submit my sfc?\n",
      "3rd Best Match: how do i pay with my sfc?\n",
      "10\n",
      "yes, i need help\n",
      "Bot: "
     ]
    },
    {
     "name": "stderr",
     "output_type": "stream",
     "text": [
      "C:\\Users\\kengw\\Anaconda3\\lib\\site-packages\\sklearn\\feature_extraction\\text.py:300: UserWarning: Your stop_words may be inconsistent with your preprocessing. Tokenizing the stop words generated tokens ['arent', 'couldnt', 'didnt', 'doe', 'doesnt', 'dont', 'ha', 'hadnt', 'hasnt', 'havent', 'isnt', 'mightnt', 'mustnt', 'neednt', 'shant', 'shes', 'shouldnt', 'shouldve', 'thatll', 'wa', 'wasnt', 'werent', 'wont', 'wouldnt', 'youd', 'youll', 'youre', 'youve'] not in stop_words.\n",
      "  'stop_words.' % sorted(inconsistent))\n"
     ]
    },
    {
     "name": "stdout",
     "output_type": "stream",
     "text": [
      "How can we help you?\n",
      "Cosine Similarity Values:  [0.         0.         0.         0.         0.         0.\n",
      " 0.         0.         0.         0.         0.         0.\n",
      " 0.         0.         0.         0.         0.         0.\n",
      " 0.13528034 0.5157619  0.77880697 1.         1.        ]\n",
      "Matched Question:  yes, i need help.\n",
      "2nd Best Match:  no, i do not need help.\n",
      "3rd Best Match: when must i submit my sfc?\n",
      "11\n",
      "i need help\n",
      "Bot: "
     ]
    },
    {
     "name": "stderr",
     "output_type": "stream",
     "text": [
      "C:\\Users\\kengw\\Anaconda3\\lib\\site-packages\\sklearn\\feature_extraction\\text.py:300: UserWarning: Your stop_words may be inconsistent with your preprocessing. Tokenizing the stop words generated tokens ['arent', 'couldnt', 'didnt', 'doe', 'doesnt', 'dont', 'ha', 'hadnt', 'hasnt', 'havent', 'isnt', 'mightnt', 'mustnt', 'neednt', 'shant', 'shes', 'shouldnt', 'shouldve', 'thatll', 'wa', 'wasnt', 'werent', 'wont', 'wouldnt', 'youd', 'youll', 'youre', 'youve'] not in stop_words.\n",
      "  'stop_words.' % sorted(inconsistent))\n"
     ]
    },
    {
     "name": "stdout",
     "output_type": "stream",
     "text": [
      "Awesome! I’ll be here if you need any assistance. Otherwise, Happy Learning!\n",
      "Cosine Similarity Values:  [0.         0.         0.         0.         0.         0.\n",
      " 0.         0.         0.         0.         0.         0.\n",
      " 0.         0.         0.         0.         0.         0.\n",
      " 0.         0.20183757 0.7497967  1.         1.        ]\n",
      "Matched Question:  no, i do not need help.\n",
      "2nd Best Match:  when must i submit my sfc?\n",
      "3rd Best Match: how do i pay with my sfc?\n",
      "10\n",
      "Yes, i do not need help\n",
      "Bot: "
     ]
    },
    {
     "name": "stderr",
     "output_type": "stream",
     "text": [
      "C:\\Users\\kengw\\Anaconda3\\lib\\site-packages\\sklearn\\feature_extraction\\text.py:300: UserWarning: Your stop_words may be inconsistent with your preprocessing. Tokenizing the stop words generated tokens ['arent', 'couldnt', 'didnt', 'doe', 'doesnt', 'dont', 'ha', 'hadnt', 'hasnt', 'havent', 'isnt', 'mightnt', 'mustnt', 'neednt', 'shant', 'shes', 'shouldnt', 'shouldve', 'thatll', 'wa', 'wasnt', 'werent', 'wont', 'wouldnt', 'youd', 'youll', 'youre', 'youve'] not in stop_words.\n",
      "  'stop_words.' % sorted(inconsistent))\n"
     ]
    },
    {
     "name": "stdout",
     "output_type": "stream",
     "text": [
      "How can we help you?\n",
      "Cosine Similarity Values:  [0.         0.         0.         0.         0.         0.\n",
      " 0.         0.         0.         0.         0.         0.\n",
      " 0.         0.         0.         0.         0.         0.\n",
      " 0.13528034 0.5157619  0.77880697 1.         1.        ]\n",
      "Matched Question:  yes, i need help.\n",
      "2nd Best Match:  no, i do not need help.\n",
      "3rd Best Match: when must i submit my sfc?\n",
      "11\n",
      "How can i contact my mentor online?\n",
      "Bot: "
     ]
    },
    {
     "name": "stderr",
     "output_type": "stream",
     "text": [
      "C:\\Users\\kengw\\Anaconda3\\lib\\site-packages\\sklearn\\feature_extraction\\text.py:300: UserWarning: Your stop_words may be inconsistent with your preprocessing. Tokenizing the stop words generated tokens ['arent', 'couldnt', 'didnt', 'doe', 'doesnt', 'dont', 'ha', 'hadnt', 'hasnt', 'havent', 'isnt', 'mightnt', 'mustnt', 'neednt', 'shant', 'shes', 'shouldnt', 'shouldve', 'thatll', 'wa', 'wasnt', 'werent', 'wont', 'wouldnt', 'youd', 'youll', 'youre', 'youve'] not in stop_words.\n",
      "  'stop_words.' % sorted(inconsistent))\n"
     ]
    },
    {
     "name": "stdout",
     "output_type": "stream",
     "text": [
      "You can contact your mentor through email between 9 am to 7pm.\n",
      "Cosine Similarity Values:  [0.         0.         0.         0.         0.         0.\n",
      " 0.         0.         0.         0.         0.         0.\n",
      " 0.         0.         0.         0.         0.         0.097899\n",
      " 0.10827378 0.10827378 0.72131137 0.78704746 1.        ]\n",
      "Matched Question:  how do i contact my mentor for online support?\n",
      "2nd Best Match:  when can i contact my mentor?\n",
      "3rd Best Match: how does the attendance work?\n",
      "19\n",
      "What time can contact mentor?\n",
      "Bot: "
     ]
    },
    {
     "name": "stderr",
     "output_type": "stream",
     "text": [
      "C:\\Users\\kengw\\Anaconda3\\lib\\site-packages\\sklearn\\feature_extraction\\text.py:300: UserWarning: Your stop_words may be inconsistent with your preprocessing. Tokenizing the stop words generated tokens ['arent', 'couldnt', 'didnt', 'doe', 'doesnt', 'dont', 'ha', 'hadnt', 'hasnt', 'havent', 'isnt', 'mightnt', 'mustnt', 'neednt', 'shant', 'shes', 'shouldnt', 'shouldve', 'thatll', 'wa', 'wasnt', 'werent', 'wont', 'wouldnt', 'youd', 'youll', 'youre', 'youve'] not in stop_words.\n",
      "  'stop_words.' % sorted(inconsistent))\n"
     ]
    },
    {
     "name": "stdout",
     "output_type": "stream",
     "text": [
      "You can contact your mentor through email between 9 am to 7pm.\n",
      "Cosine Similarity Values:  [0.         0.         0.         0.         0.         0.\n",
      " 0.         0.         0.         0.         0.         0.\n",
      " 0.         0.         0.         0.         0.         0.09190706\n",
      " 0.10164685 0.10164685 0.36933636 0.67716326 1.        ]\n",
      "Matched Question:  when can i contact my mentor?\n",
      "2nd Best Match:  how does the attendance work?\n",
      "3rd Best Match: how do we take attendance?\n",
      "18\n"
     ]
    }
   ],
   "source": [
    "flag=True\n",
    "print(\"Hello, please ask me a question!\")\n",
    "while(flag==True):\n",
    "    user_input = input()\n",
    "    user_input = user_input.lower()\n",
    "    \n",
    "    if greeting(user_input) != None:\n",
    "        print(\"Bot: \" + greeting(user_input))\n",
    "    \n",
    "    elif user_input == 'thanks' or user_input == 'thank you' or user_input == 'bye':\n",
    "        flag=False\n",
    "        print(\"Bot: Bye! take care..\")\n",
    "    \n",
    "    elif user_input != 'bye' or user_input != 'thanks' or user_input != 'thank you':\n",
    "        print(\"Bot: \", end= \"\")\n",
    "        print(response(user_input))\n",
    "#        print(qandadb[(qandadb['questions'].str.contains(sent_token[index]))]['resp'])\n",
    "        print('Cosine Similarity Values: ', flat)\n",
    "        print('Matched Question: ', sent_token[index])\n",
    "        print('2nd Best Match: ', sent_token[index-1])\n",
    "        print('3rd Best Match:', sent_token[index-2])\n",
    "        print(index)\n",
    "        sent_token.remove(user_input)"
   ]
  },
  {
   "cell_type": "code",
   "execution_count": null,
   "metadata": {},
   "outputs": [],
   "source": [
    "LemNormalize('Yes, I have made my payment with my Consultant.')"
   ]
  },
  {
   "cell_type": "code",
   "execution_count": null,
   "metadata": {},
   "outputs": [],
   "source": [
    "LemNormalize('How to make payment?')"
   ]
  },
  {
   "cell_type": "raw",
   "metadata": {},
   "source": [
    "*** WITH STOP WORDS ***\n",
    "Thank you. We will inform our Finance and your account shall be updated once verified.\n",
    "Cosine Similarity Values:  [0.         0.         0.         0.         0.         0.\n",
    " 0.         0.         0.         0.         0.         0.06782418\n",
    " 0.07420444 0.08274494 0.08521389 0.12273505 0.44047912 1.        ]\n",
    "Matched Question:  yes, i have settled my payment with my consultant.\n",
    "2nd Best Match:  fuck you la bot, i already settled my payment\n",
    "3rd Best Match: how many types of communication channel to contact mentor?\n",
    "0\n",
    "\n",
    "*** STANDARD STOP WORDS***\n",
    "Thank you. We will inform our Finance and your account shall be updated once verified.\n",
    "Cosine Similarity Values:  [0.         0.         0.         0.         0.         0.\n",
    " 0.         0.         0.         0.         0.         0.04753399\n",
    " 0.05799108 0.05972142 0.0667378  0.08601781 0.30870601 1.        ]\n",
    "Matched Question:  yes, i have settled my payment with my consultant.\n",
    "2nd Best Match:  fuck you la bot, i already settled my payment\n",
    "3rd Best Match: how many types of communication channel to contact mentor?\n",
    "0\n",
    "\n",
    "***STANDARD STOP WORDS***\n",
    "Here is how you read your timetable.\n",
    "Cosine Similarity Values:  [0.         0.         0.         0.         0.         0.\n",
    " 0.         0.         0.         0.         0.         0.\n",
    " 0.         0.         0.         0.         0.43230351 1.        ]\n",
    "Matched Question:  how do i read the timetable?\n",
    "2nd Best Match:  yes, i want to meet the mentor.\n",
    "3rd Best Match: yes, i need assistance.\n",
    "13\n",
    "\n",
    "*** WITH STOP WORDS ***\n",
    "Here is how you read your timetable.\n",
    "Cosine Similarity Values:  [0.         0.         0.         0.         0.         0.\n",
    " 0.         0.         0.         0.         0.         0.\n",
    " 0.         0.         0.         0.         0.47241989 1.        ]\n",
    "Matched Question:  how do i read the timetable?\n",
    "2nd Best Match:  yes, i want to meet the mentor.\n",
    "3rd Best Match: yes, i need assistance."
   ]
  }
 ],
 "metadata": {
  "kernelspec": {
   "display_name": "Python 3",
   "language": "python",
   "name": "python3"
  },
  "language_info": {
   "codemirror_mode": {
    "name": "ipython",
    "version": 3
   },
   "file_extension": ".py",
   "mimetype": "text/x-python",
   "name": "python",
   "nbconvert_exporter": "python",
   "pygments_lexer": "ipython3",
   "version": "3.7.1"
  }
 },
 "nbformat": 4,
 "nbformat_minor": 2
}
