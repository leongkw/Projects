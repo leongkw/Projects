{
 "cells": [
  {
   "cell_type": "code",
   "execution_count": 27,
   "metadata": {},
   "outputs": [],
   "source": [
    "import numpy as np\n",
    "from gensim.models.doc2vec import Doc2Vec, TaggedDocument\n",
    "import pandas as pd\n",
    "\n",
    "\n",
    "from nltk.tokenize import word_tokenize\n",
    "from sklearn.metrics.pairwise import cosine_similarity\n",
    "from nltk.stem import WordNetLemmatizer\n",
    "from nltk.tokenize import sent_tokenize, word_tokenize\n",
    "\n",
    "import warnings\n",
    "warnings.filterwarnings('ignore')"
   ]
  },
  {
   "cell_type": "code",
   "execution_count": 8,
   "metadata": {},
   "outputs": [],
   "source": [
    "# Conclusion Doc2Vec needs alot more data - A few million rows\n",
    "# Nothing to test now"
   ]
  },
  {
   "cell_type": "code",
   "execution_count": 30,
   "metadata": {},
   "outputs": [],
   "source": [
    "qasmall = pd.read_excel('tagging.xlsx')\n",
    "qabig = pd.read_excel('q&adatabaseexpanded.xlsx')\n",
    "\n",
    "qasmall['prompt'] = qasmall['prompt'].map(lambda x: x.lower())\n",
    "qabig['prompt'] = qabig['prompt'].map(lambda x: x.lower())"
   ]
  },
  {
   "cell_type": "code",
   "execution_count": 31,
   "metadata": {},
   "outputs": [],
   "source": [
    "prompts = []\n",
    "for i in qabig['prompt'].values:\n",
    "    prompts.append(i)"
   ]
  },
  {
   "cell_type": "code",
   "execution_count": null,
   "metadata": {},
   "outputs": [],
   "source": [
    "flag = True\n",
    "print('Hello, please ask me a question!')\n",
    "while flag == True:\n",
    "    # Taking in user inputs, converting it to lower case\n",
    "    user_input = input()\n",
    "    user_input = user_input.lower()\n",
    "    # Constructing a blank string for bot response\n",
    "    bot_response = ''\n",
    "    \n",
    "    # Creating a blank list, then populating the list with all the prompts\n",
    "    prompts = []\n",
    "    for sentence in qabig['prompt'].values:\n",
    "        prompts.append(sentence)\n",
    "    \n",
    "    # Adding the user's input to the end of the populated prompt list\n",
    "    prompts.append(user_input)\n",
    "    \n",
    "    # Converting to format that Doc2Vec can read\n",
    "    tagged_prompts = [TaggedDocument(words=word_tokenize(_d.lower()), \n",
    "                                 tags=[str(i)]) for i, _d in enumerate(prompts)]\n",
    "    \n",
    "    # Initializing doc2vec model\n",
    "    model = Doc2Vec(vector_size=50, \n",
    "                alpha=0.025, \n",
    "                min_alpha=0.00025, \n",
    "                min_count=1, dm=1, \n",
    "                epochs=40)\n",
    "    \n",
    "    model.build_vocab(tagged_prompts)\n",
    "    model.train(tagged_prompts, \n",
    "                total_examples=model.corpus_count, \n",
    "                epochs=40)\n",
    "    cosine_vals = cosine_similarity\n",
    "    \n",
    "    \n",
    "    \n",
    "    \n",
    "    "
   ]
  },
  {
   "cell_type": "code",
   "execution_count": 33,
   "metadata": {},
   "outputs": [],
   "source": [
    "tagged_prompts = [TaggedDocument(words=word_tokenize(_d.lower()), \n",
    "                                 tags=[str(i)]) for i, _d in enumerate(prompts)]"
   ]
  },
  {
   "cell_type": "code",
   "execution_count": 34,
   "metadata": {},
   "outputs": [],
   "source": [
    "model = Doc2Vec(vector_size=50, \n",
    "                alpha=0.025, \n",
    "                min_alpha=0.00025, \n",
    "                min_count=1, dm=1, \n",
    "                epochs=40)"
   ]
  },
  {
   "cell_type": "code",
   "execution_count": 35,
   "metadata": {},
   "outputs": [],
   "source": [
    "model.build_vocab(tagged_prompts)"
   ]
  },
  {
   "cell_type": "code",
   "execution_count": 36,
   "metadata": {},
   "outputs": [],
   "source": [
    "model.train(tagged_prompts, total_examples=model.corpus_count, epochs=40)"
   ]
  },
  {
   "cell_type": "raw",
   "metadata": {},
   "source": [
    "test = word_tokenize(\"What is my mentor's hand phone number?\".lower())\n",
    "v1 = model.infer_vector(test)\n",
    "print(v1)\n",
    "\n",
    "similar = model.docvecs.most_similar(v1)"
   ]
  },
  {
   "cell_type": "raw",
   "metadata": {},
   "source": [
    "test = word_tokenize(\"What is my mentor's hand phone number?\".lower())\n",
    "vector = model.infer_vector(test)\n",
    "vector"
   ]
  },
  {
   "cell_type": "raw",
   "metadata": {},
   "source": [
    "tokens = \"What is my mentor's phone number?\".split()\n",
    "\n",
    "new_vector = model.infer_vector(tokens)\n",
    "sims = model.docvecs.most_similar([new_vector]) #gives you top 10 document tags and their cosine similarity"
   ]
  },
  {
   "cell_type": "code",
   "execution_count": 37,
   "metadata": {},
   "outputs": [
    {
     "ename": "NameError",
     "evalue": "name 'sims' is not defined",
     "output_type": "error",
     "traceback": [
      "\u001b[1;31m---------------------------------------------------------------------------\u001b[0m",
      "\u001b[1;31mNameError\u001b[0m                                 Traceback (most recent call last)",
      "\u001b[1;32m<ipython-input-37-d920b18ecdd2>\u001b[0m in \u001b[0;36m<module>\u001b[1;34m\u001b[0m\n\u001b[1;32m----> 1\u001b[1;33m \u001b[0msims\u001b[0m\u001b[1;33m\u001b[0m\u001b[1;33m\u001b[0m\u001b[0m\n\u001b[0m",
      "\u001b[1;31mNameError\u001b[0m: name 'sims' is not defined"
     ]
    }
   ],
   "source": [
    "sims"
   ]
  },
  {
   "cell_type": "markdown",
   "metadata": {},
   "source": [
    "mode.docvecs"
   ]
  },
  {
   "cell_type": "code",
   "execution_count": null,
   "metadata": {},
   "outputs": [],
   "source": []
  }
 ],
 "metadata": {
  "kernelspec": {
   "display_name": "Python 3",
   "language": "python",
   "name": "python3"
  },
  "language_info": {
   "codemirror_mode": {
    "name": "ipython",
    "version": 3
   },
   "file_extension": ".py",
   "mimetype": "text/x-python",
   "name": "python",
   "nbconvert_exporter": "python",
   "pygments_lexer": "ipython3",
   "version": "3.7.1"
  }
 },
 "nbformat": 4,
 "nbformat_minor": 2
}
