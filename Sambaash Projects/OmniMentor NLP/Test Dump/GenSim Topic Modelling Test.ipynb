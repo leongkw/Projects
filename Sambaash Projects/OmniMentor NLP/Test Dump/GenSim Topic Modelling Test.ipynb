{
 "cells": [
  {
   "cell_type": "code",
   "execution_count": 4,
   "metadata": {},
   "outputs": [],
   "source": [
    "import numpy as np\n",
    "import pandas as pd\n",
    "from pprint import pprint\n",
    "\n",
    "\n",
    "# Regular Expressions Library\n",
    "import re\n",
    "\n",
    "import gensim\n",
    "import gensim.corpora as corpora\n",
    "from gensim.utils import simple_preprocess\n",
    "from gensim.models import CoherenceModel\n",
    "\n",
    "# Spacy for lemmatization\n",
    "import spacy\n",
    "\n",
    "# Import plotting tools\n",
    "import pyLDAvis\n",
    "import pyLDAvis.gensim\n",
    "import matplotlib.pyplot as plt\n",
    "%matplotlib inline\n",
    "\n",
    "# nltk related libraries\n",
    "import nltk\n",
    "from nltk.corpus import stopwords"
   ]
  },
  {
   "cell_type": "code",
   "execution_count": 5,
   "metadata": {},
   "outputs": [],
   "source": [
    "# Preparing stopwords\n",
    "stopwords = stopwords.words('english')\n",
    "\n",
    "# Adding new words into the stopwords l"
   ]
  },
  {
   "cell_type": "code",
   "execution_count": 6,
   "metadata": {},
   "outputs": [],
   "source": [
    "# Loading in the newsgroup dataset\n",
    "df = pd.read_json('https://raw.githubusercontent.com/selva86/datasets/master/newsgroups.json')"
   ]
  },
  {
   "cell_type": "code",
   "execution_count": null,
   "metadata": {},
   "outputs": [],
   "source": [
    "# Target_names is the category that the email belongs to\n",
    "# Target is the numerical representation that the email belongs to\n",
    "pprint(df.target_names.unique())\n",
    "df.head()"
   ]
  },
  {
   "cell_type": "code",
   "execution_count": 7,
   "metadata": {},
   "outputs": [
    {
     "name": "stdout",
     "output_type": "stream",
     "text": [
      "(\"From: lerxst@wam.umd.edu (where's my thing)\\n\"\n",
      " 'Subject: WHAT car is this!?\\n'\n",
      " 'Nntp-Posting-Host: rac3.wam.umd.edu\\n'\n",
      " 'Organization: University of Maryland, College Park\\n'\n",
      " 'Lines: 15\\n'\n",
      " '\\n'\n",
      " ' I was wondering if anyone out there could enlighten me on this car I saw\\n'\n",
      " 'the other day. It was a 2-door sports car, looked to be from the late 60s/\\n'\n",
      " 'early 70s. It was called a Bricklin. The doors were really small. In '\n",
      " 'addition,\\n'\n",
      " 'the front bumper was separate from the rest of the body. This is \\n'\n",
      " 'all I know. If anyone can tellme a model name, engine specs, years\\n'\n",
      " 'of production, where this car is made, history, or whatever info you\\n'\n",
      " 'have on this funky looking car, please e-mail.\\n'\n",
      " '\\n'\n",
      " 'Thanks,\\n'\n",
      " '- IL\\n'\n",
      " '   ---- brought to you by your neighborhood Lerxst ----\\n'\n",
      " '\\n'\n",
      " '\\n'\n",
      " '\\n'\n",
      " '\\n')\n"
     ]
    }
   ],
   "source": [
    "# Let's take a look of what's inside the contents column\n",
    "pprint(df.iloc[0]['content'])"
   ]
  },
  {
   "cell_type": "code",
   "execution_count": 8,
   "metadata": {},
   "outputs": [
    {
     "name": "stderr",
     "output_type": "stream",
     "text": [
      "<>:5: DeprecationWarning: invalid escape sequence \\S\n",
      "<>:8: DeprecationWarning: invalid escape sequence \\s\n",
      "<>:5: DeprecationWarning: invalid escape sequence \\S\n",
      "<>:8: DeprecationWarning: invalid escape sequence \\s\n",
      "<>:5: DeprecationWarning: invalid escape sequence \\S\n",
      "<>:8: DeprecationWarning: invalid escape sequence \\s\n",
      "<ipython-input-8-47f27e95bee7>:5: DeprecationWarning: invalid escape sequence \\S\n",
      "  data = [re.sub('\\S*@\\S*\\s?', '', x) for x in data]\n",
      "<ipython-input-8-47f27e95bee7>:8: DeprecationWarning: invalid escape sequence \\s\n",
      "  data = [re.sub('\\s+', ' ', sent) for sent in data]\n"
     ]
    }
   ],
   "source": [
    "# Converting the data in a list\n",
    "data = df.content.values.tolist()\n",
    "\n",
    "# Removing the emails with regular expression\n",
    "data = [re.sub('\\S*@\\S*\\s?', '', x) for x in data]\n",
    "\n",
    "# Removing \\n\n",
    "data = [re.sub('\\s+', ' ', sent) for sent in data]\n",
    "\n",
    "# Remove distracting single quotes\n",
    "data = [re.sub(\"\\'\", \"\", y) for y in data]"
   ]
  },
  {
   "cell_type": "code",
   "execution_count": 9,
   "metadata": {},
   "outputs": [
    {
     "name": "stdout",
     "output_type": "stream",
     "text": [
      "['From: (wheres my thing) Subject: WHAT car is this!? Nntp-Posting-Host: '\n",
      " 'rac3.wam.umd.edu Organization: University of Maryland, College Park Lines: '\n",
      " '15 I was wondering if anyone out there could enlighten me on this car I saw '\n",
      " 'the other day. It was a 2-door sports car, looked to be from the late 60s/ '\n",
      " 'early 70s. It was called a Bricklin. The doors were really small. In '\n",
      " 'addition, the front bumper was separate from the rest of the body. This is '\n",
      " 'all I know. If anyone can tellme a model name, engine specs, years of '\n",
      " 'production, where this car is made, history, or whatever info you have on '\n",
      " 'this funky looking car, please e-mail. Thanks, - IL ---- brought to you by '\n",
      " 'your neighborhood Lerxst ---- ']\n"
     ]
    }
   ],
   "source": [
    "pprint(data[:1])"
   ]
  },
  {
   "cell_type": "code",
   "execution_count": 10,
   "metadata": {},
   "outputs": [],
   "source": [
    "# Using GenSim's simple_preproess function to remove punctuations\n",
    "# And to change it into a list of list of individual words\n",
    "# Each sublist is one 'document/sentence'\n",
    "# deacc=True is a parameter that controls whether punctuations are removed\n",
    "def sentence_to_words(sentences):\n",
    "    for sentence in sentences:\n",
    "        yield(gensim.utils.simple_preprocess(str(sentence), deacc=True))"
   ]
  },
  {
   "cell_type": "code",
   "execution_count": 11,
   "metadata": {},
   "outputs": [
    {
     "name": "stdout",
     "output_type": "stream",
     "text": [
      "[['from', 'wheres', 'my', 'thing', 'subject', 'what', 'car', 'is', 'this', 'nntp', 'posting', 'host', 'rac', 'wam', 'umd', 'edu', 'organization', 'university', 'of', 'maryland', 'college', 'park', 'lines', 'was', 'wondering', 'if', 'anyone', 'out', 'there', 'could', 'enlighten', 'me', 'on', 'this', 'car', 'saw', 'the', 'other', 'day', 'it', 'was', 'door', 'sports', 'car', 'looked', 'to', 'be', 'from', 'the', 'late', 'early', 'it', 'was', 'called', 'bricklin', 'the', 'doors', 'were', 'really', 'small', 'in', 'addition', 'the', 'front', 'bumper', 'was', 'separate', 'from', 'the', 'rest', 'of', 'the', 'body', 'this', 'is', 'all', 'know', 'if', 'anyone', 'can', 'tellme', 'model', 'name', 'engine', 'specs', 'years', 'of', 'production', 'where', 'this', 'car', 'is', 'made', 'history', 'or', 'whatever', 'info', 'you', 'have', 'on', 'this', 'funky', 'looking', 'car', 'please', 'mail', 'thanks', 'il', 'brought', 'to', 'you', 'by', 'your', 'neighborhood', 'lerxst'], ['from', 'guy', 'kuo', 'subject', 'si', 'clock', 'poll', 'final', 'call', 'summary', 'final', 'call', 'for', 'si', 'clock', 'reports', 'keywords', 'si', 'acceleration', 'clock', 'upgrade', 'article', 'shelley', 'qvfo', 'innc', 'organization', 'university', 'of', 'washington', 'lines', 'nntp', 'posting', 'host', 'carson', 'washington', 'edu', 'fair', 'number', 'of', 'brave', 'souls', 'who', 'upgraded', 'their', 'si', 'clock', 'oscillator', 'have', 'shared', 'their', 'experiences', 'for', 'this', 'poll', 'please', 'send', 'brief', 'message', 'detailing', 'your', 'experiences', 'with', 'the', 'procedure', 'top', 'speed', 'attained', 'cpu', 'rated', 'speed', 'add', 'on', 'cards', 'and', 'adapters', 'heat', 'sinks', 'hour', 'of', 'usage', 'per', 'day', 'floppy', 'disk', 'functionality', 'with', 'and', 'floppies', 'are', 'especially', 'requested', 'will', 'be', 'summarizing', 'in', 'the', 'next', 'two', 'days', 'so', 'please', 'add', 'to', 'the', 'network', 'knowledge', 'base', 'if', 'you', 'have', 'done', 'the', 'clock', 'upgrade', 'and', 'havent', 'answered', 'this', 'poll', 'thanks', 'guy', 'kuo']]\n"
     ]
    }
   ],
   "source": [
    "data = list(sentence_to_words(data))\n",
    "print(data[:2])"
   ]
  },
  {
   "cell_type": "code",
   "execution_count": 12,
   "metadata": {},
   "outputs": [],
   "source": [
    "# Building the bigram and trigram models\n",
    "# Higher threshold fewer phrases.\n",
    "### Go find out what each parameter do in detail ###\n",
    "bigram = gensim.models.Phrases(data, min_count=5, threshold=100) \n",
    "trigram = gensim.models.Phrases(bigram[data], threshold=100)  "
   ]
  },
  {
   "cell_type": "code",
   "execution_count": 13,
   "metadata": {},
   "outputs": [
    {
     "name": "stdout",
     "output_type": "stream",
     "text": [
      "['from', 'wheres', 'my', 'thing', 'subject', 'what', 'car', 'is', 'this', 'nntp_posting_host', 'rac_wam_umd_edu', 'organization', 'university', 'of', 'maryland_college_park', 'lines', 'was', 'wondering', 'if', 'anyone', 'out', 'there', 'could', 'enlighten', 'me', 'on', 'this', 'car', 'saw', 'the', 'other', 'day', 'it', 'was', 'door', 'sports', 'car', 'looked', 'to', 'be', 'from', 'the', 'late', 'early', 'it', 'was', 'called', 'bricklin', 'the', 'doors', 'were', 'really', 'small', 'in', 'addition', 'the', 'front_bumper', 'was', 'separate', 'from', 'the', 'rest', 'of', 'the', 'body', 'this', 'is', 'all', 'know', 'if', 'anyone', 'can', 'tellme', 'model', 'name', 'engine', 'specs', 'years', 'of', 'production', 'where', 'this', 'car', 'is', 'made', 'history', 'or', 'whatever', 'info', 'you', 'have', 'on', 'this', 'funky', 'looking', 'car', 'please', 'mail', 'thanks', 'il', 'brought', 'to', 'you', 'by', 'your', 'neighborhood', 'lerxst']\n"
     ]
    }
   ],
   "source": [
    "print(trigram[bigram[data[0]]])"
   ]
  },
  {
   "cell_type": "code",
   "execution_count": 14,
   "metadata": {},
   "outputs": [],
   "source": [
    "# Creating a function to remove stopwords, create bigrams & trigrams \n",
    "# and lemmatize the documents\n",
    "\n",
    "# Stopwords function\n",
    "def remove_stopwords(texts):\n",
    "    return [[word for word in simple_preprocess(str(doc)) if word not in stopwords] for doc in texts]\n",
    "\n",
    "# Bigrams function\n",
    "def make_bigrams(texts):\n",
    "    return [bigram[doc] for doc in texts]\n",
    "\n",
    "# Trigrams function\n",
    "def make_trigrams(texts):\n",
    "    return [trigram[bigram[doc]] for doc in texts]\n",
    "\n",
    "# Lemmatization function\n",
    "def lemmatization(texts, allowed_postags=['NOUN', 'ADJ', 'VERB', 'ADV']):\n",
    "    texts_out = []\n",
    "    for sent in texts:\n",
    "        doc = nlp(\" \".join(sent)) \n",
    "        texts_out.append([token.lemma_ for token in doc if token.pos_ in allowed_postags])\n",
    "    return texts_out"
   ]
  },
  {
   "cell_type": "code",
   "execution_count": 15,
   "metadata": {},
   "outputs": [
    {
     "name": "stdout",
     "output_type": "stream",
     "text": [
      "[['wheres',\n",
      "  'thing',\n",
      "  'subject',\n",
      "  'car',\n",
      "  'nntp',\n",
      "  'posting',\n",
      "  'host',\n",
      "  'rac',\n",
      "  'wam',\n",
      "  'umd',\n",
      "  'edu',\n",
      "  'organization',\n",
      "  'university',\n",
      "  'maryland',\n",
      "  'college',\n",
      "  'park',\n",
      "  'lines',\n",
      "  'wondering',\n",
      "  'anyone',\n",
      "  'could',\n",
      "  'enlighten',\n",
      "  'car',\n",
      "  'saw',\n",
      "  'day',\n",
      "  'door',\n",
      "  'sports',\n",
      "  'car',\n",
      "  'looked',\n",
      "  'late',\n",
      "  'early',\n",
      "  'called',\n",
      "  'bricklin',\n",
      "  'doors',\n",
      "  'really',\n",
      "  'small',\n",
      "  'addition',\n",
      "  'front',\n",
      "  'bumper',\n",
      "  'separate',\n",
      "  'rest',\n",
      "  'body',\n",
      "  'know',\n",
      "  'anyone',\n",
      "  'tellme',\n",
      "  'model',\n",
      "  'name',\n",
      "  'engine',\n",
      "  'specs',\n",
      "  'years',\n",
      "  'production',\n",
      "  'car',\n",
      "  'made',\n",
      "  'history',\n",
      "  'whatever',\n",
      "  'info',\n",
      "  'funky',\n",
      "  'looking',\n",
      "  'car',\n",
      "  'please',\n",
      "  'mail',\n",
      "  'thanks',\n",
      "  'il',\n",
      "  'brought',\n",
      "  'neighborhood',\n",
      "  'lerxst']]\n"
     ]
    }
   ],
   "source": [
    "# Removing stopwords\n",
    "data = remove_stopwords(data)\n",
    "pprint(data[:1])"
   ]
  },
  {
   "cell_type": "code",
   "execution_count": 16,
   "metadata": {},
   "outputs": [
    {
     "name": "stdout",
     "output_type": "stream",
     "text": [
      "[['wheres',\n",
      "  'thing',\n",
      "  'subject',\n",
      "  'car',\n",
      "  'nntp_posting',\n",
      "  'host',\n",
      "  'rac_wam',\n",
      "  'umd_edu',\n",
      "  'organization',\n",
      "  'university',\n",
      "  'maryland_college',\n",
      "  'park',\n",
      "  'lines',\n",
      "  'wondering',\n",
      "  'anyone',\n",
      "  'could',\n",
      "  'enlighten',\n",
      "  'car',\n",
      "  'saw',\n",
      "  'day',\n",
      "  'door',\n",
      "  'sports',\n",
      "  'car',\n",
      "  'looked',\n",
      "  'late',\n",
      "  'early',\n",
      "  'called',\n",
      "  'bricklin',\n",
      "  'doors',\n",
      "  'really',\n",
      "  'small',\n",
      "  'addition',\n",
      "  'front_bumper',\n",
      "  'separate',\n",
      "  'rest',\n",
      "  'body',\n",
      "  'know',\n",
      "  'anyone',\n",
      "  'tellme',\n",
      "  'model',\n",
      "  'name',\n",
      "  'engine',\n",
      "  'specs',\n",
      "  'years',\n",
      "  'production',\n",
      "  'car',\n",
      "  'made',\n",
      "  'history',\n",
      "  'whatever',\n",
      "  'info',\n",
      "  'funky',\n",
      "  'looking',\n",
      "  'car',\n",
      "  'please',\n",
      "  'mail',\n",
      "  'thanks',\n",
      "  'il',\n",
      "  'brought',\n",
      "  'neighborhood',\n",
      "  'lerxst']]\n"
     ]
    }
   ],
   "source": [
    "# Forming bigrams\n",
    "data = make_bigrams(data)\n",
    "pprint(data[:1])"
   ]
  },
  {
   "cell_type": "code",
   "execution_count": 17,
   "metadata": {},
   "outputs": [],
   "source": [
    "# Lemmatize words\n",
    "nlp = spacy.load('en_core_web_sm', disable=['parser', 'ner'])"
   ]
  },
  {
   "cell_type": "code",
   "execution_count": 18,
   "metadata": {},
   "outputs": [],
   "source": [
    "data = lemmatization(data, \n",
    "                     allowed_postags=['NOUN', 'ADJ', 'VERB', 'ADV'])"
   ]
  },
  {
   "cell_type": "code",
   "execution_count": 19,
   "metadata": {},
   "outputs": [
    {
     "data": {
      "text/plain": [
       "[['where',\n",
       "  's',\n",
       "  'thing',\n",
       "  'subject',\n",
       "  'car',\n",
       "  'nntp_poste',\n",
       "  'host',\n",
       "  'organization',\n",
       "  'university',\n",
       "  'maryland_college',\n",
       "  'park',\n",
       "  'line',\n",
       "  'wonder',\n",
       "  'anyone',\n",
       "  'could',\n",
       "  'enlighten',\n",
       "  'car',\n",
       "  'see',\n",
       "  'day',\n",
       "  'door',\n",
       "  'sport',\n",
       "  'car',\n",
       "  'look',\n",
       "  'late',\n",
       "  'early',\n",
       "  'call',\n",
       "  'bricklin',\n",
       "  'door',\n",
       "  'really',\n",
       "  'small',\n",
       "  'addition',\n",
       "  'front_bumper',\n",
       "  'separate',\n",
       "  'rest',\n",
       "  'body',\n",
       "  'know',\n",
       "  'anyone',\n",
       "  'tellme',\n",
       "  'model',\n",
       "  'name',\n",
       "  'engine',\n",
       "  'specs',\n",
       "  'year',\n",
       "  'production',\n",
       "  'car',\n",
       "  'make',\n",
       "  'history',\n",
       "  'info',\n",
       "  'funky',\n",
       "  'look',\n",
       "  'car',\n",
       "  'mail',\n",
       "  'thank',\n",
       "  'bring',\n",
       "  'neighborhood',\n",
       "  'lerxst']]"
      ]
     },
     "execution_count": 19,
     "metadata": {},
     "output_type": "execute_result"
    }
   ],
   "source": [
    "data[:1]"
   ]
  },
  {
   "cell_type": "code",
   "execution_count": 20,
   "metadata": {},
   "outputs": [],
   "source": [
    "# Creating the dictionary of words\n",
    "dict = corpora.Dictionary(data)\n",
    "## dict.token2id ## - Use to check the unique ids of each word"
   ]
  },
  {
   "cell_type": "code",
   "execution_count": 21,
   "metadata": {},
   "outputs": [
    {
     "name": "stdout",
     "output_type": "stream",
     "text": [
      "[[(0, 1), (1, 2), (2, 1), (3, 1), (4, 1), (5, 1), (6, 5), (7, 1), (8, 1), (9, 2), (10, 1), (11, 1), (12, 1), (13, 1), (14, 1), (15, 1), (16, 1), (17, 1), (18, 1), (19, 1), (20, 1), (21, 1), (22, 2), (23, 1), (24, 1), (25, 1), (26, 1), (27, 1), (28, 1), (29, 1), (30, 1), (31, 1), (32, 1), (33, 1), (34, 1), (35, 1), (36, 1), (37, 1), (38, 1), (39, 1), (40, 1), (41, 1), (42, 1), (43, 1), (44, 1), (45, 1), (46, 1), (47, 1), (48, 1)]]\n"
     ]
    }
   ],
   "source": [
    "# Creating the corpus\n",
    "corpus = [dict.doc2bow(sent) for sent in data]\n",
    "print(corpus[:1])"
   ]
  },
  {
   "cell_type": "code",
   "execution_count": 22,
   "metadata": {},
   "outputs": [],
   "source": [
    "# Building the LDA model\n",
    "# LDA is one of the models used for topic modelling\n",
    "## Go check out what each hyperparameter does ##\n",
    "lda_model = gensim.models.ldamodel.LdaModel(corpus=corpus,\n",
    "                                           id2word=dict,\n",
    "                                           num_topics=20, \n",
    "                                           random_state=100,\n",
    "                                           update_every=1,\n",
    "                                           chunksize=100,\n",
    "                                           passes=10,\n",
    "                                           alpha='auto',\n",
    "                                           per_word_topics=True)"
   ]
  },
  {
   "cell_type": "code",
   "execution_count": 23,
   "metadata": {},
   "outputs": [
    {
     "name": "stdout",
     "output_type": "stream",
     "text": [
      "[(0,\n",
      "  '0.140*\"file\" + 0.073*\"image\" + 0.048*\"color\" + 0.041*\"scan\" + '\n",
      "  '0.038*\"package\" + 0.034*\"format\" + 0.031*\"library\" + 0.021*\"input\" + '\n",
      "  '0.021*\"load\" + 0.021*\"generate\"'),\n",
      " (1,\n",
      "  '0.064*\"armenian\" + 0.049*\"greek\" + 0.039*\"turk\" + 0.032*\"turkish\" + '\n",
      "  '0.025*\"turkey\" + 0.016*\"serdar_argic\" + 0.015*\"armenia\" + 0.013*\"massacre\" '\n",
      "  '+ 0.013*\"genocide\" + 0.013*\"moslem\"'),\n",
      " (2,\n",
      "  '0.095*\"space\" + 0.028*\"earth\" + 0.027*\"science\" + 0.024*\"launch\" + '\n",
      "  '0.022*\"moon\" + 0.021*\"mission\" + 0.020*\"orbit\" + 0.020*\"nasa\" + '\n",
      "  '0.017*\"satellite\" + 0.015*\"mar\"'),\n",
      " (3,\n",
      "  '0.682*\"ax\" + 0.051*\"max\" + 0.014*\"family\" + 0.012*\"telnet\" + '\n",
      "  '0.009*\"circuit\" + 0.008*\"intel\" + 0.007*\"blind\" + 0.006*\"honda\" + '\n",
      "  '0.005*\"pointer\" + 0.005*\"travel\"'),\n",
      " (4,\n",
      "  '0.087*\"patient\" + 0.053*\"md\" + 0.045*\"disease\" + 0.032*\"announcement\" + '\n",
      "  '0.030*\"pittsburgh\" + 0.030*\"medical\" + 0.029*\"health\" + 0.028*\"treatment\" + '\n",
      "  '0.023*\"zone\" + 0.022*\"detroit\"'),\n",
      " (5,\n",
      "  '0.086*\"tape\" + 0.065*\"material\" + 0.053*\"cop\" + 0.030*\"production\" + '\n",
      "  '0.016*\"sensor\" + 0.011*\"winter\" + 0.010*\"hammer\" + 0.007*\"radar\" + '\n",
      "  '0.007*\"deck\" + 0.007*\"rip\"'),\n",
      " (6,\n",
      "  '0.058*\"use\" + 0.031*\"system\" + 0.018*\"key\" + 0.016*\"window\" + '\n",
      "  '0.016*\"program\" + 0.013*\"run\" + 0.012*\"bit\" + 0.011*\"problem\" + '\n",
      "  '0.011*\"work\" + 0.010*\"need\"'),\n",
      " (7,\n",
      "  '0.027*\"god\" + 0.018*\"people\" + 0.017*\"evidence\" + 0.014*\"believe\" + '\n",
      "  '0.014*\"reason\" + 0.013*\"christian\" + 0.013*\"say\" + 0.011*\"government\" + '\n",
      "  '0.010*\"may\" + 0.010*\"law\"'),\n",
      " (8,\n",
      "  '0.070*\"team\" + 0.069*\"game\" + 0.048*\"win\" + 0.046*\"play\" + 0.033*\"player\" + '\n",
      "  '0.024*\"year\" + 0.021*\"fan\" + 0.018*\"run\" + 0.017*\"score\" + 0.016*\"wing\"'),\n",
      " (9,\n",
      "  '0.015*\"year\" + 0.011*\"new\" + 0.010*\"number\" + 0.010*\"first\" + 0.008*\"book\" '\n",
      "  '+ 0.008*\"report\" + 0.007*\"news\" + 0.007*\"list\" + 0.007*\"group\" + '\n",
      "  '0.007*\"may\"'),\n",
      " (10,\n",
      "  '0.112*\"israel\" + 0.062*\"israeli\" + 0.046*\"jew\" + 0.046*\"war\" + 0.038*\"arab\" '\n",
      "  '+ 0.036*\"soldier\" + 0.033*\"village\" + 0.031*\"jewish\" + 0.025*\"attack\" + '\n",
      "  '0.022*\"occupy\"'),\n",
      " (11,\n",
      "  '0.037*\"serious\" + 0.036*\"ground\" + 0.028*\"purchase\" + 0.027*\"father\" + '\n",
      "  '0.025*\"son\" + 0.024*\"doctor\" + 0.023*\"factor\" + 0.021*\"tax\" + 0.019*\"cycle\" '\n",
      "  '+ 0.017*\"water\"'),\n",
      " (12,\n",
      "  '0.061*\"gun\" + 0.031*\"bike\" + 0.026*\"kill\" + 0.021*\"crime\" + 0.020*\"police\" '\n",
      "  '+ 0.019*\"weapon\" + 0.019*\"firearm\" + 0.016*\"fire\" + 0.016*\"safety\" + '\n",
      "  '0.015*\"death\"'),\n",
      " (13,\n",
      "  '0.044*\"muslim\" + 0.043*\"iran\" + 0.043*\"islam\" + 0.036*\"should\" + '\n",
      "  '0.027*\"sentence\" + 0.025*\"ban\" + 0.025*\"islamic\" + 0.022*\"relation\" + '\n",
      "  '0.017*\"quran\" + 0.017*\"investigate\"'),\n",
      " (14,\n",
      "  '0.146*\"car\" + 0.037*\"engine\" + 0.025*\"insurance\" + 0.024*\"price\" + '\n",
      "  '0.023*\"sport\" + 0.021*\"dealer\" + 0.018*\"drive\" + 0.018*\"buy\" + '\n",
      "  '0.018*\"vehicle\" + 0.017*\"ticket\"'),\n",
      " (15,\n",
      "  '0.064*\"proof\" + 0.042*\"imply\" + 0.039*\"canadian\" + 0.029*\"capacity\" + '\n",
      "  '0.017*\"vol\" + 0.011*\"oakland\" + 0.010*\"defence\" + 0.010*\"equip\" + '\n",
      "  '0.009*\"wanna\" + 0.008*\"nazi_germany\"'),\n",
      " (16,\n",
      "  '0.108*\"line\" + 0.103*\"subject\" + 0.100*\"organization\" + 0.049*\"write\" + '\n",
      "  '0.043*\"university\" + 0.043*\"article\" + 0.041*\"host\" + 0.026*\"reply\" + '\n",
      "  '0.024*\"nntp_poste\" + 0.022*\"thank\"'),\n",
      " (17,\n",
      "  '0.048*\"battery\" + 0.025*\"craig\" + 0.015*\"organisation\" + 0.013*\"tony\" + '\n",
      "  '0.012*\"converter\" + 0.010*\"theodore_kaldis\" + 0.010*\"characterize\" + '\n",
      "  '0.008*\"australian\" + 0.007*\"appoint\" + 0.006*\"prof\"'),\n",
      " (18,\n",
      "  '0.105*\"drive\" + 0.047*\"mac\" + 0.043*\"sale\" + 0.029*\"speed\" + 0.027*\"price\" '\n",
      "  '+ 0.025*\"scsi\" + 0.024*\"mb\" + 0.020*\"board\" + 0.019*\"apple\" + '\n",
      "  '0.019*\"corporation\"'),\n",
      " (19,\n",
      "  '0.037*\"not\" + 0.028*\"would\" + 0.023*\"do\" + 0.018*\"be\" + 0.016*\"get\" + '\n",
      "  '0.013*\"know\" + 0.013*\"go\" + 0.013*\"think\" + 0.013*\"make\" + 0.011*\"say\"')]\n"
     ]
    }
   ],
   "source": [
    "# Printing out the topics in the topic model\n",
    "pprint(lda_model.print_topics())"
   ]
  },
  {
   "cell_type": "code",
   "execution_count": 24,
   "metadata": {},
   "outputs": [
    {
     "name": "stdout",
     "output_type": "stream",
     "text": [
      "\n",
      "Perplexity:  -14.046673725834745\n",
      "\n",
      "Coherence Score:  0.5496813728375849\n"
     ]
    }
   ],
   "source": [
    "# Compute Perplexity\n",
    "# a measure of how good the model is. lower the better.\n",
    "print('\\nPerplexity: ', lda_model.log_perplexity(corpus))  \n",
    "\n",
    "# Compute Coherence Score\n",
    "coherence_model_lda = CoherenceModel(model=lda_model, \n",
    "                                     texts=data, \n",
    "                                     dictionary=dict, \n",
    "                                     coherence='c_v')\n",
    "coherence_lda = coherence_model_lda.get_coherence()\n",
    "print('\\nCoherence Score: ', coherence_lda)"
   ]
  },
  {
   "cell_type": "raw",
   "metadata": {},
   "source": [
    "# Visualizing the topics\n",
    "# This is super slow to run. Maybe try this on the PC\n",
    "pyLDAvis.enable_notebook()\n",
    "\n",
    "vis = pyLDAvis.gensim.prepare(lda_model, corpus, dict, mds='mmds')\n",
    "pyLDAvis.show(vis)"
   ]
  },
  {
   "cell_type": "code",
   "execution_count": null,
   "metadata": {},
   "outputs": [],
   "source": [
    "# \n",
    "def format_topics(idamodel=lda_model, corpus=corpus, texts=data):\n",
    "    sent_topics_df = pd.DataFrame()"
   ]
  },
  {
   "cell_type": "code",
   "execution_count": null,
   "metadata": {},
   "outputs": [],
   "source": [
    "for i, row in enumerate(ldamodel[corpus]):\n",
    "        row = sorted(row, key=lambda x: (x[1]), reverse=True)\n",
    "        # Get the Dominant topic, Perc Contribution and Keywords for each document\n",
    "        for j, (topic_num, prop_topic) in enumerate(row):\n",
    "            if j == 0:  # => dominant topic\n",
    "                wp = ldamodel.show_topic(topic_num)\n",
    "                topic_keywords = \", \".join([word for word, prop in wp])\n",
    "                sent_topics_df = sent_topics_df.append(pd.Series([int(topic_num), round(prop_topic,4), topic_keywords]), ignore_index=True)\n",
    "            else:\n",
    "                break\n",
    "    sent_topics_df.columns = ['Dominant_Topic', 'Perc_Contribution', 'Topic_Keywords']"
   ]
  },
  {
   "cell_type": "code",
   "execution_count": null,
   "metadata": {},
   "outputs": [],
   "source": []
  },
  {
   "cell_type": "code",
   "execution_count": null,
   "metadata": {},
   "outputs": [],
   "source": []
  }
 ],
 "metadata": {
  "kernelspec": {
   "display_name": "Python 3",
   "language": "python",
   "name": "python3"
  },
  "language_info": {
   "codemirror_mode": {
    "name": "ipython",
    "version": 3
   },
   "file_extension": ".py",
   "mimetype": "text/x-python",
   "name": "python",
   "nbconvert_exporter": "python",
   "pygments_lexer": "ipython3",
   "version": "3.7.1"
  }
 },
 "nbformat": 4,
 "nbformat_minor": 2
}
