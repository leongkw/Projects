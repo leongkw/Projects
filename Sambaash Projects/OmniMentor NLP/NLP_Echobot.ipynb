{
 "cells": [
  {
   "cell_type": "code",
   "execution_count": null,
   "metadata": {},
   "outputs": [],
   "source": [
    "import telepot\n",
    "from telepot.loop import MessageLoop\n",
    "from telepot.delegate import pave_event_space, per_chat_id, create_open\n",
    "\n",
    "\n",
    "# importing Jupyter notebook from Tfidf_cossim_tagged_object.ipynb\n",
    "import import_ipynb\n",
    "from Tfidf_cossim_tagged_object import *"
   ]
  },
  {
   "cell_type": "code",
   "execution_count": null,
   "metadata": {},
   "outputs": [],
   "source": [
    "# nlp_module methods:\n",
    "# get_response\n",
    "# predict_label()\n",
    "# cosine_matches()\n",
    "Token = '1068631241:AAGwW-dWJNdw2DVF9ts5xXLwWDgsKe_LAMA'\n",
    "\n",
    "class MessageCounter(telepot.helper.ChatHandler):\n",
    "    def __init__(self, *args, **kwargs):\n",
    "        super(MessageCounter, self).__init__(*args, **kwargs)\n",
    "            self.uinput = ''\n",
    "            self.response = ''\n",
    "\n",
    "    def on_chat_message(self, message):\n",
    "        content_type, chat_type, chat_id = telepot.glance(message)\\n\",\n",
    "        \n",
    "        if content_type == 'text':\n",
    "            self.uinput = str(message['text'])\n",
    "            self.response = nlp_module.get_response(self.uinput)\n",
    "            bot.sendMessage(chat_id, self.response)\n",
    "            print(nlp_module.cosine_matches(self.uinput))\n",
    "\n",
    "max_duration = 300\n",
    "\n",
    "bot = telepot.DelegatorBot(Token, [pave_event_space()(\n",
    "            per_chat_id(), create_open, MessageCounter, timeout=max_duration),\n",
    "            ])\n",
    "\n",
    "print('Bot is running!')\n",
    "\n",
    "MessageLoop(bot).run_as_thread()"
   ]
  }
 ],
 "metadata": {
  "kernelspec": {
   "display_name": "Python 3",
   "language": "python",
   "name": "python3"
  },
  "language_info": {
   "codemirror_mode": {
    "name": "ipython",
    "version": 3
   },
   "file_extension": ".py",
   "mimetype": "text/x-python",
   "name": "python",
   "nbconvert_exporter": "python",
   "pygments_lexer": "ipython3",
   "version": "3.7.1"
  }
 },
 "nbformat": 4,
 "nbformat_minor": 2
}
