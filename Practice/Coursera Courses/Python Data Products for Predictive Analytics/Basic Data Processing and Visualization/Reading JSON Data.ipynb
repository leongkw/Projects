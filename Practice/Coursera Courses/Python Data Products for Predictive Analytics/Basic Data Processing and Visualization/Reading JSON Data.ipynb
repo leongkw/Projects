{
 "cells": [
  {
   "cell_type": "code",
   "execution_count": 4,
   "id": "9d5e5198",
   "metadata": {},
   "outputs": [],
   "source": [
    "import ast"
   ]
  },
  {
   "cell_type": "code",
   "execution_count": null,
   "id": "f2dc0b69",
   "metadata": {},
   "outputs": [],
   "source": [
    "# Opening the json data file\n",
    "path = 'Data/yelp_reviews/yelp_academic_dataset_review.json'\n",
    "file = open(path, 'r', encoding='utf8')"
   ]
  },
  {
   "cell_type": "raw",
   "id": "37cf040c",
   "metadata": {},
   "source": [
    "# Method 1 -> Using ast.literal_eval()"
   ]
  },
  {
   "cell_type": "code",
   "execution_count": 5,
   "id": "8a16a924",
   "metadata": {},
   "outputs": [
    {
     "data": {
      "text/plain": [
       "{'review_id': 'NDhkzczKjLshODbqDoNLSg',\n",
       " 'user_id': 'eC5evKn1TWDyHCyQAwguUw',\n",
       " 'business_id': '_sS2LBIGNT5NQb6PD1Vtjw',\n",
       " 'stars': 5.0,\n",
       " 'useful': 0,\n",
       " 'funny': 0,\n",
       " 'cool': 0,\n",
       " 'text': \"I called WVM on the recommendation of a couple of friends who had used them in the past and thought they did a nice job. I'm a fan now, too.\\n\\nEvan and Cody showed up right on time for my move this past weekend. They were friendly and energetic, working quickly but carefully to get all my things moved out of the old place and into the new one in less than 2.5 hours. All of my (heavy) furniture arrived in perfect condition, and they took extra care not to scratch the wood floors in the process.\\n\\nI hope not to move again anytime soon, but next time I do, I'll be calling WVM.\",\n",
       " 'date': '2013-05-28 20:38:06'}"
      ]
     },
     "execution_count": 5,
     "metadata": {},
     "output_type": "execute_result"
    }
   ],
   "source": [
    "# Taking a look at the first line of data in the file\n",
    "# Using eval() to convert it into a dictionary format from raw json format\n",
    "line = file.readline()\n",
    "ast.literal_eval(line)"
   ]
  },
  {
   "cell_type": "code",
   "execution_count": 8,
   "id": "bb3fb3dd",
   "metadata": {},
   "outputs": [],
   "source": [
    "# Appending the first 50k records into a list\n",
    "lines = []\n",
    "for i in range(50000):\n",
    "    lines.append(file.readline())"
   ]
  },
  {
   "cell_type": "code",
   "execution_count": 18,
   "id": "b59dc494",
   "metadata": {},
   "outputs": [
    {
     "name": "stdout",
     "output_type": "stream",
     "text": [
      "{'review_id': 'sjm_uUcQVxab_EeLCqsYLg', 'user_id': '0kA0PAJ8QFMeveQWHFqz2A', 'business_id': '8zehGz9jnxPqXtOc7KaJxA', 'stars': 4.0, 'useful': 0, 'funny': 0, 'cool': 0, 'text': \"The food is always great here. The service from both the manager as well as the staff is super. Only draw back of this restaurant is it's super loud. If you can, snag a patio table!\", 'date': '2011-07-28 18:05:01'}\n",
      "----------------------------------------------------------------------------\n",
      "{'review_id': 'J4a2TuhDasjn2k3wWtHZnQ', 'user_id': 'RNm_RWkcd02Li2mKPRe7Eg', 'business_id': 'xGXzsc-hzam-VArK6eTvtw', 'stars': 1.0, 'useful': 2, 'funny': 0, 'cool': 0, 'text': 'This place used to be a cool, chill place. Now its a bunch of neanderthal bouncers hopped up on steroids acting like the can do whatever they want. There are so many better places in davis square where they are glad you are visiting their business. Sad that the burren is now the worst place in davis.', 'date': '2018-01-21 04:41:03'}\n"
     ]
    }
   ],
   "source": [
    "# Printing out the first 2 lines\n",
    "for i in range(2):\n",
    "    print(ast.literal_eval(lines[i]))\n",
    "    if i < 1:\n",
    "        print('----------------------------------------------------------------------------')"
   ]
  },
  {
   "cell_type": "raw",
   "id": "3a2848fb",
   "metadata": {},
   "source": [
    "# Method 2 -> Using json.loads()"
   ]
  },
  {
   "cell_type": "code",
   "execution_count": 19,
   "id": "dfa87ba3",
   "metadata": {},
   "outputs": [],
   "source": [
    "import json"
   ]
  },
  {
   "cell_type": "code",
   "execution_count": 22,
   "id": "a45caaf1",
   "metadata": {},
   "outputs": [
    {
     "data": {
      "text/plain": [
       "{'review_id': 'NDhkzczKjLshODbqDoNLSg',\n",
       " 'user_id': 'eC5evKn1TWDyHCyQAwguUw',\n",
       " 'business_id': '_sS2LBIGNT5NQb6PD1Vtjw',\n",
       " 'stars': 5.0,\n",
       " 'useful': 0,\n",
       " 'funny': 0,\n",
       " 'cool': 0,\n",
       " 'text': \"I called WVM on the recommendation of a couple of friends who had used them in the past and thought they did a nice job. I'm a fan now, too.\\n\\nEvan and Cody showed up right on time for my move this past weekend. They were friendly and energetic, working quickly but carefully to get all my things moved out of the old place and into the new one in less than 2.5 hours. All of my (heavy) furniture arrived in perfect condition, and they took extra care not to scratch the wood floors in the process.\\n\\nI hope not to move again anytime soon, but next time I do, I'll be calling WVM.\",\n",
       " 'date': '2013-05-28 20:38:06'}"
      ]
     },
     "execution_count": 22,
     "metadata": {},
     "output_type": "execute_result"
    }
   ],
   "source": [
    "dictionary = json.loads(line)\n",
    "dictionary"
   ]
  },
  {
   "cell_type": "code",
   "execution_count": 23,
   "id": "9b0fb054",
   "metadata": {},
   "outputs": [
    {
     "name": "stdout",
     "output_type": "stream",
     "text": [
      "{'review_id': 'sjm_uUcQVxab_EeLCqsYLg', 'user_id': '0kA0PAJ8QFMeveQWHFqz2A', 'business_id': '8zehGz9jnxPqXtOc7KaJxA', 'stars': 4.0, 'useful': 0, 'funny': 0, 'cool': 0, 'text': \"The food is always great here. The service from both the manager as well as the staff is super. Only draw back of this restaurant is it's super loud. If you can, snag a patio table!\", 'date': '2011-07-28 18:05:01'}\n",
      "----------------------------------------------------------------------------\n",
      "{'review_id': 'J4a2TuhDasjn2k3wWtHZnQ', 'user_id': 'RNm_RWkcd02Li2mKPRe7Eg', 'business_id': 'xGXzsc-hzam-VArK6eTvtw', 'stars': 1.0, 'useful': 2, 'funny': 0, 'cool': 0, 'text': 'This place used to be a cool, chill place. Now its a bunch of neanderthal bouncers hopped up on steroids acting like the can do whatever they want. There are so many better places in davis square where they are glad you are visiting their business. Sad that the burren is now the worst place in davis.', 'date': '2018-01-21 04:41:03'}\n"
     ]
    }
   ],
   "source": [
    "# Printing out the first 2 lines\n",
    "for i in range(2):\n",
    "    print(json.loads(lines[i]))\n",
    "    if i < 1:\n",
    "        print('----------------------------------------------------------------------------')"
   ]
  },
  {
   "cell_type": "raw",
   "id": "04291991",
   "metadata": {},
   "source": [
    "# Taking a look at another json dataset. More complex this time"
   ]
  },
  {
   "cell_type": "code",
   "execution_count": 26,
   "id": "4adfbefd",
   "metadata": {},
   "outputs": [],
   "source": [
    "path = 'Data/yelp_reviews/yelp_academic_dataset_business.json'\n",
    "file = open(path, 'r', encoding='utf8')"
   ]
  },
  {
   "cell_type": "code",
   "execution_count": 28,
   "id": "4c24fbd4",
   "metadata": {},
   "outputs": [
    {
     "name": "stdout",
     "output_type": "stream",
     "text": [
      "{'business_id': '9XMT0qUlq1tMGxvL1TmdLA', 'name': \"Cohen's Fashion Optical\", 'address': '250 Granite St', 'city': 'Braintree', 'state': 'MA', 'postal_code': '02184', 'latitude': 42.2217222, 'longitude': -71.0220568, 'stars': 4.0, 'review_count': 15, 'is_open': 0, 'attributes': {'RestaurantsPriceRange2': '1', 'ByAppointmentOnly': 'False', 'BusinessParking': \"{'garage': False, 'street': False, 'validated': False, 'lot': True, 'valet': False}\", 'BusinessAcceptsCreditCards': 'True'}, 'categories': 'Optometrists, Eyewear & Opticians, Health & Medical, Shopping', 'hours': {'Monday': '10:0-21:0', 'Tuesday': '10:0-21:0', 'Wednesday': '10:0-21:0', 'Thursday': '10:0-21:0', 'Friday': '10:0-21:0', 'Saturday': '10:0-21:0', 'Sunday': '11:0-18:0'}}\n",
      "----------------------------------------------------------------------------\n",
      "{'business_id': 'uXai9ymojkLdJPSy4iqpjw', 'name': 'Wild Hogs Scooters', 'address': '1932 W Fairbanks Ave', 'city': 'Winter Park', 'state': 'FL', 'postal_code': '32789', 'latitude': 28.5928962, 'longitude': -81.3752248, 'stars': 3.0, 'review_count': 16, 'is_open': 1, 'attributes': {'BusinessAcceptsCreditCards': 'True'}, 'categories': 'Motorsport Vehicle Dealers, Motorcycle Repair, Automotive, Motorcycle Dealers', 'hours': {'Monday': '10:0-18:0', 'Tuesday': '10:0-18:0', 'Wednesday': '10:0-18:0', 'Thursday': '10:0-18:0', 'Friday': '10:0-17:0', 'Saturday': '10:0-17:0'}}\n"
     ]
    }
   ],
   "source": [
    "lines = []\n",
    "for i in range(50000):\n",
    "    lines.append(file.readline())\n",
    "\n",
    "# Here we can see that there's dictionary as pair values\n",
    "# Look at 'hours'\n",
    "for i in range(2):\n",
    "    print(json.loads(lines[i]))\n",
    "    if i < 1:\n",
    "        print('----------------------------------------------------------------------------')"
   ]
  },
  {
   "cell_type": "code",
   "execution_count": 29,
   "id": "590528a5",
   "metadata": {},
   "outputs": [],
   "source": [
    "def json_reader(path, size, display_lines):\n",
    "    file = open(path, 'r', encoding='utf8')\n",
    "    lines = []\n",
    "    \n",
    "    for i in range(size):\n",
    "        lines.append(file.readline())\n",
    "    \n",
    "    for i in range(display_lines):\n",
    "        print(json.loads(lines[i]))"
   ]
  },
  {
   "cell_type": "code",
   "execution_count": 31,
   "id": "66a3146f",
   "metadata": {},
   "outputs": [
    {
     "name": "stdout",
     "output_type": "stream",
     "text": [
      "{'business_id': '6iYb2HFDywm3zjuRg0shjw', 'name': 'Oskar Blues Taproom', 'address': '921 Pearl St', 'city': 'Boulder', 'state': 'CO', 'postal_code': '80302', 'latitude': 40.0175444, 'longitude': -105.2833481, 'stars': 4.0, 'review_count': 86, 'is_open': 1, 'attributes': {'RestaurantsTableService': 'True', 'WiFi': \"u'free'\", 'BikeParking': 'True', 'BusinessParking': \"{'garage': False, 'street': True, 'validated': False, 'lot': False, 'valet': False}\", 'BusinessAcceptsCreditCards': 'True', 'RestaurantsReservations': 'False', 'WheelchairAccessible': 'True', 'Caters': 'True', 'OutdoorSeating': 'True', 'RestaurantsGoodForGroups': 'True', 'HappyHour': 'True', 'BusinessAcceptsBitcoin': 'False', 'RestaurantsPriceRange2': '2', 'Ambience': \"{'touristy': False, 'hipster': False, 'romantic': False, 'divey': False, 'intimate': False, 'trendy': False, 'upscale': False, 'classy': False, 'casual': True}\", 'HasTV': 'True', 'Alcohol': \"'beer_and_wine'\", 'GoodForMeal': \"{'dessert': False, 'latenight': False, 'lunch': False, 'dinner': False, 'brunch': False, 'breakfast': False}\", 'DogsAllowed': 'False', 'RestaurantsTakeOut': 'True', 'NoiseLevel': \"u'average'\", 'RestaurantsAttire': \"'casual'\", 'RestaurantsDelivery': 'None'}, 'categories': 'Gastropubs, Food, Beer Gardens, Restaurants, Bars, American (Traditional), Beer Bar, Nightlife, Breweries', 'hours': {'Monday': '11:0-23:0', 'Tuesday': '11:0-23:0', 'Wednesday': '11:0-23:0', 'Thursday': '11:0-23:0', 'Friday': '11:0-23:0', 'Saturday': '11:0-23:0', 'Sunday': '11:0-23:0'}}\n"
     ]
    }
   ],
   "source": [
    "json_reader(path, 10, 1)"
   ]
  }
 ],
 "metadata": {
  "kernelspec": {
   "display_name": "Python 3",
   "language": "python",
   "name": "python3"
  },
  "language_info": {
   "codemirror_mode": {
    "name": "ipython",
    "version": 3
   },
   "file_extension": ".py",
   "mimetype": "text/x-python",
   "name": "python",
   "nbconvert_exporter": "python",
   "pygments_lexer": "ipython3",
   "version": "3.8.8"
  }
 },
 "nbformat": 4,
 "nbformat_minor": 5
}
