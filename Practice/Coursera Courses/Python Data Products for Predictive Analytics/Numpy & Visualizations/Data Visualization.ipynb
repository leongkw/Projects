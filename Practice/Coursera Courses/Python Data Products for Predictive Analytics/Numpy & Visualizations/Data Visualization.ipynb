{
 "cells": [
  {
   "cell_type": "code",
   "execution_count": 39,
   "id": "8dcfda39",
   "metadata": {},
   "outputs": [],
   "source": [
    "import json\n",
    "import time\n",
    "import matplotlib.pyplot as plt\n",
    "from collections import defaultdict, OrderedDict"
   ]
  },
  {
   "cell_type": "code",
   "execution_count": null,
   "id": "ea17c02c",
   "metadata": {},
   "outputs": [],
   "source": [
    "path = 'Data\\yelp_reviews\\yelp_academic_dataset_review.json'\n",
    "file = open(path, encoding = 'utf8')"
   ]
  },
  {
   "cell_type": "code",
   "execution_count": 4,
   "id": "6b41bfe8",
   "metadata": {},
   "outputs": [
    {
     "data": {
      "text/plain": [
       "{'review_id': 'lWC-xP3rd6obsecCYsGZRg',\n",
       " 'user_id': 'ak0TdVmGKo4pwqdJSTLwWw',\n",
       " 'business_id': 'buF9druCkbuXLX526sGELQ',\n",
       " 'stars': 4.0,\n",
       " 'useful': 3,\n",
       " 'funny': 1,\n",
       " 'cool': 1,\n",
       " 'text': \"Apparently Prides Osteria had a rough summer as evidenced by the almost empty dining room at 6:30 on a Friday night. However new blood in the kitchen seems to have revitalized the food from other customers recent visits. Waitstaff was warm but unobtrusive. By 8 pm or so when we left the bar was full and the dining room was much more lively than it had been. Perhaps Beverly residents prefer a later seating. \\n\\nAfter reading the mixed reviews of late I was a little tentative over our choice but luckily there was nothing to worry about in the food department. We started with the fried dough, burrata and prosciutto which were all lovely. Then although they don't offer half portions of pasta we each ordered the entree size and split them. We chose the tagliatelle bolognese and a four cheese filled pasta in a creamy sauce with bacon, asparagus and grana frita. Both were very good. We split a secondi which was the special Berkshire pork secreto, which was described as a pork skirt steak with garlic potato purée and romanesco broccoli (incorrectly described as a romanesco sauce). Some tables received bread before the meal but for some reason we did not. \\n\\nManagement also seems capable for when the tenants in the apartment above began playing basketball she intervened and also comped the tables a dessert. We ordered the apple dumpling with gelato and it was also quite tasty. Portions are not huge which I particularly like because I prefer to order courses. If you are someone who orders just a meal you may leave hungry depending on you appetite. Dining room was mostly younger crowd while the bar was definitely the over 40 set. Would recommend that the naysayers return to see the improvement although I personally don't know the former glory to be able to compare. Easy access to downtown Salem without the crowds on this month of October.\",\n",
       " 'date': '2014-10-11 03:34:02'}"
      ]
     },
     "execution_count": 4,
     "metadata": {},
     "output_type": "execute_result"
    }
   ],
   "source": [
    "# Reading in the data\n",
    "data = []\n",
    "for i in range(50000):\n",
    "    data.append(json.loads(file.readline()))\n",
    "data[0]"
   ]
  },
  {
   "cell_type": "code",
   "execution_count": 7,
   "id": "5078cc34",
   "metadata": {},
   "outputs": [
    {
     "data": {
      "text/plain": [
       "{'review_id': 'lWC-xP3rd6obsecCYsGZRg',\n",
       " 'user_id': 'ak0TdVmGKo4pwqdJSTLwWw',\n",
       " 'business_id': 'buF9druCkbuXLX526sGELQ',\n",
       " 'stars': 4.0,\n",
       " 'useful': 3,\n",
       " 'funny': 1,\n",
       " 'cool': 1,\n",
       " 'text': \"Apparently Prides Osteria had a rough summer as evidenced by the almost empty dining room at 6:30 on a Friday night. However new blood in the kitchen seems to have revitalized the food from other customers recent visits. Waitstaff was warm but unobtrusive. By 8 pm or so when we left the bar was full and the dining room was much more lively than it had been. Perhaps Beverly residents prefer a later seating. \\n\\nAfter reading the mixed reviews of late I was a little tentative over our choice but luckily there was nothing to worry about in the food department. We started with the fried dough, burrata and prosciutto which were all lovely. Then although they don't offer half portions of pasta we each ordered the entree size and split them. We chose the tagliatelle bolognese and a four cheese filled pasta in a creamy sauce with bacon, asparagus and grana frita. Both were very good. We split a secondi which was the special Berkshire pork secreto, which was described as a pork skirt steak with garlic potato purée and romanesco broccoli (incorrectly described as a romanesco sauce). Some tables received bread before the meal but for some reason we did not. \\n\\nManagement also seems capable for when the tenants in the apartment above began playing basketball she intervened and also comped the tables a dessert. We ordered the apple dumpling with gelato and it was also quite tasty. Portions are not huge which I particularly like because I prefer to order courses. If you are someone who orders just a meal you may leave hungry depending on you appetite. Dining room was mostly younger crowd while the bar was definitely the over 40 set. Would recommend that the naysayers return to see the improvement although I personally don't know the former glory to be able to compare. Easy access to downtown Salem without the crowds on this month of October.\",\n",
       " 'date': '2014-10-11 03:34:02',\n",
       " 'timeStruct': time.struct_time(tm_year=2014, tm_mon=10, tm_mday=11, tm_hour=3, tm_min=34, tm_sec=2, tm_wday=5, tm_yday=284, tm_isdst=-1),\n",
       " 'timeInt': 1412969642.0,\n",
       " 'day': 5}"
      ]
     },
     "execution_count": 7,
     "metadata": {},
     "output_type": "execute_result"
    }
   ],
   "source": [
    "# Creating 2 additional keys/columns with time features\n",
    "for record in data:\n",
    "    record['timeStruct'] = time.strptime(record['date'], '%Y-%m-%d %H:%M:%S')\n",
    "    record['timeInt'] = time.mktime(record['timeStruct'])\n",
    "    record['day'] = record['timeStruct'].tm_wday\n",
    "data[0]"
   ]
  },
  {
   "cell_type": "code",
   "execution_count": 21,
   "id": "f622076c",
   "metadata": {},
   "outputs": [
    {
     "data": {
      "text/plain": [
       "defaultdict(int,\n",
       "            {5: 3.7421045558394646,\n",
       "             4: 3.820620807986525,\n",
       "             1: 3.804724880382875,\n",
       "             3: 3.80096126660976,\n",
       "             6: 3.7154450261781724,\n",
       "             0: 3.7267171515875934,\n",
       "             2: 3.8222745532626696})"
      ]
     },
     "execution_count": 21,
     "metadata": {},
     "output_type": "execute_result"
    }
   ],
   "source": [
    "# Calculating the average ratings per day\n",
    "# Method 1: My method\n",
    "weekCount = defaultdict(int)\n",
    "\n",
    "for record in data:\n",
    "    weekCount[record['day']] += 1\n",
    "\n",
    "weekAverages = defaultdict(int)\n",
    "\n",
    "for record in data:\n",
    "    weekAverages[record['day']] += record['stars'] / weekCount[record['day']]\n",
    "\n",
    "weekAverages"
   ]
  },
  {
   "cell_type": "code",
   "execution_count": 42,
   "id": "f6182adc",
   "metadata": {},
   "outputs": [
    {
     "data": {
      "text/plain": [
       "[<matplotlib.lines.Line2D at 0x1dc75845940>]"
      ]
     },
     "execution_count": 42,
     "metadata": {},
     "output_type": "execute_result"
    },
    {
     "data": {
      "image/png": "[encoded data removed]",
      "text/plain": [
       "<Figure size 432x288 with 1 Axes>"
      ]
     },
     "metadata": {
      "needs_background": "light"
     },
     "output_type": "display_data"
    }
   ],
   "source": [
    "# Since our previous dictionary is a mess\n",
    "# We use OrderedDict to sort the dictionary by the key value\n",
    "weekAverages = OrderedDict(sorted(weekAverages.items()))\n",
    "\n",
    "# Converting days and scores into individual lists\n",
    "days = list(weekAverages.keys())\n",
    "scores = list(weekAverages.values())\n",
    "\n",
    "# Plotting the line plot\n",
    "plt.plot(days, scores)"
   ]
  },
  {
   "cell_type": "code",
   "execution_count": 51,
   "id": "c11e5cf3",
   "metadata": {},
   "outputs": [
    {
     "data": {
      "text/plain": [
       "<BarContainer object of 7 artists>"
      ]
     },
     "execution_count": 51,
     "metadata": {},
     "output_type": "execute_result"
    },
    {
     "data": {
      "image/png": "[encoded data removed]",
      "text/plain": [
       "<Figure size 432x288 with 1 Axes>"
      ]
     },
     "metadata": {
      "needs_background": "light"
     },
     "output_type": "display_data"
    }
   ],
   "source": [
    "# Plotting a bar plot\n",
    "# Use plt.ylim to define the y limits of the chart\n",
    "\n",
    "# We're defining it between 3.6 and 3.85 so we can have a better granular look at the data\n",
    "plt.ylim(3.6, 3.85)\n",
    "\n",
    "# Giving the axis labels\n",
    "plt.xlabel('Days of the Week')\n",
    "plt.ylabel('Average Score')\n",
    "\n",
    "# Remapping the axis ticks label\n",
    "plt.xticks([0,1,2,3,4,5,6], ['Sun', 'Mon', 'Tue', 'Wed', 'Thu', 'Fri', 'Sat'])\n",
    "\n",
    "# Changing the chart title\n",
    "plt.title('Average Score per Day')\n",
    "plt.bar(days, scores)"
   ]
  }
 ],
 "metadata": {
  "kernelspec": {
   "display_name": "Python 3",
   "language": "python",
   "name": "python3"
  },
  "language_info": {
   "codemirror_mode": {
    "name": "ipython",
    "version": 3
   },
   "file_extension": ".py",
   "mimetype": "text/x-python",
   "name": "python",
   "nbconvert_exporter": "python",
   "pygments_lexer": "ipython3",
   "version": "3.8.8"
  }
 },
 "nbformat": 4,
 "nbformat_minor": 5
}
