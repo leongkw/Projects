{
 "cells": [
  {
   "cell_type": "code",
   "execution_count": 1,
   "id": "f32fa974",
   "metadata": {},
   "outputs": [],
   "source": [
    "import numpy as np\n",
    "import json"
   ]
  },
  {
   "cell_type": "code",
   "execution_count": 5,
   "id": "58efd2e5",
   "metadata": {},
   "outputs": [],
   "source": [
    "path = 'Data/yelp_reviews/yelp_academic_dataset_review.json'\n",
    "file = open(path, encoding ='utf8')"
   ]
  },
  {
   "cell_type": "code",
   "execution_count": 6,
   "id": "a00761af",
   "metadata": {},
   "outputs": [],
   "source": [
    "data = []\n",
    "for i in range(50000):\n",
    "    data.append(json.loads(file.readline()))"
   ]
  },
  {
   "cell_type": "code",
   "execution_count": 8,
   "id": "64f74180",
   "metadata": {},
   "outputs": [
    {
     "data": {
      "text/plain": [
       "{'review_id': 'lWC-xP3rd6obsecCYsGZRg',\n",
       " 'user_id': 'ak0TdVmGKo4pwqdJSTLwWw',\n",
       " 'business_id': 'buF9druCkbuXLX526sGELQ',\n",
       " 'stars': 4.0,\n",
       " 'useful': 3,\n",
       " 'funny': 1,\n",
       " 'cool': 1,\n",
       " 'text': \"Apparently Prides Osteria had a rough summer as evidenced by the almost empty dining room at 6:30 on a Friday night. However new blood in the kitchen seems to have revitalized the food from other customers recent visits. Waitstaff was warm but unobtrusive. By 8 pm or so when we left the bar was full and the dining room was much more lively than it had been. Perhaps Beverly residents prefer a later seating. \\n\\nAfter reading the mixed reviews of late I was a little tentative over our choice but luckily there was nothing to worry about in the food department. We started with the fried dough, burrata and prosciutto which were all lovely. Then although they don't offer half portions of pasta we each ordered the entree size and split them. We chose the tagliatelle bolognese and a four cheese filled pasta in a creamy sauce with bacon, asparagus and grana frita. Both were very good. We split a secondi which was the special Berkshire pork secreto, which was described as a pork skirt steak with garlic potato purée and romanesco broccoli (incorrectly described as a romanesco sauce). Some tables received bread before the meal but for some reason we did not. \\n\\nManagement also seems capable for when the tenants in the apartment above began playing basketball she intervened and also comped the tables a dessert. We ordered the apple dumpling with gelato and it was also quite tasty. Portions are not huge which I particularly like because I prefer to order courses. If you are someone who orders just a meal you may leave hungry depending on you appetite. Dining room was mostly younger crowd while the bar was definitely the over 40 set. Would recommend that the naysayers return to see the improvement although I personally don't know the former glory to be able to compare. Easy access to downtown Salem without the crowds on this month of October.\",\n",
       " 'date': '2014-10-11 03:34:02'}"
      ]
     },
     "execution_count": 8,
     "metadata": {},
     "output_type": "execute_result"
    }
   ],
   "source": [
    "data[0]"
   ]
  },
  {
   "cell_type": "code",
   "execution_count": 10,
   "id": "53c83f3b",
   "metadata": {},
   "outputs": [],
   "source": [
    "# Extracting the numerical ratings for each review into a list\n",
    "# Then convert the list into a numpy array\n",
    "# Reason to convert to numpy array is that numpy supports more math operations than a list\n",
    "ratings = np.array([record['stars'] for record in data])\n",
    "cool = np.array([record['cool'] for record in data])\n",
    "useful = np.array([record['useful'] for record in data])\n",
    "funny = np.array([record['funny'] for record in data])"
   ]
  },
  {
   "cell_type": "raw",
   "id": "6e75eb81",
   "metadata": {},
   "source": [
    "# Some basic numpy statistical operations"
   ]
  },
  {
   "cell_type": "code",
   "execution_count": 12,
   "id": "415c21f2",
   "metadata": {},
   "outputs": [
    {
     "name": "stdout",
     "output_type": "stream",
     "text": [
      "Ratings Mean:  3.77406\n",
      "Ratings Variance:  1.8966911164\n"
     ]
    }
   ],
   "source": [
    "ratings_mean = np.mean(ratings)\n",
    "ratings_var = np.var(ratings)\n",
    "\n",
    "print('Ratings Mean: ', ratings_mean)\n",
    "print('Ratings Variance: ', ratings_var)"
   ]
  },
  {
   "cell_type": "code",
   "execution_count": 15,
   "id": "a549c264",
   "metadata": {},
   "outputs": [
    {
     "data": {
      "text/plain": [
       "array([[1, 1, 3],\n",
       "       [0, 0, 1],\n",
       "       [0, 0, 0],\n",
       "       ...,\n",
       "       [0, 0, 0],\n",
       "       [0, 0, 0],\n",
       "       [0, 0, 0]])"
      ]
     },
     "execution_count": 15,
     "metadata": {},
     "output_type": "execute_result"
    }
   ],
   "source": [
    "# Numpy can also stack multiple arrays together\n",
    "# Here we stacked [[50k], [50k], [50k]] first\n",
    "# Then we transpose it into [[x1, x2, x3], .... [x50k, x50k, x50k]]\n",
    "# This is useful as input for machine learning\n",
    "stacked = np.stack([cool, funny, useful])\n",
    "features = stacked.T\n",
    "features"
   ]
  },
  {
   "cell_type": "code",
   "execution_count": 17,
   "id": "98cc8008",
   "metadata": {},
   "outputs": [
    {
     "data": {
      "text/plain": [
       "matrix([[1, 1, 3],\n",
       "        [0, 0, 1],\n",
       "        [0, 0, 0],\n",
       "        ...,\n",
       "        [0, 0, 0],\n",
       "        [0, 0, 0],\n",
       "        [0, 0, 0]])"
      ]
     },
     "execution_count": 17,
     "metadata": {},
     "output_type": "execute_result"
    }
   ],
   "source": [
    "# For better support of matrix operations, you can also convert from array to matrix type\n",
    "features = np.matrix(features)\n",
    "features"
   ]
  },
  {
   "cell_type": "code",
   "execution_count": 19,
   "id": "912d95cc",
   "metadata": {},
   "outputs": [
    {
     "data": {
      "text/plain": [
       "(50000, 3)"
      ]
     },
     "execution_count": 19,
     "metadata": {},
     "output_type": "execute_result"
    }
   ],
   "source": [
    "# Show the shape of the matrix/array\n",
    "features.shape"
   ]
  },
  {
   "cell_type": "code",
   "execution_count": 23,
   "id": "be344f9c",
   "metadata": {},
   "outputs": [
    {
     "data": {
      "text/plain": [
       "matrix([[1, 1, 3, ..., 0, 0, 0],\n",
       "        [0, 0, 0, ..., 0, 0, 3],\n",
       "        [3, 4, 0, ..., 0, 0, 0]])"
      ]
     },
     "execution_count": 23,
     "metadata": {},
     "output_type": "execute_result"
    }
   ],
   "source": [
    "# Reshape the matrix into another shape of same elements\n",
    "features.reshape(3, 50000)"
   ]
  }
 ],
 "metadata": {
  "kernelspec": {
   "display_name": "Python 3",
   "language": "python",
   "name": "python3"
  },
  "language_info": {
   "codemirror_mode": {
    "name": "ipython",
    "version": 3
   },
   "file_extension": ".py",
   "mimetype": "text/x-python",
   "name": "python",
   "nbconvert_exporter": "python",
   "pygments_lexer": "ipython3",
   "version": "3.8.8"
  }
 },
 "nbformat": 4,
 "nbformat_minor": 5
}
