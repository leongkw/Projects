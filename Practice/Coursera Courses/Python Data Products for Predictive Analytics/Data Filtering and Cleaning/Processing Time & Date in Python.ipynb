{
 "cells": [
  {
   "cell_type": "code",
   "execution_count": 6,
   "id": "38a13e39",
   "metadata": {},
   "outputs": [],
   "source": [
    "import json\n",
    "import string\n",
    "import time\n",
    "import calendar"
   ]
  },
  {
   "cell_type": "raw",
   "id": "2cf75e1a",
   "metadata": {},
   "source": [
    "# Time functions"
   ]
  },
  {
   "cell_type": "code",
   "execution_count": 16,
   "id": "328c7275",
   "metadata": {},
   "outputs": [
    {
     "name": "stdout",
     "output_type": "stream",
     "text": [
      "2021-09-13 18:36:02\n",
      "time.struct_time(tm_year=2021, tm_mon=9, tm_mday=13, tm_hour=18, tm_min=36, tm_sec=2, tm_wday=0, tm_yday=256, tm_isdst=-1)\n",
      "0\n"
     ]
    }
   ],
   "source": [
    "# Converting a timestring into a timestruct\n",
    "# Use time.strptime(timestring, format of timestring)\n",
    "# You'll need to pass in how your timestring is formatted\n",
    "# Use case: time.strptime is useful when you wanna extract date-time features of a timestamp\n",
    "# E.g. Like tell which days are weekday/weekends etc...\n",
    "timeString = '2021-09-13 18:36:02'\n",
    "timeStruct = time.strptime(timeString, '%Y-%m-%d %H:%M:%S')\n",
    "\n",
    "print(timeString)\n",
    "print(timeStruct)\n",
    "print(timeStruct.tm_wday) # Shows day of the week 0 - Monday, 1 - Tues, etc..."
   ]
  },
  {
   "cell_type": "code",
   "execution_count": 18,
   "id": "adf12433",
   "metadata": {},
   "outputs": [
    {
     "name": "stdout",
     "output_type": "stream",
     "text": [
      "1631558162\n",
      "1631529362.0\n"
     ]
    }
   ],
   "source": [
    "# Converting a timestruct into a number\n",
    "# Number is calculated with reference to 1st Jan 1970 UTC timezone/Loca Time\n",
    "# Two ways to do so, either by using calendar.timegm() or time.mktime()\n",
    "# Difference between timegm & mktime -> timegm uses UTC time, mktime uses local time\n",
    "# Number returned is in seconds so 1631558162 is the number of secs elapsed since 1st Jan 1970\n",
    "t1 = calendar.timegm(timeStruct)\n",
    "t2 = time.mktime(timeStruct)\n",
    "\n",
    "print(t1)\n",
    "print(t2)"
   ]
  },
  {
   "cell_type": "code",
   "execution_count": 25,
   "id": "07239a31",
   "metadata": {},
   "outputs": [
    {
     "name": "stdout",
     "output_type": "stream",
     "text": [
      "Original:\n",
      "time.struct_time(tm_year=2021, tm_mon=9, tm_mday=13, tm_hour=18, tm_min=36, tm_sec=2, tm_wday=0, tm_yday=256, tm_isdst=-1)\n",
      "Converted Back:\n",
      "time.struct_time(tm_year=2021, tm_mon=9, tm_mday=13, tm_hour=18, tm_min=36, tm_sec=2, tm_wday=0, tm_yday=256, tm_isdst=0)\n",
      "------------------------------------------------------\n",
      "Original:\n",
      "2021-09-13 18:36:02\n",
      "Converted Back:\n",
      "2021-09-13 18:36:02\n"
     ]
    }
   ],
   "source": [
    "# Reversing the process\n",
    "# Use time.gmtime & timestrftime\n",
    "timeStruct_convertback = time.gmtime(t1)\n",
    "timeString_convertback = time.strftime('%Y-%m-%d %H:%M:%S', timeStruct_convertback)\n",
    "\n",
    "print('Original:\\n{}'.format(timeStruct))\n",
    "print('Converted Back:\\n{}'.format(timeStruct_convertback))\n",
    "print('------------------------------------------------------')\n",
    "print('Original:\\n{}'.format(timeString))\n",
    "print('Converted Back:\\n{}'.format(timeString_convertback))"
   ]
  },
  {
   "cell_type": "raw",
   "id": "382ebf6b",
   "metadata": {},
   "source": [
    "# Working with actual date date from yelp reviews"
   ]
  },
  {
   "cell_type": "code",
   "execution_count": 28,
   "id": "efd998b4",
   "metadata": {},
   "outputs": [],
   "source": [
    "path = 'Data/yelp_reviews/yelp_academic_dataset_review.json'\n",
    "file = open(path, 'r', encoding='utf8')"
   ]
  },
  {
   "cell_type": "code",
   "execution_count": 29,
   "id": "f28457d1",
   "metadata": {},
   "outputs": [
    {
     "data": {
      "text/plain": [
       "{'review_id': 'lWC-xP3rd6obsecCYsGZRg',\n",
       " 'user_id': 'ak0TdVmGKo4pwqdJSTLwWw',\n",
       " 'business_id': 'buF9druCkbuXLX526sGELQ',\n",
       " 'stars': 4.0,\n",
       " 'useful': 3,\n",
       " 'funny': 1,\n",
       " 'cool': 1,\n",
       " 'text': \"Apparently Prides Osteria had a rough summer as evidenced by the almost empty dining room at 6:30 on a Friday night. However new blood in the kitchen seems to have revitalized the food from other customers recent visits. Waitstaff was warm but unobtrusive. By 8 pm or so when we left the bar was full and the dining room was much more lively than it had been. Perhaps Beverly residents prefer a later seating. \\n\\nAfter reading the mixed reviews of late I was a little tentative over our choice but luckily there was nothing to worry about in the food department. We started with the fried dough, burrata and prosciutto which were all lovely. Then although they don't offer half portions of pasta we each ordered the entree size and split them. We chose the tagliatelle bolognese and a four cheese filled pasta in a creamy sauce with bacon, asparagus and grana frita. Both were very good. We split a secondi which was the special Berkshire pork secreto, which was described as a pork skirt steak with garlic potato purée and romanesco broccoli (incorrectly described as a romanesco sauce). Some tables received bread before the meal but for some reason we did not. \\n\\nManagement also seems capable for when the tenants in the apartment above began playing basketball she intervened and also comped the tables a dessert. We ordered the apple dumpling with gelato and it was also quite tasty. Portions are not huge which I particularly like because I prefer to order courses. If you are someone who orders just a meal you may leave hungry depending on you appetite. Dining room was mostly younger crowd while the bar was definitely the over 40 set. Would recommend that the naysayers return to see the improvement although I personally don't know the former glory to be able to compare. Easy access to downtown Salem without the crowds on this month of October.\",\n",
       " 'date': '2014-10-11 03:34:02'}"
      ]
     },
     "execution_count": 29,
     "metadata": {},
     "output_type": "execute_result"
    }
   ],
   "source": [
    "# Learning from previous exercise - using the entire dataset causes tasks to take excessively long to complete\n",
    "# Just going to load in 50k rows now\n",
    "data = []\n",
    "for i in range(50000):\n",
    "    data.append(json.loads(file.readline()))\n",
    "\n",
    "data[0]"
   ]
  },
  {
   "cell_type": "code",
   "execution_count": 34,
   "id": "53c4c20b",
   "metadata": {},
   "outputs": [
    {
     "name": "stdout",
     "output_type": "stream",
     "text": [
      "2014-10-11 03:34:02\n",
      "time.struct_time(tm_year=2014, tm_mon=10, tm_mday=11, tm_hour=3, tm_min=34, tm_sec=2, tm_wday=5, tm_yday=284, tm_isdst=-1)\n",
      "1412969642.0\n"
     ]
    }
   ],
   "source": [
    "# Using first record's date as an example\n",
    "timestring = data[0]['date']\n",
    "timestruct = time.strptime(timestring, '%Y-%m-%d %H:%M:%S')\n",
    "timesec = time.mktime(timestruct)\n",
    "\n",
    "print(timestring)\n",
    "print(timestruct)\n",
    "print(timesec)"
   ]
  }
 ],
 "metadata": {
  "kernelspec": {
   "display_name": "Python 3",
   "language": "python",
   "name": "python3"
  },
  "language_info": {
   "codemirror_mode": {
    "name": "ipython",
    "version": 3
   },
   "file_extension": ".py",
   "mimetype": "text/x-python",
   "name": "python",
   "nbconvert_exporter": "python",
   "pygments_lexer": "ipython3",
   "version": "3.8.8"
  }
 },
 "nbformat": 4,
 "nbformat_minor": 5
}
