{
 "cells": [
  {
   "cell_type": "code",
   "execution_count": 39,
   "id": "6189b3f2",
   "metadata": {},
   "outputs": [],
   "source": [
    "import gzip\n",
    "import json\n",
    "from collections import defaultdict"
   ]
  },
  {
   "cell_type": "code",
   "execution_count": 40,
   "id": "fae861d3",
   "metadata": {},
   "outputs": [],
   "source": [
    "path = 'Data/amazon_reviews/Gift_Cards.json.gz'\n",
    "file = gzip.open(path, 'rt')"
   ]
  },
  {
   "cell_type": "code",
   "execution_count": 41,
   "id": "65fce45f",
   "metadata": {},
   "outputs": [
    {
     "data": {
      "text/plain": [
       "{'overall': 5.0,\n",
       " 'verified': False,\n",
       " 'reviewTime': '12 17, 2008',\n",
       " 'reviewerID': 'A3G8U1G1V082SN',\n",
       " 'asin': 'B001GXRQW0',\n",
       " 'style': {'Gift Amount:': ' 50'},\n",
       " 'reviewerName': 'Tali',\n",
       " 'reviewText': 'I got this gift card from a friend, and it was the best! The site has so much to choose from... great gift.',\n",
       " 'summary': 'Gift card with best selection',\n",
       " 'unixReviewTime': 1229472000}"
      ]
     },
     "execution_count": 41,
     "metadata": {},
     "output_type": "execute_result"
    }
   ],
   "source": [
    "# Loading in the data\n",
    "data = []\n",
    "for line in file:\n",
    "    data.append(json.loads(file.readline()))\n",
    "    \n",
    "data[0]"
   ]
  },
  {
   "cell_type": "code",
   "execution_count": 42,
   "id": "03b17ede",
   "metadata": {},
   "outputs": [
    {
     "data": {
      "text/plain": [
       "73597"
      ]
     },
     "execution_count": 42,
     "metadata": {},
     "output_type": "execute_result"
    }
   ],
   "source": [
    "# Filtering out all the records with the reviewTime field\n",
    "# Saving the filtered records into the list new_data\n",
    "new_data = []\n",
    "for row in data:\n",
    "    if 'reviewTime' in row:\n",
    "        new_data.append(row)\n",
    "\n",
    "len(new_data)"
   ]
  },
  {
   "cell_type": "code",
   "execution_count": 43,
   "id": "2feed36f",
   "metadata": {},
   "outputs": [
    {
     "data": {
      "text/plain": [
       "[{'overall': 5.0,\n",
       "  'verified': False,\n",
       "  'reviewTime': '12 17, 2008',\n",
       "  'reviewerID': 'A3G8U1G1V082SN',\n",
       "  'asin': 'B001GXRQW0',\n",
       "  'style': {'Gift Amount:': ' 50'},\n",
       "  'reviewerName': 'Tali',\n",
       "  'reviewText': 'I got this gift card from a friend, and it was the best! The site has so much to choose from... great gift.',\n",
       "  'summary': 'Gift card with best selection',\n",
       "  'unixReviewTime': 1229472000,\n",
       "  'yearInt': 2008},\n",
       " {'overall': 5.0,\n",
       "  'verified': False,\n",
       "  'reviewTime': '12 17, 2008',\n",
       "  'reviewerID': 'A9YKGBH3SV22C',\n",
       "  'asin': 'B001GXRQW0',\n",
       "  'style': {'Gift Amount:': ' 25'},\n",
       "  'reviewerName': 'Giotravels',\n",
       "  'reviewText': \"You can always get someone something from Amazon with the safety net that they can return it if they don't like it. But returning things is such a hassle. The card takes care of that--no more returns, no more hassles.\",\n",
       "  'summary': 'Totally make sense',\n",
       "  'unixReviewTime': 1229472000,\n",
       "  'yearInt': 2008}]"
      ]
     },
     "execution_count": 43,
     "metadata": {},
     "output_type": "execute_result"
    }
   ],
   "source": [
    "# Creating a new field called yearInt by taking the last 4 characters of the reviewTime string\n",
    "# Then converting it to a integer type\n",
    "for row in new_data:\n",
    "    row['yearInt'] = int(row['reviewTime'][-4:])\n",
    "    \n",
    "new_data[0:2]"
   ]
  },
  {
   "cell_type": "code",
   "execution_count": 44,
   "id": "49132f2a",
   "metadata": {},
   "outputs": [
    {
     "data": {
      "text/plain": [
       "73516"
      ]
     },
     "execution_count": 44,
     "metadata": {},
     "output_type": "execute_result"
    }
   ],
   "source": [
    "# Use the newly created yearInt field to filter old old reviews\n",
    "# Lets take out reviews that were written before 2010\n",
    "data_aft_2010 = []\n",
    "for row in new_data:\n",
    "    if row['yearInt'] > 2009:\n",
    "        data_aft_2010.append(row)\n",
    "\n",
    "len(data_aft_2010)"
   ]
  },
  {
   "cell_type": "code",
   "execution_count": 45,
   "id": "51eb00da",
   "metadata": {},
   "outputs": [],
   "source": [
    "# Lets try to now filter out reviews of users who have only written a single review\n",
    "# We will first need to perform a count of the number of reviews each user has written\n",
    "review_count = defaultdict(int)\n",
    "\n",
    "for row in data_aft_2010:\n",
    "    review_count[row['reviewerID']] += 1"
   ]
  },
  {
   "cell_type": "code",
   "execution_count": 46,
   "id": "1b38d023",
   "metadata": {},
   "outputs": [
    {
     "data": {
      "text/plain": [
       "10028"
      ]
     },
     "execution_count": 46,
     "metadata": {},
     "output_type": "execute_result"
    }
   ],
   "source": [
    "# Next, we create a new list to store records w more than 1 review\n",
    "data_morethan1review = []\n",
    "\n",
    "# Iterate through the previous list\n",
    "# For every record iterated on, if the count in review_count is more than 1, we add to our new list\n",
    "for row in data_aft_2010:\n",
    "    if review_count[row['reviewerID']] > 1:\n",
    "        data_morethan1review.append(row)\n",
    "\n",
    "len(data_morethan1review)"
   ]
  },
  {
   "cell_type": "code",
   "execution_count": 47,
   "id": "1799c630",
   "metadata": {},
   "outputs": [
    {
     "name": "stdout",
     "output_type": "stream",
     "text": [
      "10019\n"
     ]
    },
    {
     "data": {
      "text/plain": [
       "3971"
      ]
     },
     "execution_count": 47,
     "metadata": {},
     "output_type": "execute_result"
    }
   ],
   "source": [
    "# Lets now try to filter reviews that are very short as they may not be very helpful\n",
    "# We first need to make sure that there's reviewText in all the data\n",
    "data_with_reviews = []\n",
    "for row in data_morethan1review:\n",
    "    if 'reviewText' in row:\n",
    "        data_with_reviews.append(row)\n",
    "\n",
    "print(len(data_with_reviews))\n",
    "\n",
    "# We define short reviews as those with less than 10 words\n",
    "# To count the words, we need to do a .split() on the reviewText field\n",
    "# Then if there's 10 words or more, we add to final_data\n",
    "final_data = []\n",
    "for row in data_with_reviews:\n",
    "    if len(row['reviewText'].split()) >= 10 :\n",
    "        final_data.append(row)\n",
    "\n",
    "len(final_data)"
   ]
  },
  {
   "cell_type": "raw",
   "id": "c2f60d29",
   "metadata": {},
   "source": [
    "# Some further ideas\n",
    "- Filter out products w little reviews\n",
    "- Filter out users who have only given 5 stars\n",
    "- Filter out users who have not written reviews for more than 1 year"
   ]
  }
 ],
 "metadata": {
  "kernelspec": {
   "display_name": "Python 3",
   "language": "python",
   "name": "python3"
  },
  "language_info": {
   "codemirror_mode": {
    "name": "ipython",
    "version": 3
   },
   "file_extension": ".py",
   "mimetype": "text/x-python",
   "name": "python",
   "nbconvert_exporter": "python",
   "pygments_lexer": "ipython3",
   "version": "3.8.8"
  }
 },
 "nbformat": 4,
 "nbformat_minor": 5
}
