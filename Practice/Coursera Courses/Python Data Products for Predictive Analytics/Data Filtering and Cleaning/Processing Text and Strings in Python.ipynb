{
 "cells": [
  {
   "cell_type": "code",
   "execution_count": 1,
   "id": "c056fbd3",
   "metadata": {},
   "outputs": [],
   "source": [
    "import json\n",
    "import string\n",
    "from collections import defaultdict"
   ]
  },
  {
   "cell_type": "code",
   "execution_count": 2,
   "id": "ac847e89",
   "metadata": {},
   "outputs": [],
   "source": [
    "# Opening the yelp reviews json dataset\n",
    "path = 'Data/yelp_reviews/yelp_academic_dataset_review.json'\n",
    "file = open(path, 'r', encoding='utf8')"
   ]
  },
  {
   "cell_type": "code",
   "execution_count": 3,
   "id": "7421f60e",
   "metadata": {},
   "outputs": [
    {
     "data": {
      "text/plain": [
       "\"Apparently Prides Osteria had a rough summer as evidenced by the almost empty dining room at 6:30 on a Friday night. However new blood in the kitchen seems to have revitalized the food from other customers recent visits. Waitstaff was warm but unobtrusive. By 8 pm or so when we left the bar was full and the dining room was much more lively than it had been. Perhaps Beverly residents prefer a later seating. \\n\\nAfter reading the mixed reviews of late I was a little tentative over our choice but luckily there was nothing to worry about in the food department. We started with the fried dough, burrata and prosciutto which were all lovely. Then although they don't offer half portions of pasta we each ordered the entree size and split them. We chose the tagliatelle bolognese and a four cheese filled pasta in a creamy sauce with bacon, asparagus and grana frita. Both were very good. We split a secondi which was the special Berkshire pork secreto, which was described as a pork skirt steak with garlic potato purée and romanesco broccoli (incorrectly described as a romanesco sauce). Some tables received bread before the meal but for some reason we did not. \\n\\nManagement also seems capable for when the tenants in the apartment above began playing basketball she intervened and also comped the tables a dessert. We ordered the apple dumpling with gelato and it was also quite tasty. Portions are not huge which I particularly like because I prefer to order courses. If you are someone who orders just a meal you may leave hungry depending on you appetite. Dining room was mostly younger crowd while the bar was definitely the over 40 set. Would recommend that the naysayers return to see the improvement although I personally don't know the former glory to be able to compare. Easy access to downtown Salem without the crowds on this month of October.\""
      ]
     },
     "execution_count": 3,
     "metadata": {},
     "output_type": "execute_result"
    }
   ],
   "source": [
    "# Getting the review text from just one review in the dataset for this practice\n",
    "line = json.loads(file.readline())\n",
    "review = line['text']\n",
    "review"
   ]
  },
  {
   "cell_type": "code",
   "execution_count": 4,
   "id": "a65d16e9",
   "metadata": {},
   "outputs": [
    {
     "data": {
      "text/plain": [
       "['Apparently',\n",
       " 'Prides',\n",
       " 'Osteria',\n",
       " 'had',\n",
       " 'a',\n",
       " 'rough',\n",
       " 'summer',\n",
       " 'as',\n",
       " 'evidenced',\n",
       " 'by',\n",
       " 'the',\n",
       " 'almost',\n",
       " 'empty',\n",
       " 'dining',\n",
       " 'room',\n",
       " 'at',\n",
       " '6:30',\n",
       " 'on',\n",
       " 'a',\n",
       " 'Friday',\n",
       " 'night.',\n",
       " 'However',\n",
       " 'new',\n",
       " 'blood',\n",
       " 'in',\n",
       " 'the',\n",
       " 'kitchen',\n",
       " 'seems',\n",
       " 'to',\n",
       " 'have',\n",
       " 'revitalized',\n",
       " 'the',\n",
       " 'food',\n",
       " 'from',\n",
       " 'other',\n",
       " 'customers',\n",
       " 'recent',\n",
       " 'visits.',\n",
       " 'Waitstaff',\n",
       " 'was',\n",
       " 'warm',\n",
       " 'but',\n",
       " 'unobtrusive.',\n",
       " 'By',\n",
       " '8',\n",
       " 'pm',\n",
       " 'or',\n",
       " 'so',\n",
       " 'when',\n",
       " 'we',\n",
       " 'left',\n",
       " 'the',\n",
       " 'bar',\n",
       " 'was',\n",
       " 'full',\n",
       " 'and',\n",
       " 'the',\n",
       " 'dining',\n",
       " 'room',\n",
       " 'was',\n",
       " 'much',\n",
       " 'more',\n",
       " 'lively',\n",
       " 'than',\n",
       " 'it',\n",
       " 'had',\n",
       " 'been.',\n",
       " 'Perhaps',\n",
       " 'Beverly',\n",
       " 'residents',\n",
       " 'prefer',\n",
       " 'a',\n",
       " 'later',\n",
       " 'seating.',\n",
       " 'After',\n",
       " 'reading',\n",
       " 'the',\n",
       " 'mixed',\n",
       " 'reviews',\n",
       " 'of',\n",
       " 'late',\n",
       " 'I',\n",
       " 'was',\n",
       " 'a',\n",
       " 'little',\n",
       " 'tentative',\n",
       " 'over',\n",
       " 'our',\n",
       " 'choice',\n",
       " 'but',\n",
       " 'luckily',\n",
       " 'there',\n",
       " 'was',\n",
       " 'nothing',\n",
       " 'to',\n",
       " 'worry',\n",
       " 'about',\n",
       " 'in',\n",
       " 'the',\n",
       " 'food',\n",
       " 'department.',\n",
       " 'We',\n",
       " 'started',\n",
       " 'with',\n",
       " 'the',\n",
       " 'fried',\n",
       " 'dough,',\n",
       " 'burrata',\n",
       " 'and',\n",
       " 'prosciutto',\n",
       " 'which',\n",
       " 'were',\n",
       " 'all',\n",
       " 'lovely.',\n",
       " 'Then',\n",
       " 'although',\n",
       " 'they',\n",
       " \"don't\",\n",
       " 'offer',\n",
       " 'half',\n",
       " 'portions',\n",
       " 'of',\n",
       " 'pasta',\n",
       " 'we',\n",
       " 'each',\n",
       " 'ordered',\n",
       " 'the',\n",
       " 'entree',\n",
       " 'size',\n",
       " 'and',\n",
       " 'split',\n",
       " 'them.',\n",
       " 'We',\n",
       " 'chose',\n",
       " 'the',\n",
       " 'tagliatelle',\n",
       " 'bolognese',\n",
       " 'and',\n",
       " 'a',\n",
       " 'four',\n",
       " 'cheese',\n",
       " 'filled',\n",
       " 'pasta',\n",
       " 'in',\n",
       " 'a',\n",
       " 'creamy',\n",
       " 'sauce',\n",
       " 'with',\n",
       " 'bacon,',\n",
       " 'asparagus',\n",
       " 'and',\n",
       " 'grana',\n",
       " 'frita.',\n",
       " 'Both',\n",
       " 'were',\n",
       " 'very',\n",
       " 'good.',\n",
       " 'We',\n",
       " 'split',\n",
       " 'a',\n",
       " 'secondi',\n",
       " 'which',\n",
       " 'was',\n",
       " 'the',\n",
       " 'special',\n",
       " 'Berkshire',\n",
       " 'pork',\n",
       " 'secreto,',\n",
       " 'which',\n",
       " 'was',\n",
       " 'described',\n",
       " 'as',\n",
       " 'a',\n",
       " 'pork',\n",
       " 'skirt',\n",
       " 'steak',\n",
       " 'with',\n",
       " 'garlic',\n",
       " 'potato',\n",
       " 'purée',\n",
       " 'and',\n",
       " 'romanesco',\n",
       " 'broccoli',\n",
       " '(incorrectly',\n",
       " 'described',\n",
       " 'as',\n",
       " 'a',\n",
       " 'romanesco',\n",
       " 'sauce).',\n",
       " 'Some',\n",
       " 'tables',\n",
       " 'received',\n",
       " 'bread',\n",
       " 'before',\n",
       " 'the',\n",
       " 'meal',\n",
       " 'but',\n",
       " 'for',\n",
       " 'some',\n",
       " 'reason',\n",
       " 'we',\n",
       " 'did',\n",
       " 'not.',\n",
       " 'Management',\n",
       " 'also',\n",
       " 'seems',\n",
       " 'capable',\n",
       " 'for',\n",
       " 'when',\n",
       " 'the',\n",
       " 'tenants',\n",
       " 'in',\n",
       " 'the',\n",
       " 'apartment',\n",
       " 'above',\n",
       " 'began',\n",
       " 'playing',\n",
       " 'basketball',\n",
       " 'she',\n",
       " 'intervened',\n",
       " 'and',\n",
       " 'also',\n",
       " 'comped',\n",
       " 'the',\n",
       " 'tables',\n",
       " 'a',\n",
       " 'dessert.',\n",
       " 'We',\n",
       " 'ordered',\n",
       " 'the',\n",
       " 'apple',\n",
       " 'dumpling',\n",
       " 'with',\n",
       " 'gelato',\n",
       " 'and',\n",
       " 'it',\n",
       " 'was',\n",
       " 'also',\n",
       " 'quite',\n",
       " 'tasty.',\n",
       " 'Portions',\n",
       " 'are',\n",
       " 'not',\n",
       " 'huge',\n",
       " 'which',\n",
       " 'I',\n",
       " 'particularly',\n",
       " 'like',\n",
       " 'because',\n",
       " 'I',\n",
       " 'prefer',\n",
       " 'to',\n",
       " 'order',\n",
       " 'courses.',\n",
       " 'If',\n",
       " 'you',\n",
       " 'are',\n",
       " 'someone',\n",
       " 'who',\n",
       " 'orders',\n",
       " 'just',\n",
       " 'a',\n",
       " 'meal',\n",
       " 'you',\n",
       " 'may',\n",
       " 'leave',\n",
       " 'hungry',\n",
       " 'depending',\n",
       " 'on',\n",
       " 'you',\n",
       " 'appetite.',\n",
       " 'Dining',\n",
       " 'room',\n",
       " 'was',\n",
       " 'mostly',\n",
       " 'younger',\n",
       " 'crowd',\n",
       " 'while',\n",
       " 'the',\n",
       " 'bar',\n",
       " 'was',\n",
       " 'definitely',\n",
       " 'the',\n",
       " 'over',\n",
       " '40',\n",
       " 'set.',\n",
       " 'Would',\n",
       " 'recommend',\n",
       " 'that',\n",
       " 'the',\n",
       " 'naysayers',\n",
       " 'return',\n",
       " 'to',\n",
       " 'see',\n",
       " 'the',\n",
       " 'improvement',\n",
       " 'although',\n",
       " 'I',\n",
       " 'personally',\n",
       " \"don't\",\n",
       " 'know',\n",
       " 'the',\n",
       " 'former',\n",
       " 'glory',\n",
       " 'to',\n",
       " 'be',\n",
       " 'able',\n",
       " 'to',\n",
       " 'compare.',\n",
       " 'Easy',\n",
       " 'access',\n",
       " 'to',\n",
       " 'downtown',\n",
       " 'Salem',\n",
       " 'without',\n",
       " 'the',\n",
       " 'crowds',\n",
       " 'on',\n",
       " 'this',\n",
       " 'month',\n",
       " 'of',\n",
       " 'October.']"
      ]
     },
     "execution_count": 4,
     "metadata": {},
     "output_type": "execute_result"
    }
   ],
   "source": [
    "# To get the individual words of the review, we can use .split()\n",
    "# This process is also known as tokenization\n",
    "review_words = review.split()\n",
    "review_words"
   ]
  },
  {
   "cell_type": "code",
   "execution_count": 5,
   "id": "ac3836df",
   "metadata": {},
   "outputs": [
    {
     "data": {
      "text/plain": [
       "\"Apparently Prides Osteria had a rough summer as evidenced by the almost empty dining room at 6:30 on a Friday night. However new blood in the kitchen seems to have revitalized the food from other customers recent visits. Waitstaff was warm but unobtrusive. By 8 pm or so when we left the bar was full and the dining room was much more lively than it had been. Perhaps Beverly residents prefer a later seating. After reading the mixed reviews of late I was a little tentative over our choice but luckily there was nothing to worry about in the food department. We started with the fried dough, burrata and prosciutto which were all lovely. Then although they don't offer half portions of pasta we each ordered the entree size and split them. We chose the tagliatelle bolognese and a four cheese filled pasta in a creamy sauce with bacon, asparagus and grana frita. Both were very good. We split a secondi which was the special Berkshire pork secreto, which was described as a pork skirt steak with garlic potato purée and romanesco broccoli (incorrectly described as a romanesco sauce). Some tables received bread before the meal but for some reason we did not. Management also seems capable for when the tenants in the apartment above began playing basketball she intervened and also comped the tables a dessert. We ordered the apple dumpling with gelato and it was also quite tasty. Portions are not huge which I particularly like because I prefer to order courses. If you are someone who orders just a meal you may leave hungry depending on you appetite. Dining room was mostly younger crowd while the bar was definitely the over 40 set. Would recommend that the naysayers return to see the improvement although I personally don't know the former glory to be able to compare. Easy access to downtown Salem without the crowds on this month of October.\""
      ]
     },
     "execution_count": 5,
     "metadata": {},
     "output_type": "execute_result"
    }
   ],
   "source": [
    "# To join back the tokens into a string, use .join(tokens)\n",
    "string_review = ' '.join(review_words)\n",
    "string_review"
   ]
  },
  {
   "cell_type": "code",
   "execution_count": 6,
   "id": "7aff4498",
   "metadata": {},
   "outputs": [
    {
     "name": "stdout",
     "output_type": "stream",
     "text": [
      "APPARENTLY PRIDES OSTERIA HAD A ROUGH SUMMER AS EVIDENCED BY THE ALMOST EMPTY DINING ROOM AT 6:30 ON A FRIDAY NIGHT. HOWEVER NEW BLOOD IN THE KITCHEN SEEMS TO HAVE REVITALIZED THE FOOD FROM OTHER CUSTOMERS RECENT VISITS. WAITSTAFF WAS WARM BUT UNOBTRUSIVE. BY 8 PM OR SO WHEN WE LEFT THE BAR WAS FULL AND THE DINING ROOM WAS MUCH MORE LIVELY THAN IT HAD BEEN. PERHAPS BEVERLY RESIDENTS PREFER A LATER SEATING. AFTER READING THE MIXED REVIEWS OF LATE I WAS A LITTLE TENTATIVE OVER OUR CHOICE BUT LUCKILY THERE WAS NOTHING TO WORRY ABOUT IN THE FOOD DEPARTMENT. WE STARTED WITH THE FRIED DOUGH, BURRATA AND PROSCIUTTO WHICH WERE ALL LOVELY. THEN ALTHOUGH THEY DON'T OFFER HALF PORTIONS OF PASTA WE EACH ORDERED THE ENTREE SIZE AND SPLIT THEM. WE CHOSE THE TAGLIATELLE BOLOGNESE AND A FOUR CHEESE FILLED PASTA IN A CREAMY SAUCE WITH BACON, ASPARAGUS AND GRANA FRITA. BOTH WERE VERY GOOD. WE SPLIT A SECONDI WHICH WAS THE SPECIAL BERKSHIRE PORK SECRETO, WHICH WAS DESCRIBED AS A PORK SKIRT STEAK WITH GARLIC POTATO PURÉE AND ROMANESCO BROCCOLI (INCORRECTLY DESCRIBED AS A ROMANESCO SAUCE). SOME TABLES RECEIVED BREAD BEFORE THE MEAL BUT FOR SOME REASON WE DID NOT. MANAGEMENT ALSO SEEMS CAPABLE FOR WHEN THE TENANTS IN THE APARTMENT ABOVE BEGAN PLAYING BASKETBALL SHE INTERVENED AND ALSO COMPED THE TABLES A DESSERT. WE ORDERED THE APPLE DUMPLING WITH GELATO AND IT WAS ALSO QUITE TASTY. PORTIONS ARE NOT HUGE WHICH I PARTICULARLY LIKE BECAUSE I PREFER TO ORDER COURSES. IF YOU ARE SOMEONE WHO ORDERS JUST A MEAL YOU MAY LEAVE HUNGRY DEPENDING ON YOU APPETITE. DINING ROOM WAS MOSTLY YOUNGER CROWD WHILE THE BAR WAS DEFINITELY THE OVER 40 SET. WOULD RECOMMEND THAT THE NAYSAYERS RETURN TO SEE THE IMPROVEMENT ALTHOUGH I PERSONALLY DON'T KNOW THE FORMER GLORY TO BE ABLE TO COMPARE. EASY ACCESS TO DOWNTOWN SALEM WITHOUT THE CROWDS ON THIS MONTH OF OCTOBER.\n",
      "---------------------------------------------------------------------------\n",
      "apparently prides osteria had a rough summer as evidenced by the almost empty dining room at 6:30 on a friday night. however new blood in the kitchen seems to have revitalized the food from other customers recent visits. waitstaff was warm but unobtrusive. by 8 pm or so when we left the bar was full and the dining room was much more lively than it had been. perhaps beverly residents prefer a later seating. after reading the mixed reviews of late i was a little tentative over our choice but luckily there was nothing to worry about in the food department. we started with the fried dough, burrata and prosciutto which were all lovely. then although they don't offer half portions of pasta we each ordered the entree size and split them. we chose the tagliatelle bolognese and a four cheese filled pasta in a creamy sauce with bacon, asparagus and grana frita. both were very good. we split a secondi which was the special berkshire pork secreto, which was described as a pork skirt steak with garlic potato purée and romanesco broccoli (incorrectly described as a romanesco sauce). some tables received bread before the meal but for some reason we did not. management also seems capable for when the tenants in the apartment above began playing basketball she intervened and also comped the tables a dessert. we ordered the apple dumpling with gelato and it was also quite tasty. portions are not huge which i particularly like because i prefer to order courses. if you are someone who orders just a meal you may leave hungry depending on you appetite. dining room was mostly younger crowd while the bar was definitely the over 40 set. would recommend that the naysayers return to see the improvement although i personally don't know the former glory to be able to compare. easy access to downtown salem without the crowds on this month of october.\n"
     ]
    }
   ],
   "source": [
    "# To change the character case of the string, use .lower() or .upper()\n",
    "upper = string_review.upper()\n",
    "lower = string_review.lower()\n",
    "print(upper)\n",
    "print('---------------------------------------------------------------------------')\n",
    "print(lower)"
   ]
  },
  {
   "cell_type": "code",
   "execution_count": 7,
   "id": "a5fc9100",
   "metadata": {},
   "outputs": [
    {
     "name": "stdout",
     "output_type": "stream",
     "text": [
      "Position of 'Apparently' in review words list:  0\n",
      "Position of 'prides' in review string:  11\n",
      "Number of 'rough' in review string:  1\n"
     ]
    }
   ],
   "source": [
    "# Some string operations\n",
    "# 1 - .index('word') -> Use this to find position of specified word in a list of words\n",
    "list_pos = review_words.index('Apparently')\n",
    "\n",
    "# 2 - .find('word') -> Use this to find character position of word in string\n",
    "# Example: 'that is my name' -> .find('is') will return 5 as first character of 'is' is located on the 5th position of the string\n",
    "# However, .find() is quite a 'stupid' method. If you change string to 'this is my name' -> .find('is') will return 2 instead as 'is' is contained within 'this'\n",
    "string_pos = lower.find('prides')\n",
    "\n",
    "# 3 - .cound('word') -> Use this to count the number of apperances of specified word in string\n",
    "word_count = lower.count('rough')\n",
    "\n",
    "print(\"Position of 'Apparently' in review words list: \", list_pos)\n",
    "print(\"Position of 'prides' in review string: \", string_pos)\n",
    "print(\"Number of 'rough' in review string: \", word_count)"
   ]
  },
  {
   "cell_type": "code",
   "execution_count": 8,
   "id": "87397d9d",
   "metadata": {},
   "outputs": [
    {
     "data": {
      "text/plain": [
       "'apparently prides osteria had a rough summer as evidenced by the almost empty dining room at 630 on a friday night however new blood in the kitchen seems to have revitalized the food from other customers recent visits waitstaff was warm but unobtrusive by 8 pm or so when we left the bar was full and the dining room was much more lively than it had been perhaps beverly residents prefer a later seating after reading the mixed reviews of late i was a little tentative over our choice but luckily there was nothing to worry about in the food department we started with the fried dough burrata and prosciutto which were all lovely then although they dont offer half portions of pasta we each ordered the entree size and split them we chose the tagliatelle bolognese and a four cheese filled pasta in a creamy sauce with bacon asparagus and grana frita both were very good we split a secondi which was the special berkshire pork secreto which was described as a pork skirt steak with garlic potato purée and romanesco broccoli incorrectly described as a romanesco sauce some tables received bread before the meal but for some reason we did not management also seems capable for when the tenants in the apartment above began playing basketball she intervened and also comped the tables a dessert we ordered the apple dumpling with gelato and it was also quite tasty portions are not huge which i particularly like because i prefer to order courses if you are someone who orders just a meal you may leave hungry depending on you appetite dining room was mostly younger crowd while the bar was definitely the over 40 set would recommend that the naysayers return to see the improvement although i personally dont know the former glory to be able to compare easy access to downtown salem without the crowds on this month of october'"
      ]
     },
     "execution_count": 8,
     "metadata": {},
     "output_type": "execute_result"
    }
   ],
   "source": [
    "# Removing punctuation from review string\n",
    "# Method 1: My method\n",
    "# Create a temp list to store non-punctuations from review\n",
    "# Iterate through review string, if alphabet is not inside punctuation string, then add it to temp list\n",
    "removed_punc = []\n",
    "for alphabet in lower:\n",
    "    if alphabet not in string.punctuation:\n",
    "        removed_punc.append(alphabet)\n",
    "\n",
    "# Create a new empty string\n",
    "# Iterate through the temp list, add each character in temp list into the string to rejoin it\n",
    "# Alternatively, review_punc_removed.join(removed_punc)\n",
    "review_punc_removed = ''\n",
    "for alphabet in removed_punc:\n",
    "    review_punc_removed += alphabet\n",
    "    \n",
    "review_punc_removed"
   ]
  },
  {
   "cell_type": "code",
   "execution_count": 9,
   "id": "c4a68cd4",
   "metadata": {},
   "outputs": [
    {
     "data": {
      "text/plain": [
       "'apparently prides osteria had a rough summer as evidenced by the almost empty dining room at 630 on a friday night however new blood in the kitchen seems to have revitalized the food from other customers recent visits waitstaff was warm but unobtrusive by 8 pm or so when we left the bar was full and the dining room was much more lively than it had been perhaps beverly residents prefer a later seating after reading the mixed reviews of late i was a little tentative over our choice but luckily there was nothing to worry about in the food department we started with the fried dough burrata and prosciutto which were all lovely then although they dont offer half portions of pasta we each ordered the entree size and split them we chose the tagliatelle bolognese and a four cheese filled pasta in a creamy sauce with bacon asparagus and grana frita both were very good we split a secondi which was the special berkshire pork secreto which was described as a pork skirt steak with garlic potato purée and romanesco broccoli incorrectly described as a romanesco sauce some tables received bread before the meal but for some reason we did not management also seems capable for when the tenants in the apartment above began playing basketball she intervened and also comped the tables a dessert we ordered the apple dumpling with gelato and it was also quite tasty portions are not huge which i particularly like because i prefer to order courses if you are someone who orders just a meal you may leave hungry depending on you appetite dining room was mostly younger crowd while the bar was definitely the over 40 set would recommend that the naysayers return to see the improvement although i personally dont know the former glory to be able to compare easy access to downtown salem without the crowds on this month of october'"
      ]
     },
     "execution_count": 9,
     "metadata": {},
     "output_type": "execute_result"
    }
   ],
   "source": [
    "# Method 2: List comprehension\n",
    "review_punc_removed = ''.join([x for x in lower if x not in string.punctuation])\n",
    "review_punc_removed"
   ]
  },
  {
   "cell_type": "code",
   "execution_count": 10,
   "id": "f7cd30a9",
   "metadata": {},
   "outputs": [
    {
     "name": "stdout",
     "output_type": "stream",
     "text": [
      "Does review string start with \"apparently\"? :  True\n",
      "True\n",
      "False\n",
      "False\n",
      "False\n"
     ]
    }
   ],
   "source": [
    "# Other string operations\n",
    "# .startswith('word') -> Returns True if string starts with specified word (Boolean)\n",
    "sw_answer = review_punc_removed.startswith('apparently')\n",
    "\n",
    "# word.isalpha() checks if specified word consists only of alphabets\n",
    "hello_test = 'Hello'.isalpha()\n",
    "mix_test = 'Hello123'.isalpha()\n",
    "punc_test = '#@#!AAA'.isalpha()\n",
    "space_test = 'Hello Bob'.isalpha()\n",
    "\n",
    "\n",
    "print('Does review string start with \"apparently\"? : ', sw_answer)\n",
    "print('{}\\n{}\\n{}\\n{}'.format(hello_test, mix_test, punc_test, space_test))"
   ]
  },
  {
   "cell_type": "code",
   "execution_count": 11,
   "id": "a599c490",
   "metadata": {},
   "outputs": [],
   "source": [
    "# Practice: Let's try to do a count on the number of times each word appear in all the reviews\n",
    "data = []\n",
    "for review in file:\n",
    "    data.append(json.loads(file.readline()))"
   ]
  },
  {
   "cell_type": "code",
   "execution_count": 12,
   "id": "86e9b72d",
   "metadata": {},
   "outputs": [
    {
     "data": {
      "text/plain": [
       "[{'review_id': 'NDhkzczKjLshODbqDoNLSg',\n",
       "  'user_id': 'eC5evKn1TWDyHCyQAwguUw',\n",
       "  'business_id': '_sS2LBIGNT5NQb6PD1Vtjw',\n",
       "  'stars': 5.0,\n",
       "  'useful': 0,\n",
       "  'funny': 0,\n",
       "  'cool': 0,\n",
       "  'text': \"I called WVM on the recommendation of a couple of friends who had used them in the past and thought they did a nice job. I'm a fan now, too.\\n\\nEvan and Cody showed up right on time for my move this past weekend. They were friendly and energetic, working quickly but carefully to get all my things moved out of the old place and into the new one in less than 2.5 hours. All of my (heavy) furniture arrived in perfect condition, and they took extra care not to scratch the wood floors in the process.\\n\\nI hope not to move again anytime soon, but next time I do, I'll be calling WVM.\",\n",
       "  'date': '2013-05-28 20:38:06',\n",
       "  'textClean': 'i called wvm on the recommendation of a couple of friends who had used them in the past and thought they did a nice job im a fan now too\\n\\nevan and cody showed up right on time for my move this past weekend they were friendly and energetic working quickly but carefully to get all my things moved out of the old place and into the new one in less than 25 hours all of my heavy furniture arrived in perfect condition and they took extra care not to scratch the wood floors in the process\\n\\ni hope not to move again anytime soon but next time i do ill be calling wvm'},\n",
       " {'review_id': 'sjm_uUcQVxab_EeLCqsYLg',\n",
       "  'user_id': '0kA0PAJ8QFMeveQWHFqz2A',\n",
       "  'business_id': '8zehGz9jnxPqXtOc7KaJxA',\n",
       "  'stars': 4.0,\n",
       "  'useful': 0,\n",
       "  'funny': 0,\n",
       "  'cool': 0,\n",
       "  'text': \"The food is always great here. The service from both the manager as well as the staff is super. Only draw back of this restaurant is it's super loud. If you can, snag a patio table!\",\n",
       "  'date': '2011-07-28 18:05:01',\n",
       "  'textClean': 'the food is always great here the service from both the manager as well as the staff is super only draw back of this restaurant is its super loud if you can snag a patio table'},\n",
       " {'review_id': '28gGfkLs3igtjVy61lh77Q',\n",
       "  'user_id': 'Q8c91v7luItVB0cMFF_mRA',\n",
       "  'business_id': 'EXOsmAB1s71WePlQk0WZrA',\n",
       "  'stars': 2.0,\n",
       "  'useful': 0,\n",
       "  'funny': 0,\n",
       "  'cool': 0,\n",
       "  'text': \"The setting is perfectly adequate, and the food comes close.   The dining chains like Chilis and Victoria Station do barbecue better.\\n\\nIt's no surprise you can always pick up coupons for Linwood at restaurant.com.\",\n",
       "  'date': '2006-04-16 02:58:44',\n",
       "  'textClean': 'the setting is perfectly adequate and the food comes close   the dining chains like chilis and victoria station do barbecue better\\n\\nits no surprise you can always pick up coupons for linwood at restaurantcom'}]"
      ]
     },
     "execution_count": 12,
     "metadata": {},
     "output_type": "execute_result"
    }
   ],
   "source": [
    "# Removing all the punctuation from the review text and converting it to lower case\n",
    "# Creating a 'textClean' field to store 'cleaned' text\n",
    "# Note: This takes awhile to complete\n",
    "for record in data:\n",
    "    record['textClean'] = ''.join([x for x in record['text'].lower() if x not in string.punctuation])\n",
    "    \n",
    "data[0:3]"
   ]
  },
  {
   "cell_type": "code",
   "execution_count": 14,
   "id": "77f9faf1",
   "metadata": {},
   "outputs": [],
   "source": [
    "# Creating a list 'all_words' to store list of words contained within each review\n",
    "# For each review, split the review string into a list of words, then add each list into the all_words list\n",
    "all_words = []\n",
    "for record in data:\n",
    "    all_words.append(record['textClean'].split())"
   ]
  },
  {
   "cell_type": "code",
   "execution_count": 24,
   "id": "fe71150d",
   "metadata": {},
   "outputs": [],
   "source": [
    "# Create a word_count defaultdict\n",
    "# Then for each list in all_words, iterate through each word in list\n",
    "# Add +1 count for every time the word appears\n",
    "word_count = defaultdict(int)\n",
    "\n",
    "for record in all_words:\n",
    "    for word in record:\n",
    "        word_count[word] += 1"
   ]
  },
  {
   "cell_type": "code",
   "execution_count": 28,
   "id": "9c721d79",
   "metadata": {},
   "outputs": [
    {
     "data": {
      "text/plain": [
       "[(5749506, 'for'),\n",
       " (5802561, 'is'),\n",
       " (5862432, 'it'),\n",
       " (7009473, 'of'),\n",
       " (8247297, 'was'),\n",
       " (11811299, 'to'),\n",
       " (12375341, 'a'),\n",
       " (12922466, 'i'),\n",
       " (16894641, 'and'),\n",
       " (23769960, 'the')]"
      ]
     },
     "execution_count": 28,
     "metadata": {},
     "output_type": "execute_result"
    }
   ],
   "source": [
    "# Convert the word_count dictionary back into a list of tuples\n",
    "# Tuple format (count, word)\n",
    "# Sort the tuple according to the count and take the last 10 sorted entries to represent the 10 most prevalent words\n",
    "# As of now, its not very meaningful because it consists of all the 'stopwords'\n",
    "# For more meaningful count, will need to remove stopwords from the list in the previous steps\n",
    "counts = []\n",
    "for word in word_count:\n",
    "    counts.append((word_count[word], word))\n",
    "counts.sort()\n",
    "counts[-10:]"
   ]
  }
 ],
 "metadata": {
  "kernelspec": {
   "display_name": "Python 3",
   "language": "python",
   "name": "python3"
  },
  "language_info": {
   "codemirror_mode": {
    "name": "ipython",
    "version": 3
   },
   "file_extension": ".py",
   "mimetype": "text/x-python",
   "name": "python",
   "nbconvert_exporter": "python",
   "pygments_lexer": "ipython3",
   "version": "3.8.8"
  }
 },
 "nbformat": 4,
 "nbformat_minor": 5
}
