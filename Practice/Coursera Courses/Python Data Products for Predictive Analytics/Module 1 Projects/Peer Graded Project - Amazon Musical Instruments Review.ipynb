{
 "cells": [
  {
   "cell_type": "code",
   "execution_count": 111,
   "id": "0e18b985",
   "metadata": {},
   "outputs": [],
   "source": [
    "import json\n",
    "import matplotlib.pyplot as plt\n",
    "import time\n",
    "from collections import defaultdict, OrderedDict"
   ]
  },
  {
   "cell_type": "code",
   "execution_count": 60,
   "id": "6a18e0ac",
   "metadata": {},
   "outputs": [],
   "source": [
    "path = 'Musical_Instruments.json'\n",
    "file = open(path, encoding = 'utf8')"
   ]
  },
  {
   "cell_type": "markdown",
   "id": "52bc914c",
   "metadata": {},
   "source": [
    "### Dataset Overview\n",
    "Dataset source is from Amazon - it consists of reviews of musical instruments.\n",
    "\n",
    "These are the following fields:\n",
    "1. reviewerID - string - ID of reviewer\n",
    "2. asin - string - ID of musical instrument\n",
    "3. reivewerName - string - Name of reviewer\n",
    "4. helpful - list - Helpfulness rating of the reviewer\n",
    "5. reviewText - string - Text review of the musical instrument\n",
    "6. overall - int - Overall rating of the musical instrument\n",
    "7. summary - string - Summary of the review\n",
    "8. unixReviewTime - int - Timestamp of review calculated against Unix Time\n",
    "9. reviewTime - string - Timestamp of review in MM DD, YYYY format"
   ]
  },
  {
   "cell_type": "code",
   "execution_count": 61,
   "id": "b215f121",
   "metadata": {},
   "outputs": [
    {
     "name": "stdout",
     "output_type": "stream",
     "text": [
      "5131\n"
     ]
    }
   ],
   "source": [
    "# Reading in the data\n",
    "data = []\n",
    "for record in file:\n",
    "    data.append(file.readline())\n",
    "\n",
    "# In total there are 5131 records, but for some reason the last record is a blank\n",
    "# This is causing json.loads() not to work, so we're gonna just manually filter out the last record\n",
    "print(len(data)) \n",
    "data = data[0:5129]"
   ]
  },
  {
   "cell_type": "code",
   "execution_count": 62,
   "id": "656741cf",
   "metadata": {},
   "outputs": [
    {
     "data": {
      "text/plain": [
       "[{'reviewerID': 'A14VAT5EAX3D9S',\n",
       "  'asin': '1384719342',\n",
       "  'reviewerName': 'Jake',\n",
       "  'helpful': [13, 14],\n",
       "  'reviewText': \"The product does exactly as it should and is quite affordable.I did not realized it was double screened until it arrived, so it was even better than I had expected.As an added bonus, one of the screens carries a small hint of the smell of an old grape candy I used to buy, so for reminiscent's sake, I cannot stop putting the pop filter next to my nose and smelling it after recording. :DIf you needed a pop filter, this will work just as well as the expensive ones, and it may even come with a pleasing aroma like mine did!Buy this product! :]\",\n",
       "  'overall': 5.0,\n",
       "  'summary': 'Jake',\n",
       "  'unixReviewTime': 1363392000,\n",
       "  'reviewTime': '03 16, 2013'},\n",
       " {'reviewerID': 'A2C00NNG1ZQQG2',\n",
       "  'asin': '1384719342',\n",
       "  'reviewerName': 'RustyBill \"Sunday Rocker\"',\n",
       "  'helpful': [0, 0],\n",
       "  'reviewText': 'Nice windscreen protects my MXL mic and prevents pops. Only thing is that the gooseneck is only marginally able to hold the screen in position and requires careful positioning of the clamp to avoid sagging.',\n",
       "  'overall': 5.0,\n",
       "  'summary': 'GOOD WINDSCREEN FOR THE MONEY',\n",
       "  'unixReviewTime': 1392336000,\n",
       "  'reviewTime': '02 14, 2014'}]"
      ]
     },
     "execution_count": 62,
     "metadata": {},
     "output_type": "execute_result"
    }
   ],
   "source": [
    "# Now we use json.loads() to parse the json records\n",
    "data_clean = []\n",
    "for record in data:\n",
    "    data_clean.append(json.loads(record))\n",
    "\n",
    "data_clean[0:2]"
   ]
  },
  {
   "cell_type": "code",
   "execution_count": 108,
   "id": "6dbde5e6",
   "metadata": {},
   "outputs": [
    {
     "data": {
      "text/plain": [
       "[{'reviewerID': 'A14VAT5EAX3D9S',\n",
       "  'asin': '1384719342',\n",
       "  'reviewerName': 'Jake',\n",
       "  'helpful': [13, 14],\n",
       "  'reviewText': \"The product does exactly as it should and is quite affordable.I did not realized it was double screened until it arrived, so it was even better than I had expected.As an added bonus, one of the screens carries a small hint of the smell of an old grape candy I used to buy, so for reminiscent's sake, I cannot stop putting the pop filter next to my nose and smelling it after recording. :DIf you needed a pop filter, this will work just as well as the expensive ones, and it may even come with a pleasing aroma like mine did!Buy this product! :]\",\n",
       "  'overall': 5.0,\n",
       "  'summary': 'Jake',\n",
       "  'unixReviewTime': 1363392000,\n",
       "  'reviewTime': '03 16, 2013',\n",
       "  'timeStruct': time.struct_time(tm_year=2013, tm_mon=3, tm_mday=16, tm_hour=0, tm_min=0, tm_sec=0, tm_wday=5, tm_yday=75, tm_isdst=-1)},\n",
       " {'reviewerID': 'A2C00NNG1ZQQG2',\n",
       "  'asin': '1384719342',\n",
       "  'reviewerName': 'RustyBill \"Sunday Rocker\"',\n",
       "  'helpful': [0, 0],\n",
       "  'reviewText': 'Nice windscreen protects my MXL mic and prevents pops. Only thing is that the gooseneck is only marginally able to hold the screen in position and requires careful positioning of the clamp to avoid sagging.',\n",
       "  'overall': 5.0,\n",
       "  'summary': 'GOOD WINDSCREEN FOR THE MONEY',\n",
       "  'unixReviewTime': 1392336000,\n",
       "  'reviewTime': '02 14, 2014',\n",
       "  'timeStruct': time.struct_time(tm_year=2014, tm_mon=2, tm_mday=14, tm_hour=0, tm_min=0, tm_sec=0, tm_wday=4, tm_yday=45, tm_isdst=-1)}]"
      ]
     },
     "execution_count": 108,
     "metadata": {},
     "output_type": "execute_result"
    }
   ],
   "source": [
    "# Adding in a timeStuct field\n",
    "for record in data_clean:\n",
    "    record['timeStruct'] = time.strptime(record['reviewTime'], '%m %d, %Y')\n",
    "\n",
    "data_clean[0:2]   "
   ]
  },
  {
   "cell_type": "code",
   "execution_count": 109,
   "id": "e1f6934f",
   "metadata": {},
   "outputs": [
    {
     "data": {
      "text/plain": [
       "[{'reviewerID': 'A14VAT5EAX3D9S',\n",
       "  'asin': '1384719342',\n",
       "  'reviewerName': 'Jake',\n",
       "  'helpful': [13, 14],\n",
       "  'reviewText': \"The product does exactly as it should and is quite affordable.I did not realized it was double screened until it arrived, so it was even better than I had expected.As an added bonus, one of the screens carries a small hint of the smell of an old grape candy I used to buy, so for reminiscent's sake, I cannot stop putting the pop filter next to my nose and smelling it after recording. :DIf you needed a pop filter, this will work just as well as the expensive ones, and it may even come with a pleasing aroma like mine did!Buy this product! :]\",\n",
       "  'overall': 5.0,\n",
       "  'summary': 'Jake',\n",
       "  'unixReviewTime': 1363392000,\n",
       "  'reviewTime': '03 16, 2013',\n",
       "  'timeStruct': time.struct_time(tm_year=2013, tm_mon=3, tm_mday=16, tm_hour=0, tm_min=0, tm_sec=0, tm_wday=5, tm_yday=75, tm_isdst=-1),\n",
       "  'day': 5},\n",
       " {'reviewerID': 'A2C00NNG1ZQQG2',\n",
       "  'asin': '1384719342',\n",
       "  'reviewerName': 'RustyBill \"Sunday Rocker\"',\n",
       "  'helpful': [0, 0],\n",
       "  'reviewText': 'Nice windscreen protects my MXL mic and prevents pops. Only thing is that the gooseneck is only marginally able to hold the screen in position and requires careful positioning of the clamp to avoid sagging.',\n",
       "  'overall': 5.0,\n",
       "  'summary': 'GOOD WINDSCREEN FOR THE MONEY',\n",
       "  'unixReviewTime': 1392336000,\n",
       "  'reviewTime': '02 14, 2014',\n",
       "  'timeStruct': time.struct_time(tm_year=2014, tm_mon=2, tm_mday=14, tm_hour=0, tm_min=0, tm_sec=0, tm_wday=4, tm_yday=45, tm_isdst=-1),\n",
       "  'day': 4}]"
      ]
     },
     "execution_count": 109,
     "metadata": {},
     "output_type": "execute_result"
    }
   ],
   "source": [
    "# Adding in a day field\n",
    "\n",
    "for record in data_clean:\n",
    "    record['day'] = record['timeStruct'].tm_wday\n",
    "    \n",
    "data_clean[0:2] "
   ]
  },
  {
   "cell_type": "code",
   "execution_count": 113,
   "id": "3a367280",
   "metadata": {},
   "outputs": [
    {
     "data": {
      "text/plain": [
       "[{'reviewerID': 'A14VAT5EAX3D9S',\n",
       "  'asin': '1384719342',\n",
       "  'reviewerName': 'Jake',\n",
       "  'helpful': [13, 14],\n",
       "  'reviewText': \"The product does exactly as it should and is quite affordable.I did not realized it was double screened until it arrived, so it was even better than I had expected.As an added bonus, one of the screens carries a small hint of the smell of an old grape candy I used to buy, so for reminiscent's sake, I cannot stop putting the pop filter next to my nose and smelling it after recording. :DIf you needed a pop filter, this will work just as well as the expensive ones, and it may even come with a pleasing aroma like mine did!Buy this product! :]\",\n",
       "  'overall': 5.0,\n",
       "  'summary': 'Jake',\n",
       "  'unixReviewTime': 1363392000,\n",
       "  'reviewTime': '03 16, 2013',\n",
       "  'timeStruct': time.struct_time(tm_year=2013, tm_mon=3, tm_mday=16, tm_hour=0, tm_min=0, tm_sec=0, tm_wday=5, tm_yday=75, tm_isdst=-1),\n",
       "  'day': 5,\n",
       "  'month': 3},\n",
       " {'reviewerID': 'A2C00NNG1ZQQG2',\n",
       "  'asin': '1384719342',\n",
       "  'reviewerName': 'RustyBill \"Sunday Rocker\"',\n",
       "  'helpful': [0, 0],\n",
       "  'reviewText': 'Nice windscreen protects my MXL mic and prevents pops. Only thing is that the gooseneck is only marginally able to hold the screen in position and requires careful positioning of the clamp to avoid sagging.',\n",
       "  'overall': 5.0,\n",
       "  'summary': 'GOOD WINDSCREEN FOR THE MONEY',\n",
       "  'unixReviewTime': 1392336000,\n",
       "  'reviewTime': '02 14, 2014',\n",
       "  'timeStruct': time.struct_time(tm_year=2014, tm_mon=2, tm_mday=14, tm_hour=0, tm_min=0, tm_sec=0, tm_wday=4, tm_yday=45, tm_isdst=-1),\n",
       "  'day': 4,\n",
       "  'month': 2}]"
      ]
     },
     "execution_count": 113,
     "metadata": {},
     "output_type": "execute_result"
    }
   ],
   "source": [
    "# Adding in a month field\n",
    "\n",
    "for record in data_clean:\n",
    "    record['month'] = record['timeStruct'].tm_mon\n",
    "    \n",
    "data_clean[0:2] "
   ]
  },
  {
   "cell_type": "markdown",
   "id": "c2b76cb7",
   "metadata": {},
   "source": [
    "### Some Simple Statistics"
   ]
  },
  {
   "cell_type": "code",
   "execution_count": 92,
   "id": "67b02883",
   "metadata": {},
   "outputs": [
    {
     "name": "stdout",
     "output_type": "stream",
     "text": [
      "Average Score:  4.493078572821212\n"
     ]
    }
   ],
   "source": [
    "# Average score of all reviews\n",
    "total_score = 0\n",
    "for record in data_clean:\n",
    "    total_score += int(record['overall'])\n",
    "\n",
    "average_score = total_score / len(data_clean)\n",
    "print('Average Score: ', average_score)"
   ]
  },
  {
   "cell_type": "code",
   "execution_count": 96,
   "id": "c96d1ed5",
   "metadata": {},
   "outputs": [
    {
     "name": "stdout",
     "output_type": "stream",
     "text": [
      "Total Number of Unique Products:  900\n"
     ]
    }
   ],
   "source": [
    "# Find total number of unique product IDs\n",
    "# Use a set to do a unique count\n",
    "unq_product_id = set()\n",
    "\n",
    "# Iterate through each record, add every unique record to the set\n",
    "for record in data_clean:\n",
    "    unq_product_id.add(record['asin'])\n",
    "    \n",
    "total_unq_product_id = len(unq_product_id)\n",
    "print('Total Number of Unique Products: ', total_unq_product_id)"
   ]
  },
  {
   "cell_type": "code",
   "execution_count": 97,
   "id": "01da4980",
   "metadata": {},
   "outputs": [
    {
     "name": "stdout",
     "output_type": "stream",
     "text": [
      "Total Number of Unique Reviewers:  1407\n"
     ]
    }
   ],
   "source": [
    "# Find total number of unique Reviewer IDs\n",
    "# Use a set to do a unique count\n",
    "unq_reviewer_id = set()\n",
    "\n",
    "# Iterate through each record, add every unique record to the set\n",
    "for record in data_clean:\n",
    "    unq_reviewer_id.add(record['reviewerID'])\n",
    "    \n",
    "total_unq_reviewer_id = len(unq_reviewer_id)\n",
    "print('Total Number of Unique Reviewers: ', total_unq_reviewer_id)"
   ]
  },
  {
   "cell_type": "code",
   "execution_count": 102,
   "id": "cf5cdd88",
   "metadata": {},
   "outputs": [
    {
     "name": "stdout",
     "output_type": "stream",
     "text": [
      "Average Reviews per Reviewer:  3.6453447050461976\n"
     ]
    }
   ],
   "source": [
    "# Check the average number of reviews done per ReviewID\n",
    "avg_review_per_reviewID = len(data_clean) / total_unq_reviewer_id\n",
    "\n",
    "print('Average Reviews per Reviewer: ', avg_review_per_reviewID)"
   ]
  },
  {
   "cell_type": "code",
   "execution_count": 100,
   "id": "18af75b3",
   "metadata": {},
   "outputs": [
    {
     "data": {
      "text/plain": [
       "[(13, 'A3M1PLEYNDEYO8'),\n",
       " (14, 'A34O0KQV4QXWNQ'),\n",
       " (14, 'A781ITP3HE2N5'),\n",
       " (16, 'A1MVH1WLYDHZ49'),\n",
       " (16, 'A2EZWZ8MBEDOLN'),\n",
       " (17, 'A1L7M2JXN4EZCR'),\n",
       " (18, 'A15TYOEWBQYF0X'),\n",
       " (18, 'A1SD1C8XK3Z3V1'),\n",
       " (19, 'A1DVUFG2QSJ6IK'),\n",
       " (24, 'ADH0O8UVJOT10')]"
      ]
     },
     "execution_count": 100,
     "metadata": {},
     "output_type": "execute_result"
    }
   ],
   "source": [
    "# Do a count on number of reviews done by each Reviewer ID\n",
    "# Check the top 10 reviewers\n",
    "review_count_per_reviewerID = defaultdict(int)\n",
    "\n",
    "# Iterate through each record, perform a count on the number of reviews done per reviewer\n",
    "for record in data_clean:\n",
    "    review_count_per_reviewerID[record['reviewerID']] += 1\n",
    "\n",
    "top_10_reviewers = []\n",
    "for key, value in review_count_per_reviewerID.items():\n",
    "    top_10_reviewers.append((value, key))\n",
    "    \n",
    "top_10_reviewers.sort()\n",
    "top_10_reviewers[-10:]"
   ]
  },
  {
   "cell_type": "code",
   "execution_count": 112,
   "id": "604b4641",
   "metadata": {},
   "outputs": [
    {
     "data": {
      "text/plain": [
       "OrderedDict([(0, 769),\n",
       "             (1, 716),\n",
       "             (2, 824),\n",
       "             (3, 784),\n",
       "             (4, 816),\n",
       "             (5, 595),\n",
       "             (6, 625)])"
      ]
     },
     "execution_count": 112,
     "metadata": {},
     "output_type": "execute_result"
    }
   ],
   "source": [
    "# Count number of reviews done per day\n",
    "reviews_per_day = defaultdict(int)\n",
    "\n",
    "for record in data_clean:\n",
    "    reviews_per_day[record['day']] += 1\n",
    "\n",
    "# Using an ordered dict to sort the dictionary according to days\n",
    "# We can see that most of the reviews seem to be done mid-week\n",
    "reviews_per_day = OrderedDict(sorted(reviews_per_day.items()))\n",
    "reviews_per_day"
   ]
  },
  {
   "cell_type": "code",
   "execution_count": 114,
   "id": "5cdc0940",
   "metadata": {},
   "outputs": [
    {
     "data": {
      "text/plain": [
       "OrderedDict([(1, 636),\n",
       "             (2, 500),\n",
       "             (3, 504),\n",
       "             (4, 425),\n",
       "             (5, 442),\n",
       "             (6, 426),\n",
       "             (7, 362),\n",
       "             (8, 342),\n",
       "             (9, 285),\n",
       "             (10, 323),\n",
       "             (11, 365),\n",
       "             (12, 519)])"
      ]
     },
     "execution_count": 114,
     "metadata": {},
     "output_type": "execute_result"
    }
   ],
   "source": [
    "# Count number of reviews done per month\n",
    "reviews_per_mth = defaultdict(int)\n",
    "\n",
    "for record in data_clean:\n",
    "    reviews_per_mth[record['month']] += 1\n",
    "\n",
    "# Using an ordered dict to sort the dictionary according to months\n",
    "# We can see that most of the reviews seem to be done end of the year to start\n",
    "reviews_per_mth = OrderedDict(sorted(reviews_per_mth.items()))\n",
    "reviews_per_mth"
   ]
  },
  {
   "cell_type": "markdown",
   "id": "88c083cf",
   "metadata": {},
   "source": [
    "### Calculate Average Score of Review by Product ID"
   ]
  },
  {
   "cell_type": "code",
   "execution_count": 76,
   "id": "0d67c38d",
   "metadata": {},
   "outputs": [
    {
     "data": {
      "text/plain": [
       "[(5.0, 'B00AHEWBM4'),\n",
       " (5.0, 'B00BHJNC4E'),\n",
       " (5.0, 'B00BKXN9LS'),\n",
       " (5.0, 'B00BL6IYW8'),\n",
       " (5.0, 'B00BTGMI5O'),\n",
       " (5.0, 'B00C5B20QE'),\n",
       " (5.0, 'B00CDA0IUC'),\n",
       " (5.0, 'B00CK2FOZM'),\n",
       " (5.0, 'B00EPWAQS0'),\n",
       " (5.0, 'B00HFRXACG')]"
      ]
     },
     "execution_count": 76,
     "metadata": {},
     "output_type": "execute_result"
    }
   ],
   "source": [
    "# First we count the number of products for each product ID\n",
    "product_count = defaultdict(int)\n",
    "for record in data_clean:\n",
    "    product_count[record['asin']] += 1\n",
    "\n",
    "# Then we create a defaultdict to store the average score\n",
    "# Then for every record, we cummulatively add score / total number of product ID to the average score dictionary\n",
    "avg_score = defaultdict(int)\n",
    "for record in data_clean:\n",
    "    product_id = record['asin']\n",
    "    score = record['overall']\n",
    "    avg_score[product_id] += score / product_count[product_id]\n",
    "\n",
    "# Next, we create a list\n",
    "# Then iterate through the default dict to store the scores in a list of tuples [(avg_score1, product_id1), ....]\n",
    "avg_score_list = []\n",
    "for key, value in avg_score.items():\n",
    "    avg_score_list.append((value, key))\n",
    "\n",
    "# Sort the list of tuples\n",
    "# Take last 10 records for top 10\n",
    "avg_score_list.sort()\n",
    "avg_score_list[-10:]"
   ]
  },
  {
   "cell_type": "code",
   "execution_count": 89,
   "id": "7b3b400a",
   "metadata": {},
   "outputs": [
    {
     "data": {
      "text/plain": [
       "[(4.638888888888889, 'B0006NDF8A'),\n",
       " (4.6521739130434785, 'B000RNB720'),\n",
       " (4.6585365853658525, 'B003VWJ2K8'),\n",
       " (4.666666666666664, 'B003VWKPHC'),\n",
       " (4.673913043478262, 'B0002H0A3S'),\n",
       " (4.73913043478261, 'B0002M6CVC'),\n",
       " (4.75, 'B0002D0E8S'),\n",
       " (4.826086956521739, 'B0002E2XCW'),\n",
       " (4.857142857142857, 'B0002D0CEO'),\n",
       " (4.870967741935482, 'B00646MZHK')]"
      ]
     },
     "execution_count": 89,
     "metadata": {},
     "output_type": "execute_result"
    }
   ],
   "source": [
    "# Since all the top 10 scores are 5.0, its not really meaningful\n",
    "# Let's try to make it such that only products with 20 or more reviews are considered\n",
    "avg_score_20min = defaultdict(int)\n",
    "\n",
    "# Same logic as above, except we only add it into the dict if count is 20 and above\n",
    "for record in data_clean:\n",
    "    product_id = record['asin']\n",
    "    score = record['overall']\n",
    "    if product_count[product_id] >= 20:\n",
    "        avg_score_20min[product_id] += score / product_count[product_id]\n",
    "        \n",
    "avg_score_20min_list = []\n",
    "for key, value in avg_score_20min.items():\n",
    "    avg_score_20min_list.append((value, key))\n",
    "    \n",
    "avg_score_20min_list.sort()\n",
    "avg_score_20min_list[-10:]"
   ]
  },
  {
   "cell_type": "markdown",
   "id": "2cfdfe03",
   "metadata": {},
   "source": [
    "### Calculate Average Score of Review by Day"
   ]
  },
  {
   "cell_type": "code",
   "execution_count": 117,
   "id": "66887d9e",
   "metadata": {},
   "outputs": [
    {
     "data": {
      "text/plain": [
       "OrderedDict([(0, 4.507152145643669),\n",
       "             (1, 4.495810055865924),\n",
       "             (2, 4.533980582524332),\n",
       "             (3, 4.437500000000011),\n",
       "             (4, 4.4791666666667025),\n",
       "             (5, 4.5159663865546085),\n",
       "             (6, 4.484800000000011)])"
      ]
     },
     "execution_count": 117,
     "metadata": {},
     "output_type": "execute_result"
    }
   ],
   "source": [
    "# First create a defaultdict to store the average scores per day\n",
    "avg_score_day = defaultdict(int)\n",
    "\n",
    "# Iterate through the data, for every record, cummulative add score / total number of reviews per day\n",
    "for record in data_clean:\n",
    "    day = record['day']\n",
    "    score = record['overall']\n",
    "    \n",
    "    avg_score_day[day] += score / reviews_per_day[day]\n",
    "\n",
    "# Using an ordered dict to sort the scores by day\n",
    "avg_score_day = OrderedDict(sorted(avg_score_day.items()))\n",
    "avg_score_day"
   ]
  },
  {
   "cell_type": "markdown",
   "id": "1b6c7453",
   "metadata": {},
   "source": [
    "### Calculate Average Score of Review by Month"
   ]
  },
  {
   "cell_type": "code",
   "execution_count": 118,
   "id": "4d8793e7",
   "metadata": {},
   "outputs": [
    {
     "data": {
      "text/plain": [
       "OrderedDict([(1, 4.462264150943415),\n",
       "             (2, 4.507999999999959),\n",
       "             (3, 4.47817460317461),\n",
       "             (4, 4.505882352941161),\n",
       "             (5, 4.488687782805417),\n",
       "             (6, 4.401408450704239),\n",
       "             (7, 4.519337016574585),\n",
       "             (8, 4.599415204678369),\n",
       "             (9, 4.5122807017543884),\n",
       "             (10, 4.433436532507765),\n",
       "             (11, 4.5068493150684965),\n",
       "             (12, 4.527938342967245)])"
      ]
     },
     "execution_count": 118,
     "metadata": {},
     "output_type": "execute_result"
    }
   ],
   "source": [
    "# First create a defaultdict to store the average scores per month\n",
    "avg_score_mth = defaultdict(int)\n",
    "\n",
    "# Iterate through the data, for every record, cummulative add score / total number of reviews per month\n",
    "for record in data_clean:\n",
    "    month = record['month']\n",
    "    score = record['overall']\n",
    "    \n",
    "    avg_score_mth[month] += score / reviews_per_mth[month]\n",
    "\n",
    "# Using an ordered dict to sort the scores by month\n",
    "avg_score_mth = OrderedDict(sorted(avg_score_mth.items()))\n",
    "avg_score_mth"
   ]
  },
  {
   "cell_type": "markdown",
   "id": "095f82de",
   "metadata": {},
   "source": [
    "### Visualizations"
   ]
  },
  {
   "cell_type": "code",
   "execution_count": 138,
   "id": "aa11d351",
   "metadata": {},
   "outputs": [
    {
     "data": {
      "image/png": "[encoded data removed]",
      "text/plain": [
       "<Figure size 1080x576 with 1 Axes>"
      ]
     },
     "metadata": {
      "needs_background": "light"
     },
     "output_type": "display_data"
    }
   ],
   "source": [
    "month = []\n",
    "score = []\n",
    "\n",
    "for key, value in avg_score_mth.items():\n",
    "    month.append(key)\n",
    "    score.append(value)\n",
    "    \n",
    "plt.figure(figsize=(15,8))\n",
    "plt.ylim(4.0, 4.7)\n",
    "plt.xticks(month, ['Jan', 'Feb', 'Mar', 'Apr', 'May', 'Jun', 'Jul', 'Aug', 'Sep', 'Oct', 'Nov', 'Dec'], size=15)\n",
    "plt.yticks(size=15)\n",
    "plt.title('Average Review Score by Month', size=20)\n",
    "plt.xlabel('Month', size=20)\n",
    "plt.ylabel('Average Score', size=20)\n",
    "plt.bar(month, score)\n",
    "plt.show()"
   ]
  },
  {
   "cell_type": "code",
   "execution_count": 143,
   "id": "072d3a1c",
   "metadata": {},
   "outputs": [
    {
     "data": {
      "image/png": "[encoded data removed]",
      "text/plain": [
       "<Figure size 1080x576 with 1 Axes>"
      ]
     },
     "metadata": {
      "needs_background": "light"
     },
     "output_type": "display_data"
    }
   ],
   "source": [
    "day = []\n",
    "score = []\n",
    "\n",
    "for key, value in avg_score_day.items():\n",
    "    day.append(key)\n",
    "    score.append(value)\n",
    "    \n",
    "plt.figure(figsize=(15,8))\n",
    "plt.ylim(4.0, 4.7)\n",
    "plt.xticks(day, ['Sun', 'Mon', 'Tue', 'Wed', 'Thu', 'Fri', 'Sat'], size=15)\n",
    "plt.yticks(size=15)\n",
    "plt.title('Average Review Score by Day', size=20)\n",
    "plt.xlabel('Day', size=20)\n",
    "plt.ylabel('Average Score', size=20)\n",
    "plt.bar(day, score)\n",
    "plt.show()"
   ]
  },
  {
   "cell_type": "code",
   "execution_count": 154,
   "id": "874ae17d",
   "metadata": {},
   "outputs": [
    {
     "data": {
      "image/png": "[encoded data removed]",
      "text/plain": [
       "<Figure size 1080x576 with 1 Axes>"
      ]
     },
     "metadata": {
      "needs_background": "light"
     },
     "output_type": "display_data"
    }
   ],
   "source": [
    "top_5_products = avg_score_20min_list[-5:]\n",
    "\n",
    "productID = []\n",
    "score = []\n",
    "\n",
    "for record in top_5_products:\n",
    "    productID.append(record[1])\n",
    "    score.append(record[0])\n",
    "    \n",
    "plt.figure(figsize=(15,8))\n",
    "plt.ylim(4.0, 5)\n",
    "plt.xticks(size=15)\n",
    "plt.yticks(size=15)\n",
    "plt.title('Average Review Score of Top 5 Rated Musical Instruments', size=20)\n",
    "plt.xlabel('Product ID', size=20)\n",
    "plt.ylabel('Average Score', size=20)\n",
    "plt.bar(productID, score)\n",
    "plt.show()"
   ]
  }
 ],
 "metadata": {
  "kernelspec": {
   "display_name": "Python 3",
   "language": "python",
   "name": "python3"
  },
  "language_info": {
   "codemirror_mode": {
    "name": "ipython",
    "version": 3
   },
   "file_extension": ".py",
   "mimetype": "text/x-python",
   "name": "python",
   "nbconvert_exporter": "python",
   "pygments_lexer": "ipython3",
   "version": "3.8.8"
  }
 },
 "nbformat": 4,
 "nbformat_minor": 5
}
