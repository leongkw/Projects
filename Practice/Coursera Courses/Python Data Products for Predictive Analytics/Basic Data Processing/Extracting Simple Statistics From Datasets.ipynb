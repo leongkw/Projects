{
 "cells": [
  {
   "cell_type": "code",
   "execution_count": 2,
   "id": "99b787d2",
   "metadata": {},
   "outputs": [],
   "source": [
    "import gzip\n",
    "import json"
   ]
  },
  {
   "cell_type": "code",
   "execution_count": 3,
   "id": "be783ae1",
   "metadata": {},
   "outputs": [],
   "source": [
    "path = 'Data/amazon_reviews/Gift_Cards.json.gz'\n",
    "file = gzip.open(path, 'rt')"
   ]
  },
  {
   "cell_type": "code",
   "execution_count": 4,
   "id": "385bcb5b",
   "metadata": {},
   "outputs": [
    {
     "data": {
      "text/plain": [
       "{'overall': 1.0,\n",
       " 'vote': '25',\n",
       " 'verified': False,\n",
       " 'reviewTime': '12 19, 2008',\n",
       " 'reviewerID': 'APV13CM0919JD',\n",
       " 'asin': 'B001GXRQW0',\n",
       " 'style': {'Gift Amount:': ' 50'},\n",
       " 'reviewerName': 'LEH',\n",
       " 'reviewText': 'Amazon,\\nI am shopping for Amazon.com gift cards for Christmas gifts and am really so disappointed that out of five choices there isn\\'t one that says \"Merry Christmas\" or mentions Christmas at all!  I am sure I am not alone in wanting a card that reflects the actual \"holiday\" we are celebrating. On principle, I cannot send a Amazon gift card this Christmas.  What\\'s up with all the Political Correctness?  Bad marketing decision.\\nLynn',\n",
       " 'summary': 'Merry Christmas.',\n",
       " 'unixReviewTime': 1229644800}"
      ]
     },
     "execution_count": 4,
     "metadata": {},
     "output_type": "execute_result"
    }
   ],
   "source": [
    "line = file.readline()\n",
    "json.loads(line)"
   ]
  },
  {
   "cell_type": "code",
   "execution_count": 5,
   "id": "2e2fc258",
   "metadata": {},
   "outputs": [],
   "source": [
    "data = []\n",
    "for i in range(50000):\n",
    "    data.append(json.loads(file.readline()))"
   ]
  },
  {
   "cell_type": "code",
   "execution_count": 6,
   "id": "ba35ed5b",
   "metadata": {},
   "outputs": [],
   "source": [
    "# Store ratings into a list\n",
    "# Method 1: Using list comprehension \n",
    "ratings = [index['overall'] for index in data ]\n",
    "\n",
    "# Method 2: Using for-loop -> Essentially same as the list comprehension but easier to follow\n",
    "ratings = []\n",
    "for record in data:\n",
    "    ratings.append(record['overall'])"
   ]
  },
  {
   "cell_type": "code",
   "execution_count": 7,
   "id": "991b2302",
   "metadata": {},
   "outputs": [
    {
     "name": "stdout",
     "output_type": "stream",
     "text": [
      "Average Rating: 4.69238\n",
      "Distribution of Ratings \n",
      "------------------------\n",
      "0: 0.0\n",
      "1: 0.0410408208\n",
      "2: 0.0121202424\n",
      "3: 0.022300446\n",
      "4: 0.06250125\n",
      "5: 0.8620572408\n"
     ]
    }
   ],
   "source": [
    "# To find average rating\n",
    "avg_rating = sum(ratings)/len(ratings)\n",
    "print('Average Rating: {}'.format(avg_rating))\n",
    "\n",
    "# To find rating distribution - E.g. How many 1s, 2s ...\n",
    "# Method 1: My own method using for-loops\n",
    "ratings_dist = {0:0,\n",
    "                1:0,\n",
    "                2:0,\n",
    "                3:0,\n",
    "                4:0,\n",
    "                5:0}\n",
    "\n",
    "for record in data:\n",
    "    if record['overall'] == 0:\n",
    "        ratings_dist[0] +=1\n",
    "    elif record['overall'] == 1:\n",
    "        ratings_dist[1] +=1\n",
    "    elif record['overall'] == 2:\n",
    "        ratings_dist[2] +=1\n",
    "    elif record['overall'] == 3:\n",
    "        ratings_dist[3] +=1\n",
    "    elif record['overall'] == 4:\n",
    "        ratings_dist[4] +=1\n",
    "    else:\n",
    "        ratings_dist[5] +=1\n",
    "\n",
    "for key, value in ratings_dist.items():\n",
    "    ratings_dist[key] = value/len(data)\n",
    "\n",
    "# Method 2: List comprehension -> Really makes the code shorter\n",
    "for record in data:\n",
    "    ratings_dist[record['overall']] +=1\n",
    "\n",
    "for key, value in ratings_dist.items():\n",
    "    ratings_dist[key] = value/len(data)\n",
    "\n",
    "    \n",
    "# Printing out the distribution in a neat format\n",
    "print('Distribution of Ratings \\n------------------------\\n0: {zero}\\n1: {one}\\n2: {two}\\n3: {three}\\n4: {four}\\n5: {five}'.format(zero=ratings_dist[0], \n",
    "                                                                                                                                   one=ratings_dist[1], \n",
    "                                                                                                                                   two=ratings_dist[2], \n",
    "                                                                                                                                   three=ratings_dist[3], \n",
    "                                                                                                                                   four=ratings_dist[4], \n",
    "                                                                                                                                   five=ratings_dist[5]))"
   ]
  },
  {
   "cell_type": "code",
   "execution_count": 8,
   "id": "3cd50256",
   "metadata": {},
   "outputs": [
    {
     "data": {
      "text/plain": [
       "defaultdict(int, {5.0: 43102, 1.0: 2052, 3.0: 1115, 4.0: 3125, 2.0: 606})"
      ]
     },
     "execution_count": 8,
     "metadata": {},
     "output_type": "execute_result"
    }
   ],
   "source": [
    "# Method 3: Using default dict -> Smartest way to do it\n",
    "# Above 2 methods you're required to intialize the dictionary manually\n",
    "# This works well when the number of unique entries are known & small\n",
    "# Its not possible/excessive tedious when no. of unique entries are large\n",
    "# defaultdict() automates this process -> Automatically records first entry as 1\n",
    "from collections import defaultdict\n",
    "\n",
    "ratings_dict = defaultdict(int)\n",
    "\n",
    "for record in data:\n",
    "    ratings_dict[record['overall']] += 1\n",
    "\n",
    "ratings_dict"
   ]
  },
  {
   "cell_type": "code",
   "execution_count": 9,
   "id": "63986cbd",
   "metadata": {},
   "outputs": [
    {
     "data": {
      "text/plain": [
       "defaultdict(int, {False: 3563, True: 46437})"
      ]
     },
     "execution_count": 9,
     "metadata": {},
     "output_type": "execute_result"
    }
   ],
   "source": [
    "# Counting the number of verified and non-verified purchases\n",
    "verified_dict = defaultdict(int)\n",
    "\n",
    "for record in data:\n",
    "    verified_dict[record['verified']] += 1\n",
    "\n",
    "verified_dict"
   ]
  },
  {
   "cell_type": "code",
   "execution_count": 10,
   "id": "34ae618a",
   "metadata": {
    "scrolled": false
   },
   "outputs": [
    {
     "data": {
      "text/plain": [
       "[(1108, 'B004LLIL4G'),\n",
       " (1330, 'B005DHN6E2'),\n",
       " (1461, 'B005ESMJ02'),\n",
       " (1704, 'B007V6ETDK'),\n",
       " (1768, 'B005ESMMWW'),\n",
       " (1827, 'B004LLIL5A'),\n",
       " (2213, 'B0066AZGD4'),\n",
       " (2224, 'B004LLIKY2'),\n",
       " (5410, 'B004LLIKVU'),\n",
       " (8164, 'B004Q7CK9M')]"
      ]
     },
     "execution_count": 10,
     "metadata": {},
     "output_type": "execute_result"
    }
   ],
   "source": [
    "# Determining product's popularity\n",
    "product_dict = defaultdict(int)\n",
    "\n",
    "for record in data:\n",
    "    product_dict[record['asin']] += 1\n",
    "\n",
    "# To get top 10 most popular products by count\n",
    "# Essentially, we're going to need to create a list of tuples\n",
    "# Tuple format -> (count, product_id)\n",
    "# Then make use of list sorting function to arrange the counts\n",
    "# sort() will look at the first item in the tuple to determine sort sequence\n",
    "# Cause of this we need to format it in (count, product_id)\n",
    "# Then we do a [-10:] splice to the list to get last 10 entries cause sort is in ascending order\n",
    "# Method 1: My method\n",
    "counts = []\n",
    "for i in product_dict:\n",
    "    counts.append((product_dict[i], i))\n",
    "counts.sort()\n",
    "counts[-10:]\n",
    "\n",
    "# Method 2: List comprehension\n",
    "counts = [(product_dict[p], p) for p in product_dict]\n",
    "counts.sort()\n",
    "counts[-10:]"
   ]
  },
  {
   "cell_type": "code",
   "execution_count": 11,
   "id": "8caa6559",
   "metadata": {},
   "outputs": [
    {
     "data": {
      "text/plain": [
       "{'B001GXRQW0': 4.110791366906475,\n",
       " 'B002BSHDJK': 4.594059405940594,\n",
       " 'B002DN7XS4': 1.0,\n",
       " 'B002QFXC7U': 2.8,\n",
       " 'B002XNLC04': 4.153846153846154,\n",
       " 'B002YEWXZ0': 2.5,\n",
       " 'B00414Y7Y6': 4.3,\n",
       " 'B004KNWWO0': 4.574468085106383,\n",
       " 'B004KNWWUE': 4.739130434782608,\n",
       " 'B004KNWWT0': 4.867924528301887,\n",
       " 'B004KNWWQS': 4.69811320754717,\n",
       " 'B004KNWX3K': 5.0,\n",
       " 'B004KNWWR2': 4.526315789473684,\n",
       " 'B004KNWX2Q': 4.65,\n",
       " 'B004KNWWNG': 4.5,\n",
       " 'B004KNWWRC': 4.608695652173913,\n",
       " 'B004KNWWPY': 4.596774193548387,\n",
       " 'B004KNWX12': 3.6666666666666665,\n",
       " 'B004KNWX8U': 4.883720930232558,\n",
       " 'B004KNWX0I': 4.5,\n",
       " 'B004KNWWOA': 4.7727272727272725,\n",
       " 'B004KNWWTK': 4.72,\n",
       " 'B004KNWWPO': 4.84375,\n",
       " 'B004KNWX4O': 4.822429906542056,\n",
       " 'B004KNWXA8': 4.481481481481482,\n",
       " 'B004KNWWP4': 4.666666666666667,\n",
       " 'B004KNWX1W': 4.824675324675325,\n",
       " 'B004KNWWRM': 4.742857142857143,\n",
       " 'B004KNWX9Y': 4.765625,\n",
       " 'B004KNWX3A': 4.6976744186046515,\n",
       " 'B004KNWX6C': 4.84055459272097,\n",
       " 'B004KNWX4Y': 4.864864864864865,\n",
       " 'B004KNWX5I': 4.384615384615385,\n",
       " 'B004KNWWTA': 4.744186046511628,\n",
       " 'B004KNWX80': 4.909090909090909,\n",
       " 'B004KNWWMW': 4.8262150220913105,\n",
       " 'B004KNWX3U': 4.7114093959731544,\n",
       " 'B004KNWWPE': 4.857142857142857,\n",
       " 'B004KNWWU4': 4.759305210918114,\n",
       " 'B004KNWWZY': 4.775280898876405,\n",
       " 'B004KNWX6M': 4.857142857142857,\n",
       " 'B004KNWX94': 4.912621359223301,\n",
       " 'B004KNWWZE': 4.846153846153846,\n",
       " 'B004KNWX1C': 5.0,\n",
       " 'B004KNWX08': 4.9,\n",
       " 'B004KNWX0S': 4.779816513761468,\n",
       " 'B004KNWX9O': 4.25,\n",
       " 'B004KNWX1M': 4.714285714285714,\n",
       " 'B004KNWX6W': 4.923076923076923,\n",
       " 'B004KNWWOK': 4.6,\n",
       " 'B004KNWWV8': 4.719626168224299,\n",
       " 'B004KNWX44': 3.0,\n",
       " 'B004KNWX76': 4.941747572815534,\n",
       " 'B004KNWX8A': 4.9523809523809526,\n",
       " 'B004KNWWUY': 4.732673267326732,\n",
       " 'B004LLIKW4': 5.0,\n",
       " 'B004LLIKWO': 4.8,\n",
       " 'B004LLIKZ6': 4.575757575757576,\n",
       " 'B004LLIL5A': 4.811165845648604,\n",
       " 'B004LLIL5K': 4.956521739130435,\n",
       " 'B004LLILBY': 4.74,\n",
       " 'B004LLILF0': 4.818840579710145,\n",
       " 'B004LLIL6E': 4.82258064516129,\n",
       " 'B004LLIKVU': 4.670240295748614,\n",
       " 'B004LLILFA': 4.666666666666667,\n",
       " 'B004LLILC8': 4.910256410256411,\n",
       " 'B004LLIL8M': 4.833333333333333,\n",
       " 'B004LLIL9Q': 4.8061224489795915,\n",
       " 'B004LLILG4': 4.729411764705882,\n",
       " 'B004LLIL4G': 4.740072202166065,\n",
       " 'B004LLIKY2': 4.719424460431655,\n",
       " 'B004LLILBO': 5.0,\n",
       " 'B004LLIL00': 4.771812080536913,\n",
       " 'B004LLILAU': 4.785714285714286,\n",
       " 'B004LLILD2': 5.0,\n",
       " 'B004LLIL6O': 4.714285714285714,\n",
       " 'B004LLIL6Y': 4.890909090909091,\n",
       " 'B004LLILEG': 4.741258741258742,\n",
       " 'B004LLIKUQ': 4.333333333333333,\n",
       " 'B004LLILO6': 4.826086956521739,\n",
       " 'B004LLIL3M': 4.796296296296297,\n",
       " 'B004LLIL3C': 4.8061224489795915,\n",
       " 'B004LLILLO': 4.740458015267175,\n",
       " 'B004LLILGO': 4.740393626991565,\n",
       " 'B004LLIL0K': 4.590909090909091,\n",
       " 'B004LLIL0A': 4.885057471264368,\n",
       " 'B004LLILK0': 4.677165354330708,\n",
       " 'B004LLILPU': 4.725806451612903,\n",
       " 'B004LLILKK': 4.7176470588235295,\n",
       " 'B004LLIL32': 4.810975609756097,\n",
       " 'B004LLILIM': 4.538461538461538,\n",
       " 'B004LLILQY': 4.9375,\n",
       " 'B004LLILMI': 4.786885245901639,\n",
       " 'B004LLIL96': 4.848484848484849,\n",
       " 'B004LLILFK': 4.717948717948718,\n",
       " 'B004LLILL4': 4.875,\n",
       " 'B004LLILM8': 4.707964601769912,\n",
       " 'B004LLIL2I': 4.808656036446469,\n",
       " 'B004LLILKU': 4.538461538461538,\n",
       " 'B004LLIL82': 4.8,\n",
       " 'B004LLJ5TQ': 4.769230769230769,\n",
       " 'B004LLJ6XG': 4.365079365079365,\n",
       " 'B004LLIL78': 4.837209302325581,\n",
       " 'B004LLIL5U': 4.762135922330097,\n",
       " 'B004LLJ6AE': 4.8125,\n",
       " 'B004LLJ6DQ': 5.0,\n",
       " 'B004LLILOG': 4.676923076923077,\n",
       " 'B004LLJ6VI': 4.3,\n",
       " 'B004LLJ6B8': 4.883720930232558,\n",
       " 'B004LLJ5SM': 4.428571428571429,\n",
       " 'B004LLJ6FY': 4.9375,\n",
       " 'B004LLJ5UU': 4.5,\n",
       " 'B004Q7CK9M': 4.617589416952474,\n",
       " 'B004RD967Y': 5.0,\n",
       " 'B004RD8XPK': 4.805896805896806,\n",
       " 'B004RD9ACA': 4.762162162162162,\n",
       " 'B004RD8XQE': 4.111111111111111,\n",
       " 'B004W8D102': 4.666666666666667,\n",
       " 'B004W8D0Y4': 4.814356435643564,\n",
       " 'B004WKPV3K': 4.666666666666667,\n",
       " 'B004WKPVBC': 4.762645914396887,\n",
       " 'B0052A20TC': 4.65,\n",
       " 'B0052A21O6': 4.75,\n",
       " 'B002YEWXMI': 5.0,\n",
       " 'B0054SDOLK': 4.909090909090909,\n",
       " 'B005580FS4': 4.25,\n",
       " 'B005DHN6E2': 4.57218045112782,\n",
       " 'B005EISPI2': 4.695652173913044,\n",
       " 'B005EISOOC': 4.809523809523809,\n",
       " 'B005EISOUQ': 4.849206349206349,\n",
       " 'B005EISPCS': 3.8125,\n",
       " 'B005EISOSS': 4.869565217391305,\n",
       " 'B005EISPLE': 4.665116279069768,\n",
       " 'B005EISPF0': 5.0,\n",
       " 'B005EISP96': 4.693693693693693,\n",
       " 'B005EISPOG': 4.797101449275362,\n",
       " 'B005ESMF5G': 4.600570613409415,\n",
       " 'B005ESMJCU': 4.670391061452514,\n",
       " 'B005ESMFP6': 4.713855421686747,\n",
       " 'B005ESMG1E': 4.588235294117647,\n",
       " 'B005ESMJ02': 4.633812457221081,\n",
       " 'B005ESMMWW': 4.697963800904978,\n",
       " 'B005TNHWS6': 4.666666666666667,\n",
       " 'B005XEF7R4': 4.395833333333333,\n",
       " 'B0062ONF64': 4.690677966101695,\n",
       " 'B0062ONAM8': 4.890052356020942,\n",
       " 'B0062ONLI6': 3.923076923076923,\n",
       " 'B0062ONA9Q': 4.829268292682927,\n",
       " 'B0062ONBKY': 4.375,\n",
       " 'B0062ONJRE': 4.738154613466334,\n",
       " 'B0062ONBC2': 4.796296296296297,\n",
       " 'B0062ON91K': 4.586956521739131,\n",
       " 'B0062ONETC': 4.696428571428571,\n",
       " 'B0062ONG18': 4.0,\n",
       " 'B0062ONJ6U': 4.795008912655971,\n",
       " 'B0062ONCQC': 4.787878787878788,\n",
       " 'B0062ONDMK': 5.0,\n",
       " 'B0062ONM0I': 5.0,\n",
       " 'B0062ONJEM': 4.684210526315789,\n",
       " 'B0062ONKA0': 4.428571428571429,\n",
       " 'B0062ONGO0': 4.833333333333333,\n",
       " 'B0062ONFHI': 5.0,\n",
       " 'B00657ALBA': 5.0,\n",
       " 'B0066AZGJI': 4.625158831003812,\n",
       " 'B0066AZGD4': 4.638951649344781,\n",
       " 'B0069VHL5Q': 4.764705882352941,\n",
       " 'B006PJHS50': 4.714285714285714,\n",
       " 'B006PJHPV2': 4.657894736842105,\n",
       " 'B006PJI03Y': 4.642384105960265,\n",
       " 'B006PJHP62': 4.591346153846154,\n",
       " 'B006PJI0Y8': 4.780141843971631,\n",
       " 'B006PJHPKI': 4.883720930232558,\n",
       " 'B0078EPRVS': 4.596214511041009,\n",
       " 'B0078EPRPE': 4.627586206896551,\n",
       " 'B0078EPBHI': 4.775725593667546,\n",
       " 'B0078EPB78': 4.631578947368421,\n",
       " 'B007EE5I6G': 4.235294117647059,\n",
       " 'B007EE5KKK': 4.8604651162790695,\n",
       " 'B007EE5X48': 4.666666666666667,\n",
       " 'B007EE5PEQ': 5.0,\n",
       " 'B007HR1E2W': 4.9,\n",
       " 'B007I0G9PU': 3.7333333333333334,\n",
       " 'B007RFFX26': 4.4,\n",
       " 'B007V5WJOM': 4.828571428571428,\n",
       " 'B007V6ETDK': 4.801643192488263,\n",
       " 'B007V6ETLW': 4.638297872340425,\n",
       " 'B007V6ETXA': 4.884984025559105}"
      ]
     },
     "execution_count": 11,
     "metadata": {},
     "output_type": "execute_result"
    }
   ],
   "source": [
    "# Now we wanna compute each product's average ratings\n",
    "# Method 1: My method\n",
    "# First initialize a default dictionary\n",
    "# Iterate through each record in the data\n",
    "# Then for each record, take down the product id\n",
    "# Then use this product id to get the count of this product from previous dictionary\n",
    "# Then get this record's cummulative score by taking this record's given score divided by the count of this record's product\n",
    "# Then do a cummulative add for every record\n",
    "product_ratings = defaultdict(int)\n",
    "\n",
    "for record in data:\n",
    "    pid = record['asin']\n",
    "    p_count = product_dict[pid]\n",
    "    avg_cummulative_score = record['overall'] / p_count\n",
    "    \n",
    "    product_ratings[record['asin']] += avg_cummulative_score\n",
    "\n",
    "pdt_ratings = []\n",
    "\n",
    "for i in product_ratings:\n",
    "    pdt_ratings.append((product_ratings[i], i))\n",
    "pdt_ratings.sort()\n",
    "pdt_ratings[-10:]\n",
    "\n",
    "\n",
    "# Method 2\n",
    "# Different method, but this uses a 'list' type default dict\n",
    "product_ratings = defaultdict(list)\n",
    "\n",
    "# Iterate through each record\n",
    "# Then for each record, for every unique product id, append the score into a list in the value part\n",
    "# E.g. pid_1 : [score_1, score_2...], pid_2 : [score_1, score_2, ....]\n",
    "for record in data:\n",
    "    product_ratings[record['asin']].append(record['overall'])\n",
    "\n",
    "# Create a new dictionary\n",
    "# Then iterate through the above dictionary\n",
    "# This time when you iterate, it will go through different keys\n",
    "# The keys are the product_ids due to how you structured the dict above\n",
    "# Then when you refer to the key, you'll get the entire list of ratings for that product\n",
    "# So in the new dictionary, you do a sum/len of each list from the previous dictionary\n",
    "output_dict = {}\n",
    "for product in product_ratings:\n",
    "    output_dict[product] = sum(product_ratings[product]) / len(product_ratings[product])\n",
    "\n",
    "output_dict   "
   ]
  },
  {
   "cell_type": "code",
   "execution_count": 17,
   "id": "0842a03a",
   "metadata": {},
   "outputs": [
    {
     "data": {
      "text/plain": [
       "[(4.849206349206349, 'B005EISOUQ'),\n",
       " (4.867924528301887, 'B004KNWWT0'),\n",
       " (4.884984025559105, 'B007V6ETXA'),\n",
       " (4.885057471264368, 'B004LLIL0A'),\n",
       " (4.890052356020942, 'B0062ONAM8'),\n",
       " (4.890909090909091, 'B004LLIL6Y'),\n",
       " (4.910256410256411, 'B004LLILC8'),\n",
       " (4.912621359223301, 'B004KNWX94'),\n",
       " (4.941747572815534, 'B004KNWX76'),\n",
       " (4.956521739130435, 'B004LLIL5K')]"
      ]
     },
     "execution_count": 17,
     "metadata": {},
     "output_type": "execute_result"
    }
   ],
   "source": [
    "# To sort the products into top N most popular products\n",
    "# We wanna avoid products with very little reviews so we needa build that into our logic\n",
    "# Method 1: My method\n",
    "# First, create a new dictionary\n",
    "# Iterate through the previously generated ratings dictionary -> product_id : avg_ratings\n",
    "# Then for each product_id, we check against the previous counts dictionary to see if the counts is 50 & above\n",
    "# If it is, then we include this in our new dictionary\n",
    "filtered = {}\n",
    "for product in output_dict:\n",
    "    pid = product\n",
    "    if product_dict[product] > 49:\n",
    "        filtered[product] = output_dict[product]\n",
    "\n",
    "# We just do the usual sorting and converting into a list of tuples here\n",
    "filtered_list = []\n",
    "for i in filtered:\n",
    "    filtered_list.append((filtered[i], i))\n",
    "filtered_list.sort()\n",
    "filtered_list[-10:]\n",
    "        \n"
   ]
  },
  {
   "cell_type": "code",
   "execution_count": 18,
   "id": "e7510342",
   "metadata": {},
   "outputs": [
    {
     "name": "stdout",
     "output_type": "stream",
     "text": [
      "No. of Unique Items: 187\n",
      "No. of Unique Users: 48736\n"
     ]
    }
   ],
   "source": [
    "# Let's try to count number of unique users and items\n",
    "# Using sets here because sets only allow 1 unique item in it\n",
    "# Meaning if you try to add something already inside into it, it wont work\n",
    "\n",
    "items = set()\n",
    "users = set()\n",
    "for record in data:\n",
    "    items.add(record['asin'])\n",
    "    users.add(record['reviewerID'])\n",
    "    \n",
    "print('No. of Unique Items: {}\\nNo. of Unique Users: {}'.format(len(items), len(users)))"
   ]
  },
  {
   "cell_type": "code",
   "execution_count": 27,
   "id": "ca0fcd83",
   "metadata": {},
   "outputs": [
    {
     "name": "stdout",
     "output_type": "stream",
     "text": [
      "Method 1\n",
      "defaultdict(<class 'int'>, {False: 4.252596126859385, True: 4.726123565260736})\n",
      "----------------------------------------------\n",
      "Method 2\n",
      "Average Verified: 4.72612356526046\n",
      "Averaged Unverified: 4.252596126859388\n"
     ]
    }
   ],
   "source": [
    "# Counting average rating for verified vs unverified customers\n",
    "# Method 1: My method\n",
    "# Create a new dict to store the averages for both types of customers\n",
    "comparison = defaultdict(int)\n",
    "\n",
    "# Iterate through the data\n",
    "# For each record, calculate the ratings given / total number of ratings in both types\n",
    "# Add this cummulatively to the new dictionary\n",
    "for record in data:\n",
    "    state = record['verified']\n",
    "    state_count = verified_dict[state]\n",
    "    adj_cumm_score = record['overall'] / state_count\n",
    "    comparison[state] += adj_cumm_score\n",
    "    \n",
    "    \n",
    "\n",
    "# Method 2\n",
    "# Do a individual counters then just iterate through each record and do a cummulative count\n",
    "# Then do a simple total / total number to get average\n",
    "tot_verified = 0\n",
    "tot_unverified = 0\n",
    "num_verified = 0\n",
    "num_unverified = 0\n",
    "\n",
    "for record in data:\n",
    "    if record['verified'] == True:\n",
    "        tot_verified += record['overall']\n",
    "        num_verified += 1\n",
    "    else:\n",
    "        tot_unverified += record['overall']\n",
    "        num_unverified += 1\n",
    "\n",
    "avg_verified = tot_verified / num_verified\n",
    "avg_unverified = tot_unverified / num_unverified\n",
    "\n",
    "print('Method 1')\n",
    "print(comparison)\n",
    "print('----------------------------------------------')\n",
    "print('Method 2')\n",
    "print('Average Verified: {}\\nAveraged Unverified: {}'.format(avg_verified, avg_unverified))"
   ]
  },
  {
   "cell_type": "code",
   "execution_count": 28,
   "id": "08544a5d",
   "metadata": {},
   "outputs": [
    {
     "data": {
      "text/plain": [
       "['seller_id,', 'product_id,', 'price,', 'customer_id,', 'review_id']"
      ]
     },
     "execution_count": 28,
     "metadata": {},
     "output_type": "execute_result"
    }
   ],
   "source": [
    "string = \"seller_id, product_id, price, customer_id, review_id\"\n",
    "string.split()"
   ]
  },
  {
   "cell_type": "code",
   "execution_count": null,
   "id": "e3ea43ef",
   "metadata": {},
   "outputs": [],
   "source": []
  }
 ],
 "metadata": {
  "kernelspec": {
   "display_name": "Python 3",
   "language": "python",
   "name": "python3"
  },
  "language_info": {
   "codemirror_mode": {
    "name": "ipython",
    "version": 3
   },
   "file_extension": ".py",
   "mimetype": "text/x-python",
   "name": "python",
   "nbconvert_exporter": "python",
   "pygments_lexer": "ipython3",
   "version": "3.8.8"
  }
 },
 "nbformat": 4,
 "nbformat_minor": 5
}
