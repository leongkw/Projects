{
  "nbformat": 4,
  "nbformat_minor": 0,
  "metadata": {
    "colab": {
      "name": "Admission_prediction_with_pyspark_ml.ipynb",
      "provenance": [],
      "collapsed_sections": []
    },
    "kernelspec": {
      "name": "python3",
      "display_name": "Python 3"
    }
  },
  "cells": [
    {
      "cell_type": "markdown",
      "metadata": {
        "id": "rZtskxrQyg3e"
      },
      "source": [
        "# TASK 1 : Install Dependencies & Run a SparkSession\n"
      ]
    },
    {
      "cell_type": "code",
      "metadata": {
        "id": "a9huiQF8yfIK",
        "colab": {
          "base_uri": "https://localhost:8080/"
        },
        "outputId": "121f6799-ed0b-44f7-cb39-f95bc7526a19"
      },
      "source": [
        "#install pyspark\n",
        "!pip install pyspark"
      ],
      "execution_count": 2,
      "outputs": [
        {
          "output_type": "stream",
          "name": "stdout",
          "text": [
            "Collecting pyspark\n",
            "  Downloading pyspark-3.1.2.tar.gz (212.4 MB)\n",
            "\u001b[K     |████████████████████████████████| 212.4 MB 65 kB/s \n",
            "\u001b[?25hCollecting py4j==0.10.9\n",
            "  Downloading py4j-0.10.9-py2.py3-none-any.whl (198 kB)\n",
            "\u001b[K     |████████████████████████████████| 198 kB 55.0 MB/s \n",
            "\u001b[?25hBuilding wheels for collected packages: pyspark\n",
            "  Building wheel for pyspark (setup.py) ... \u001b[?25l\u001b[?25hdone\n",
            "  Created wheel for pyspark: filename=pyspark-3.1.2-py2.py3-none-any.whl size=212880768 sha256=95c2f8e10d10dbe4901a1a926773381a0ee25122979997dd5afd49f7c97d1c37\n",
            "  Stored in directory: /root/.cache/pip/wheels/a5/0a/c1/9561f6fecb759579a7d863dcd846daaa95f598744e71b02c77\n",
            "Successfully built pyspark\n",
            "Installing collected packages: py4j, pyspark\n",
            "Successfully installed py4j-0.10.9 pyspark-3.1.2\n"
          ]
        }
      ]
    },
    {
      "cell_type": "code",
      "metadata": {
        "id": "1wZpO2gxy7Pt"
      },
      "source": [
        "#create a sparksession\n",
        "from pyspark.sql import SparkSession\n",
        "spark = SparkSession.builder.appName('spark').getOrCreate()"
      ],
      "execution_count": 3,
      "outputs": []
    },
    {
      "cell_type": "markdown",
      "metadata": {
        "id": "8t7JFc_My__A"
      },
      "source": [
        "# TASK 2 : Clone & Explore dataset"
      ]
    },
    {
      "cell_type": "code",
      "metadata": {
        "id": "C0oRpI4ezFgc",
        "colab": {
          "base_uri": "https://localhost:8080/"
        },
        "outputId": "b306d1f7-d1d4-407b-b7bb-0994ea17c319"
      },
      "source": [
        "#clone the dataset\n",
        "! git clone https://github.com/education454/admission_dataset"
      ],
      "execution_count": 4,
      "outputs": [
        {
          "output_type": "stream",
          "name": "stdout",
          "text": [
            "Cloning into 'admission_dataset'...\n",
            "remote: Enumerating objects: 3, done.\u001b[K\n",
            "remote: Counting objects: 100% (3/3), done.\u001b[K\n",
            "remote: Compressing objects: 100% (3/3), done.\u001b[K\n",
            "remote: Total 3 (delta 0), reused 0 (delta 0), pack-reused 0\u001b[K\n",
            "Unpacking objects: 100% (3/3), done.\n"
          ]
        }
      ]
    },
    {
      "cell_type": "code",
      "metadata": {
        "id": "Evfd9ACizers",
        "colab": {
          "base_uri": "https://localhost:8080/"
        },
        "outputId": "0c1b42a8-1688-4345-e0a9-794452cd4fbe"
      },
      "source": [
        "#check the presence of dataset\n",
        "! ls admission_dataset"
      ],
      "execution_count": 5,
      "outputs": [
        {
          "output_type": "stream",
          "name": "stdout",
          "text": [
            "Admission_Predict_Ver1.1.csv\n"
          ]
        }
      ]
    },
    {
      "cell_type": "code",
      "metadata": {
        "id": "q6sF2NVazjtU"
      },
      "source": [
        "#create a spark dataframe\n",
        "df = spark.read.csv('/content/admission_dataset/Admission_Predict_Ver1.1.csv', header=True, inferSchema=True)"
      ],
      "execution_count": 6,
      "outputs": []
    },
    {
      "cell_type": "code",
      "metadata": {
        "id": "cG6UhIUuznfJ",
        "colab": {
          "base_uri": "https://localhost:8080/"
        },
        "outputId": "319917db-293e-4f65-d3ac-b86aa2416bd7"
      },
      "source": [
        "#display dataframe\n",
        "df.show()"
      ],
      "execution_count": 7,
      "outputs": [
        {
          "output_type": "stream",
          "name": "stdout",
          "text": [
            "+---------+---------+-----------+-----------------+---+---+----+--------+---------------+\n",
            "|Serial No|GRE Score|TOEFL Score|University Rating|SOP|LOR|CGPA|Research|Chance of Admit|\n",
            "+---------+---------+-----------+-----------------+---+---+----+--------+---------------+\n",
            "|        1|      337|        118|                4|4.5|4.5|9.65|       1|           0.92|\n",
            "|        2|      324|        107|                4|4.0|4.5|8.87|       1|           0.76|\n",
            "|        3|      316|        104|                3|3.0|3.5| 8.0|       1|           0.72|\n",
            "|        4|      322|        110|                3|3.5|2.5|8.67|       1|            0.8|\n",
            "|        5|      314|        103|                2|2.0|3.0|8.21|       0|           0.65|\n",
            "|        6|      330|        115|                5|4.5|3.0|9.34|       1|            0.9|\n",
            "|        7|      321|        109|                3|3.0|4.0| 8.2|       1|           0.75|\n",
            "|        8|      308|        101|                2|3.0|4.0| 7.9|       0|           0.68|\n",
            "|        9|      302|        102|                1|2.0|1.5| 8.0|       0|            0.5|\n",
            "|       10|      323|        108|                3|3.5|3.0| 8.6|       0|           0.45|\n",
            "|       11|      325|        106|                3|3.5|4.0| 8.4|       1|           0.52|\n",
            "|       12|      327|        111|                4|4.0|4.5| 9.0|       1|           0.84|\n",
            "|       13|      328|        112|                4|4.0|4.5| 9.1|       1|           0.78|\n",
            "|       14|      307|        109|                3|4.0|3.0| 8.0|       1|           0.62|\n",
            "|       15|      311|        104|                3|3.5|2.0| 8.2|       1|           0.61|\n",
            "|       16|      314|        105|                3|3.5|2.5| 8.3|       0|           0.54|\n",
            "|       17|      317|        107|                3|4.0|3.0| 8.7|       0|           0.66|\n",
            "|       18|      319|        106|                3|4.0|3.0| 8.0|       1|           0.65|\n",
            "|       19|      318|        110|                3|4.0|3.0| 8.8|       0|           0.63|\n",
            "|       20|      303|        102|                3|3.5|3.0| 8.5|       0|           0.62|\n",
            "+---------+---------+-----------+-----------------+---+---+----+--------+---------------+\n",
            "only showing top 20 rows\n",
            "\n"
          ]
        }
      ]
    },
    {
      "cell_type": "code",
      "metadata": {
        "id": "tgtWocArzqVR",
        "colab": {
          "base_uri": "https://localhost:8080/"
        },
        "outputId": "e490066f-e7fd-464c-934a-3b57277ebf1d"
      },
      "source": [
        "#get the no.of rows & columns\n",
        "rows = df.count()\n",
        "length = len(df.columns)\n",
        "print(rows, length)"
      ],
      "execution_count": 8,
      "outputs": [
        {
          "output_type": "stream",
          "name": "stdout",
          "text": [
            "500 9\n"
          ]
        }
      ]
    },
    {
      "cell_type": "code",
      "metadata": {
        "id": "OWQTe006zt7O",
        "colab": {
          "base_uri": "https://localhost:8080/"
        },
        "outputId": "19076574-b5b5-47bc-fb41-c7aa2844d327"
      },
      "source": [
        "#print schema \n",
        "df.printSchema()"
      ],
      "execution_count": 9,
      "outputs": [
        {
          "output_type": "stream",
          "name": "stdout",
          "text": [
            "root\n",
            " |-- Serial No: integer (nullable = true)\n",
            " |-- GRE Score: integer (nullable = true)\n",
            " |-- TOEFL Score: integer (nullable = true)\n",
            " |-- University Rating: integer (nullable = true)\n",
            " |-- SOP: double (nullable = true)\n",
            " |-- LOR: double (nullable = true)\n",
            " |-- CGPA: double (nullable = true)\n",
            " |-- Research: integer (nullable = true)\n",
            " |-- Chance of Admit: double (nullable = true)\n",
            "\n"
          ]
        }
      ]
    },
    {
      "cell_type": "code",
      "metadata": {
        "id": "locEx8HDz264",
        "colab": {
          "base_uri": "https://localhost:8080/"
        },
        "outputId": "dfeb7b28-9d7b-44c9-9ee0-da847c84780d"
      },
      "source": [
        "#get the summary statistics\n",
        "df.describe().show()"
      ],
      "execution_count": 10,
      "outputs": [
        {
          "output_type": "stream",
          "name": "stdout",
          "text": [
            "+-------+-----------------+------------------+-----------------+-----------------+------------------+------------------+------------------+------------------+-------------------+\n",
            "|summary|        Serial No|         GRE Score|      TOEFL Score|University Rating|               SOP|               LOR|              CGPA|          Research|    Chance of Admit|\n",
            "+-------+-----------------+------------------+-----------------+-----------------+------------------+------------------+------------------+------------------+-------------------+\n",
            "|  count|              500|               500|              500|              500|               500|               500|               500|               500|                500|\n",
            "|   mean|            250.5|           316.472|          107.192|            3.114|             3.374|             3.484| 8.576440000000003|              0.56| 0.7217399999999996|\n",
            "| stddev|144.4818327679989|11.295148372354712|6.081867659564538|1.143511800759815|0.9910036207566072|0.9254495738978191|0.6048128003332054|0.4968840786090358|0.14114040395030228|\n",
            "|    min|                1|               290|               92|                1|               1.0|               1.0|               6.8|                 0|               0.34|\n",
            "|    max|              500|               340|              120|                5|               5.0|               5.0|              9.92|                 1|               0.97|\n",
            "+-------+-----------------+------------------+-----------------+-----------------+------------------+------------------+------------------+------------------+-------------------+\n",
            "\n"
          ]
        }
      ]
    },
    {
      "cell_type": "markdown",
      "metadata": {
        "id": "6uDdoEKsz6h6"
      },
      "source": [
        "# TASK 3 : Data Cleaning"
      ]
    },
    {
      "cell_type": "code",
      "metadata": {
        "id": "o6gJAFo30G9s"
      },
      "source": [
        "#drop the unnecessary column\n",
        "df = df.drop('Serial No')"
      ],
      "execution_count": 11,
      "outputs": []
    },
    {
      "cell_type": "code",
      "metadata": {
        "id": "_lOPoDVk0OFH",
        "colab": {
          "base_uri": "https://localhost:8080/"
        },
        "outputId": "7d67206a-9b05-4440-8334-d0253ae3c646"
      },
      "source": [
        "#display the dataframe\n",
        "df.show()"
      ],
      "execution_count": 12,
      "outputs": [
        {
          "output_type": "stream",
          "name": "stdout",
          "text": [
            "+---------+-----------+-----------------+---+---+----+--------+---------------+\n",
            "|GRE Score|TOEFL Score|University Rating|SOP|LOR|CGPA|Research|Chance of Admit|\n",
            "+---------+-----------+-----------------+---+---+----+--------+---------------+\n",
            "|      337|        118|                4|4.5|4.5|9.65|       1|           0.92|\n",
            "|      324|        107|                4|4.0|4.5|8.87|       1|           0.76|\n",
            "|      316|        104|                3|3.0|3.5| 8.0|       1|           0.72|\n",
            "|      322|        110|                3|3.5|2.5|8.67|       1|            0.8|\n",
            "|      314|        103|                2|2.0|3.0|8.21|       0|           0.65|\n",
            "|      330|        115|                5|4.5|3.0|9.34|       1|            0.9|\n",
            "|      321|        109|                3|3.0|4.0| 8.2|       1|           0.75|\n",
            "|      308|        101|                2|3.0|4.0| 7.9|       0|           0.68|\n",
            "|      302|        102|                1|2.0|1.5| 8.0|       0|            0.5|\n",
            "|      323|        108|                3|3.5|3.0| 8.6|       0|           0.45|\n",
            "|      325|        106|                3|3.5|4.0| 8.4|       1|           0.52|\n",
            "|      327|        111|                4|4.0|4.5| 9.0|       1|           0.84|\n",
            "|      328|        112|                4|4.0|4.5| 9.1|       1|           0.78|\n",
            "|      307|        109|                3|4.0|3.0| 8.0|       1|           0.62|\n",
            "|      311|        104|                3|3.5|2.0| 8.2|       1|           0.61|\n",
            "|      314|        105|                3|3.5|2.5| 8.3|       0|           0.54|\n",
            "|      317|        107|                3|4.0|3.0| 8.7|       0|           0.66|\n",
            "|      319|        106|                3|4.0|3.0| 8.0|       1|           0.65|\n",
            "|      318|        110|                3|4.0|3.0| 8.8|       0|           0.63|\n",
            "|      303|        102|                3|3.5|3.0| 8.5|       0|           0.62|\n",
            "+---------+-----------+-----------------+---+---+----+--------+---------------+\n",
            "only showing top 20 rows\n",
            "\n"
          ]
        }
      ]
    },
    {
      "cell_type": "code",
      "metadata": {
        "id": "Au73oUZJ0Qv7",
        "colab": {
          "base_uri": "https://localhost:8080/"
        },
        "outputId": "db383383-43e7-41bb-9e6d-e8a0e978eba3"
      },
      "source": [
        "#check for null values\n",
        "for i in df.columns:\n",
        "  print(i + ':', df[df[i].isNull()].count())"
      ],
      "execution_count": 13,
      "outputs": [
        {
          "output_type": "stream",
          "name": "stdout",
          "text": [
            "GRE Score: 0\n",
            "TOEFL Score: 0\n",
            "University Rating: 0\n",
            "SOP: 0\n",
            "LOR: 0\n",
            "CGPA: 0\n",
            "Research: 0\n",
            "Chance of Admit: 0\n"
          ]
        }
      ]
    },
    {
      "cell_type": "markdown",
      "metadata": {
        "id": "prkDI9Dc0SoH"
      },
      "source": [
        "# TASK 4 : Correlation Analysis & Feature Selection"
      ]
    },
    {
      "cell_type": "code",
      "metadata": {
        "id": "eFhxSRRj0Ypa",
        "colab": {
          "base_uri": "https://localhost:8080/"
        },
        "outputId": "bc82df24-cc7c-41a6-9c60-65d56468dfe4"
      },
      "source": [
        "# correlation analysis\n",
        "for i in df.columns:\n",
        "  cor = df.stat.corr('Chance of Admit', i)\n",
        "  print('Correlation to chance of admin col for {} is {}'.format(i, cor))"
      ],
      "execution_count": 14,
      "outputs": [
        {
          "output_type": "stream",
          "name": "stdout",
          "text": [
            "Correlation to chance of admin col for GRE Score is 0.8103506354632598\n",
            "Correlation to chance of admin col for TOEFL Score is 0.7922276143050823\n",
            "Correlation to chance of admin col for University Rating is 0.6901323687886892\n",
            "Correlation to chance of admin col for SOP is 0.6841365241316723\n",
            "Correlation to chance of admin col for LOR is 0.6453645135280112\n",
            "Correlation to chance of admin col for CGPA is 0.882412574904574\n",
            "Correlation to chance of admin col for Research is 0.5458710294711379\n",
            "Correlation to chance of admin col for Chance of Admit is 1.0\n"
          ]
        }
      ]
    },
    {
      "cell_type": "code",
      "metadata": {
        "id": "UXNOknvo0dV2"
      },
      "source": [
        "# feature selection\n",
        "from pyspark.ml.feature import VectorAssembler\n",
        "assembler = VectorAssembler(inputCols=['GRE Score', 'TOEFL Score', 'CGPA'], outputCol='features')"
      ],
      "execution_count": 15,
      "outputs": []
    },
    {
      "cell_type": "code",
      "metadata": {
        "id": "JOzlkPaz0ibL",
        "colab": {
          "base_uri": "https://localhost:8080/"
        },
        "outputId": "72c7a73a-02a3-48d8-daf5-0fdd465aa58b"
      },
      "source": [
        "#display dataframe\n",
        "output_data = assembler.transform(df)\n",
        "output_data.show()\n"
      ],
      "execution_count": 16,
      "outputs": [
        {
          "output_type": "stream",
          "name": "stdout",
          "text": [
            "+---------+-----------+-----------------+---+---+----+--------+---------------+------------------+\n",
            "|GRE Score|TOEFL Score|University Rating|SOP|LOR|CGPA|Research|Chance of Admit|          features|\n",
            "+---------+-----------+-----------------+---+---+----+--------+---------------+------------------+\n",
            "|      337|        118|                4|4.5|4.5|9.65|       1|           0.92|[337.0,118.0,9.65]|\n",
            "|      324|        107|                4|4.0|4.5|8.87|       1|           0.76|[324.0,107.0,8.87]|\n",
            "|      316|        104|                3|3.0|3.5| 8.0|       1|           0.72| [316.0,104.0,8.0]|\n",
            "|      322|        110|                3|3.5|2.5|8.67|       1|            0.8|[322.0,110.0,8.67]|\n",
            "|      314|        103|                2|2.0|3.0|8.21|       0|           0.65|[314.0,103.0,8.21]|\n",
            "|      330|        115|                5|4.5|3.0|9.34|       1|            0.9|[330.0,115.0,9.34]|\n",
            "|      321|        109|                3|3.0|4.0| 8.2|       1|           0.75| [321.0,109.0,8.2]|\n",
            "|      308|        101|                2|3.0|4.0| 7.9|       0|           0.68| [308.0,101.0,7.9]|\n",
            "|      302|        102|                1|2.0|1.5| 8.0|       0|            0.5| [302.0,102.0,8.0]|\n",
            "|      323|        108|                3|3.5|3.0| 8.6|       0|           0.45| [323.0,108.0,8.6]|\n",
            "|      325|        106|                3|3.5|4.0| 8.4|       1|           0.52| [325.0,106.0,8.4]|\n",
            "|      327|        111|                4|4.0|4.5| 9.0|       1|           0.84| [327.0,111.0,9.0]|\n",
            "|      328|        112|                4|4.0|4.5| 9.1|       1|           0.78| [328.0,112.0,9.1]|\n",
            "|      307|        109|                3|4.0|3.0| 8.0|       1|           0.62| [307.0,109.0,8.0]|\n",
            "|      311|        104|                3|3.5|2.0| 8.2|       1|           0.61| [311.0,104.0,8.2]|\n",
            "|      314|        105|                3|3.5|2.5| 8.3|       0|           0.54| [314.0,105.0,8.3]|\n",
            "|      317|        107|                3|4.0|3.0| 8.7|       0|           0.66| [317.0,107.0,8.7]|\n",
            "|      319|        106|                3|4.0|3.0| 8.0|       1|           0.65| [319.0,106.0,8.0]|\n",
            "|      318|        110|                3|4.0|3.0| 8.8|       0|           0.63| [318.0,110.0,8.8]|\n",
            "|      303|        102|                3|3.5|3.0| 8.5|       0|           0.62| [303.0,102.0,8.5]|\n",
            "+---------+-----------+-----------------+---+---+----+--------+---------------+------------------+\n",
            "only showing top 20 rows\n",
            "\n"
          ]
        }
      ]
    },
    {
      "cell_type": "markdown",
      "metadata": {
        "id": "l6FucLAC0r5I"
      },
      "source": [
        "# TASK 5 : Build the Linear Regression Model"
      ]
    },
    {
      "cell_type": "code",
      "metadata": {
        "id": "RMYN_8jJ0wDR",
        "colab": {
          "base_uri": "https://localhost:8080/"
        },
        "outputId": "616fc652-49c2-4153-cd40-08500085a4aa"
      },
      "source": [
        "#import Linearregression and create final data\n",
        "from pyspark.ml.regression import LinearRegression\n",
        "final_data = output_data.select('features', 'Chance of Admit')\n",
        "final_data.show()"
      ],
      "execution_count": 17,
      "outputs": [
        {
          "output_type": "stream",
          "name": "stdout",
          "text": [
            "+------------------+---------------+\n",
            "|          features|Chance of Admit|\n",
            "+------------------+---------------+\n",
            "|[337.0,118.0,9.65]|           0.92|\n",
            "|[324.0,107.0,8.87]|           0.76|\n",
            "| [316.0,104.0,8.0]|           0.72|\n",
            "|[322.0,110.0,8.67]|            0.8|\n",
            "|[314.0,103.0,8.21]|           0.65|\n",
            "|[330.0,115.0,9.34]|            0.9|\n",
            "| [321.0,109.0,8.2]|           0.75|\n",
            "| [308.0,101.0,7.9]|           0.68|\n",
            "| [302.0,102.0,8.0]|            0.5|\n",
            "| [323.0,108.0,8.6]|           0.45|\n",
            "| [325.0,106.0,8.4]|           0.52|\n",
            "| [327.0,111.0,9.0]|           0.84|\n",
            "| [328.0,112.0,9.1]|           0.78|\n",
            "| [307.0,109.0,8.0]|           0.62|\n",
            "| [311.0,104.0,8.2]|           0.61|\n",
            "| [314.0,105.0,8.3]|           0.54|\n",
            "| [317.0,107.0,8.7]|           0.66|\n",
            "| [319.0,106.0,8.0]|           0.65|\n",
            "| [318.0,110.0,8.8]|           0.63|\n",
            "| [303.0,102.0,8.5]|           0.62|\n",
            "+------------------+---------------+\n",
            "only showing top 20 rows\n",
            "\n"
          ]
        }
      ]
    },
    {
      "cell_type": "code",
      "metadata": {
        "id": "MNSEfLCp09oO",
        "colab": {
          "base_uri": "https://localhost:8080/"
        },
        "outputId": "977b756c-aa4b-46a0-c371-671c84bbd142"
      },
      "source": [
        "#print schema of final data\n",
        "final_data.printSchema()"
      ],
      "execution_count": 29,
      "outputs": [
        {
          "output_type": "stream",
          "name": "stdout",
          "text": [
            "root\n",
            " |-- features: vector (nullable = true)\n",
            " |-- Chance of Admit: double (nullable = true)\n",
            "\n"
          ]
        }
      ]
    },
    {
      "cell_type": "code",
      "metadata": {
        "id": "vOJylIiS1Dre",
        "colab": {
          "base_uri": "https://localhost:8080/"
        },
        "outputId": "da81f9e3-620f-4261-ea80-291c5a96db8c"
      },
      "source": [
        "#split the dataset into training and testing set\n",
        "train, test = final_data.randomSplit([0.7, 0.3])\n",
        "train.show()\n",
        "test.show()"
      ],
      "execution_count": 30,
      "outputs": [
        {
          "output_type": "stream",
          "name": "stdout",
          "text": [
            "+------------------+---------------+\n",
            "|          features|Chance of Admit|\n",
            "+------------------+---------------+\n",
            "|[290.0,100.0,7.56]|           0.47|\n",
            "|  [293.0,97.0,7.8]|           0.64|\n",
            "| [294.0,95.0,7.64]|           0.49|\n",
            "|  [295.0,93.0,7.2]|           0.46|\n",
            "| [295.0,99.0,7.65]|           0.57|\n",
            "|[295.0,101.0,7.86]|           0.69|\n",
            "|  [296.0,97.0,7.8]|           0.49|\n",
            "| [296.0,99.0,8.03]|           0.61|\n",
            "|[296.0,101.0,7.68]|            0.6|\n",
            "| [297.0,96.0,7.43]|           0.34|\n",
            "| [297.0,98.0,7.67]|           0.59|\n",
            "| [297.0,99.0,7.81]|           0.54|\n",
            "| [297.0,100.0,7.9]|           0.52|\n",
            "|[297.0,101.0,7.67]|           0.57|\n",
            "| [298.0,92.0,7.88]|           0.51|\n",
            "| [298.0,99.0,7.46]|           0.53|\n",
            "|[298.0,101.0,7.86]|           0.54|\n",
            "|[298.0,105.0,8.54]|           0.69|\n",
            "| [299.0,94.0,7.34]|           0.42|\n",
            "| [299.0,96.0,7.86]|           0.54|\n",
            "+------------------+---------------+\n",
            "only showing top 20 rows\n",
            "\n",
            "+------------------+---------------+\n",
            "|          features|Chance of Admit|\n",
            "+------------------+---------------+\n",
            "|[290.0,104.0,7.46]|           0.45|\n",
            "| [294.0,93.0,7.36]|           0.46|\n",
            "| [295.0,96.0,7.34]|           0.47|\n",
            "| [295.0,99.0,7.57]|           0.37|\n",
            "| [296.0,95.0,7.54]|           0.44|\n",
            "| [296.0,99.0,7.28]|           0.47|\n",
            "| [297.0,96.0,7.89]|           0.43|\n",
            "| [298.0,97.0,7.21]|           0.45|\n",
            "|  [298.0,98.0,7.5]|           0.44|\n",
            "| [298.0,98.0,8.03]|           0.34|\n",
            "|  [298.0,99.0,7.6]|           0.46|\n",
            "|[298.0,100.0,7.95]|           0.58|\n",
            "|[298.0,101.0,7.69]|           0.53|\n",
            "| [299.0,97.0,7.66]|           0.38|\n",
            "|[299.0,102.0,8.62]|           0.56|\n",
            "| [299.0,106.0,8.4]|           0.64|\n",
            "| [300.0,99.0,8.01]|           0.58|\n",
            "|[300.0,100.0,8.66]|           0.64|\n",
            "|[300.0,102.0,7.87]|           0.56|\n",
            "| [302.0,99.0,7.25]|           0.57|\n",
            "+------------------+---------------+\n",
            "only showing top 20 rows\n",
            "\n"
          ]
        }
      ]
    },
    {
      "cell_type": "code",
      "metadata": {
        "id": "xoxFzm4A1Hee"
      },
      "source": [
        "#build & train the model\n",
        "model = LinearRegression(featuresCol = 'features' ,labelCol = 'Chance of Admit')\n",
        "lr_model = model.fit(train)"
      ],
      "execution_count": 31,
      "outputs": []
    },
    {
      "cell_type": "code",
      "metadata": {
        "id": "DDCZ9uvA1QLf",
        "colab": {
          "base_uri": "https://localhost:8080/"
        },
        "outputId": "5b577f03-8409-4e1f-8d51-1c26f562cdef"
      },
      "source": [
        "#get coefficients & intercept\n",
        "coefficients = lr_model.coefficients\n",
        "intercept = lr_model.intercept\n",
        "print(coefficients)\n",
        "print(intercept)"
      ],
      "execution_count": 33,
      "outputs": [
        {
          "output_type": "stream",
          "name": "stdout",
          "text": [
            "[0.0022319207761229954,0.0031857090023803014,0.14253597369181636]\n",
            "-1.5454477861723417\n"
          ]
        }
      ]
    },
    {
      "cell_type": "code",
      "metadata": {
        "id": "bO6Duj1l1YJX"
      },
      "source": [
        "#get summary of the model\n",
        "summary = lr_model.summary"
      ],
      "execution_count": 38,
      "outputs": []
    },
    {
      "cell_type": "code",
      "metadata": {
        "id": "ebi9LxFS1aBJ",
        "colab": {
          "base_uri": "https://localhost:8080/"
        },
        "outputId": "73972ce0-010f-4b09-dc5d-8f65dcf05a19"
      },
      "source": [
        "#print the rmse & r2 score\n",
        "rmse = summary.rootMeanSquaredError\n",
        "r2 = summary.r2\n",
        "print(rmse)\n",
        "print(r2)"
      ],
      "execution_count": 39,
      "outputs": [
        {
          "output_type": "stream",
          "name": "stdout",
          "text": [
            "0.061401180702098546\n",
            "0.8039233459763617\n"
          ]
        }
      ]
    },
    {
      "cell_type": "markdown",
      "metadata": {
        "id": "b5lTskfK1eKV"
      },
      "source": [
        "# TASK 6 : Evaluate & Save the Model"
      ]
    },
    {
      "cell_type": "code",
      "metadata": {
        "id": "l0TAwvGP1noC"
      },
      "source": [
        "#transform on the test data\n",
        "predictions = lr_model.transform(test)"
      ],
      "execution_count": 41,
      "outputs": []
    },
    {
      "cell_type": "code",
      "metadata": {
        "id": "T_DixZ6f1nvP",
        "colab": {
          "base_uri": "https://localhost:8080/"
        },
        "outputId": "218c119d-da65-40f4-c3d5-733157847573"
      },
      "source": [
        "#display the predictions\n",
        "predictions.show()"
      ],
      "execution_count": 42,
      "outputs": [
        {
          "output_type": "stream",
          "name": "stdout",
          "text": [
            "+------------------+---------------+-------------------+\n",
            "|          features|Chance of Admit|         prediction|\n",
            "+------------------+---------------+-------------------+\n",
            "|[290.0,104.0,7.46]|           0.45| 0.4964413388918283|\n",
            "| [294.0,93.0,7.36]|           0.46|0.45607262560095574|\n",
            "| [295.0,96.0,7.34]|           0.47|0.46501095391038305|\n",
            "| [295.0,99.0,7.57]|           0.37| 0.5073513548666417|\n",
            "| [296.0,95.0,7.54]|           0.44|0.49256436042248897|\n",
            "| [296.0,99.0,7.28]|           0.47| 0.4682478432721382|\n",
            "| [297.0,96.0,7.89]|           0.43| 0.5478695809931278|\n",
            "| [298.0,97.0,7.21]|           0.45| 0.4563627486611965|\n",
            "|  [298.0,98.0,7.5]|           0.44| 0.5008838900342032|\n",
            "| [298.0,98.0,8.03]|           0.34| 0.5764279560908658|\n",
            "|  [298.0,99.0,7.6]|           0.46| 0.5183231964057651|\n",
            "|[298.0,100.0,7.95]|           0.58| 0.5713964962002809|\n",
            "|[298.0,101.0,7.69]|           0.53| 0.5375228520427893|\n",
            "| [299.0,97.0,7.66]|           0.38| 0.5227358575986365|\n",
            "|[299.0,102.0,8.62]|           0.56| 0.6754989373546816|\n",
            "| [299.0,106.0,8.4]|           0.64| 0.6568838591520034|\n",
            "| [300.0,99.0,8.01]|           0.58| 0.5812267871716559|\n",
            "|[300.0,100.0,8.66]|           0.64| 0.6770608790737169|\n",
            "|[300.0,102.0,7.87]|           0.56| 0.5708288778619424|\n",
            "| [302.0,99.0,7.25]|           0.57| 0.4773632887181214|\n",
            "+------------------+---------------+-------------------+\n",
            "only showing top 20 rows\n",
            "\n"
          ]
        }
      ]
    },
    {
      "cell_type": "code",
      "metadata": {
        "id": "vzxDnudZ1n3n",
        "colab": {
          "base_uri": "https://localhost:8080/"
        },
        "outputId": "1be2de96-6915-4958-a39c-a5a44e7445d2"
      },
      "source": [
        "#evaluate the model \n",
        "from pyspark.ml.evaluation import RegressionEvaluator\n",
        "evaluator = RegressionEvaluator(predictionCol = 'prediction', \n",
        "                                labelCol='Chance of Admit', \n",
        "                                metricName='r2',)\n",
        "print(evaluator.evaluate(predictions))"
      ],
      "execution_count": 46,
      "outputs": [
        {
          "output_type": "stream",
          "name": "stdout",
          "text": [
            "0.8026638734552771\n"
          ]
        }
      ]
    },
    {
      "cell_type": "code",
      "metadata": {
        "id": "WEeyiruX1n_I"
      },
      "source": [
        "#save the model\n",
        "lr_model.save('abc')"
      ],
      "execution_count": 67,
      "outputs": []
    },
    {
      "cell_type": "code",
      "metadata": {
        "id": "PK48FYRd2CMJ"
      },
      "source": [
        "#load the model\n",
        "from pyspark.ml.regression import LinearRegressionModel\n",
        "model = LinearRegressionModel.load('abc')"
      ],
      "execution_count": 68,
      "outputs": []
    },
    {
      "cell_type": "code",
      "metadata": {
        "colab": {
          "base_uri": "https://localhost:8080/"
        },
        "id": "7f188iYchDS1",
        "outputId": "9a6526bc-08f9-4c02-ed36-93a9316bd991"
      },
      "source": [
        "test = model.transform(test)\n",
        "test.show()"
      ],
      "execution_count": 70,
      "outputs": [
        {
          "output_type": "stream",
          "name": "stdout",
          "text": [
            "+------------------+---------------+-------------------+\n",
            "|          features|Chance of Admit|         prediction|\n",
            "+------------------+---------------+-------------------+\n",
            "|[290.0,104.0,7.46]|           0.45| 0.4964413388918283|\n",
            "| [294.0,93.0,7.36]|           0.46|0.45607262560095574|\n",
            "| [295.0,96.0,7.34]|           0.47|0.46501095391038305|\n",
            "| [295.0,99.0,7.57]|           0.37| 0.5073513548666417|\n",
            "| [296.0,95.0,7.54]|           0.44|0.49256436042248897|\n",
            "| [296.0,99.0,7.28]|           0.47| 0.4682478432721382|\n",
            "| [297.0,96.0,7.89]|           0.43| 0.5478695809931278|\n",
            "| [298.0,97.0,7.21]|           0.45| 0.4563627486611965|\n",
            "|  [298.0,98.0,7.5]|           0.44| 0.5008838900342032|\n",
            "| [298.0,98.0,8.03]|           0.34| 0.5764279560908658|\n",
            "|  [298.0,99.0,7.6]|           0.46| 0.5183231964057651|\n",
            "|[298.0,100.0,7.95]|           0.58| 0.5713964962002809|\n",
            "|[298.0,101.0,7.69]|           0.53| 0.5375228520427893|\n",
            "| [299.0,97.0,7.66]|           0.38| 0.5227358575986365|\n",
            "|[299.0,102.0,8.62]|           0.56| 0.6754989373546816|\n",
            "| [299.0,106.0,8.4]|           0.64| 0.6568838591520034|\n",
            "| [300.0,99.0,8.01]|           0.58| 0.5812267871716559|\n",
            "|[300.0,100.0,8.66]|           0.64| 0.6770608790737169|\n",
            "|[300.0,102.0,7.87]|           0.56| 0.5708288778619424|\n",
            "| [302.0,99.0,7.25]|           0.57| 0.4773632887181214|\n",
            "+------------------+---------------+-------------------+\n",
            "only showing top 20 rows\n",
            "\n"
          ]
        }
      ]
    },
    {
      "cell_type": "code",
      "metadata": {
        "id": "MdCtR5QCiPiQ"
      },
      "source": [
        ""
      ],
      "execution_count": null,
      "outputs": []
    }
  ]
}