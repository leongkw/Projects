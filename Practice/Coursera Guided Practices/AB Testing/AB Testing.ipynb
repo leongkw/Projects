{
 "cells": [
  {
   "cell_type": "markdown",
   "metadata": {},
   "source": [
    "# Perform an A/B Test for ad campaign using python "
   ]
  },
  {
   "cell_type": "markdown",
   "metadata": {},
   "source": [
    "<img src=\"files/ab-testing.png\" width=\"200\">\n",
    "\n",
    "<div>Icons made by <a href=\"https://flat-icons.com/\" title=\"Flat Icons\">Flat Icons</a> from <a href=\"https://www.flaticon.com/\" title=\"Flaticon\">www.flaticon.com</a></div>\n",
    "\n",
    "\n",
    "\n",
    "\n",
    "<br>\n",
    "\n",
    "### AB testing is essentially an experiment where two or more variants are evaluated by  statistical analysis to determine which variation performs better for a given conversion goal\n",
    "<br>\n",
    "\n",
    "### You are hired by a digital marketing agency that designed a new ad for their client and This ad is hosted on a website .They hired you to do an A/B test to advise them on whether they should go for the new ad or not ."
   ]
  },
  {
   "cell_type": "markdown",
   "metadata": {},
   "source": [
    "## Task one : Load the dataset"
   ]
  },
  {
   "cell_type": "code",
   "execution_count": 1,
   "metadata": {},
   "outputs": [],
   "source": [
    "# import libraries\n",
    "import numpy as np\n",
    "import pandas as pd\n",
    "import matplotlib.pyplot as plt\n",
    "np.random.seed(42)"
   ]
  },
  {
   "cell_type": "code",
   "execution_count": 2,
   "metadata": {},
   "outputs": [],
   "source": [
    "#load the dataset\n",
    "df = pd.read_excel('AB Test.xlsx')"
   ]
  },
  {
   "cell_type": "code",
   "execution_count": 3,
   "metadata": {},
   "outputs": [
    {
     "data": {
      "text/html": [
       "<div>\n",
       "<style scoped>\n",
       "    .dataframe tbody tr th:only-of-type {\n",
       "        vertical-align: middle;\n",
       "    }\n",
       "\n",
       "    .dataframe tbody tr th {\n",
       "        vertical-align: top;\n",
       "    }\n",
       "\n",
       "    .dataframe thead th {\n",
       "        text-align: right;\n",
       "    }\n",
       "</style>\n",
       "<table border=\"1\" class=\"dataframe\">\n",
       "  <thead>\n",
       "    <tr style=\"text-align: right;\">\n",
       "      <th></th>\n",
       "      <th>group</th>\n",
       "      <th>action</th>\n",
       "    </tr>\n",
       "  </thead>\n",
       "  <tbody>\n",
       "    <tr>\n",
       "      <th>0</th>\n",
       "      <td>experiment</td>\n",
       "      <td>view</td>\n",
       "    </tr>\n",
       "    <tr>\n",
       "      <th>1</th>\n",
       "      <td>control</td>\n",
       "      <td>view</td>\n",
       "    </tr>\n",
       "    <tr>\n",
       "      <th>2</th>\n",
       "      <td>control</td>\n",
       "      <td>view and click</td>\n",
       "    </tr>\n",
       "    <tr>\n",
       "      <th>3</th>\n",
       "      <td>control</td>\n",
       "      <td>view and click</td>\n",
       "    </tr>\n",
       "    <tr>\n",
       "      <th>4</th>\n",
       "      <td>control</td>\n",
       "      <td>view</td>\n",
       "    </tr>\n",
       "  </tbody>\n",
       "</table>\n",
       "</div>"
      ],
      "text/plain": [
       "        group          action\n",
       "0  experiment            view\n",
       "1     control            view\n",
       "2     control  view and click\n",
       "3     control  view and click\n",
       "4     control            view"
      ]
     },
     "execution_count": 3,
     "metadata": {},
     "output_type": "execute_result"
    }
   ],
   "source": [
    "#show the dataframe head\n",
    "df.head()"
   ]
  },
  {
   "cell_type": "code",
   "execution_count": 4,
   "metadata": {},
   "outputs": [
    {
     "name": "stdout",
     "output_type": "stream",
     "text": [
      "<class 'pandas.core.frame.DataFrame'>\n",
      "RangeIndex: 3757 entries, 0 to 3756\n",
      "Data columns (total 2 columns):\n",
      " #   Column  Non-Null Count  Dtype \n",
      "---  ------  --------------  ----- \n",
      " 0   group   3757 non-null   object\n",
      " 1   action  3757 non-null   object\n",
      "dtypes: object(2)\n",
      "memory usage: 58.8+ KB\n"
     ]
    }
   ],
   "source": [
    "#show dataframe info\n",
    "df.info()"
   ]
  },
  {
   "cell_type": "markdown",
   "metadata": {},
   "source": [
    "# Task Two : Set up the hypothesis testing steps\n"
   ]
  },
  {
   "cell_type": "code",
   "execution_count": 5,
   "metadata": {},
   "outputs": [
    {
     "name": "stdout",
     "output_type": "stream",
     "text": [
      "Experiment: 1881\n",
      "Control: 1876\n"
     ]
    },
    {
     "data": {
      "text/plain": [
       "experiment    1881\n",
       "control       1876\n",
       "Name: group, dtype: int64"
      ]
     },
     "execution_count": 5,
     "metadata": {},
     "output_type": "execute_result"
    }
   ],
   "source": [
    "# Find insights in our data\n",
    "# Method 1\n",
    "exp_count = len(df[df['group'] == 'experiment'])\n",
    "ctrl_count = len(df[df['group'] == 'control'])\n",
    "\n",
    "print('Experiment:', exp_count)\n",
    "print('Control:', ctrl_count)\n",
    "\n",
    "# Method 2\n",
    "df['group'].value_counts()\n",
    "\n",
    "# Experiement Group: Samples that received the new advertisement\n",
    "# Control: Samples that did not receive the new advertisement"
   ]
  },
  {
   "cell_type": "code",
   "execution_count": 6,
   "metadata": {},
   "outputs": [
    {
     "data": {
      "text/plain": [
       "view              3082\n",
       "view and click     675\n",
       "Name: action, dtype: int64"
      ]
     },
     "execution_count": 6,
     "metadata": {},
     "output_type": "execute_result"
    }
   ],
   "source": [
    "# Find insights in our data\n",
    "df['action'].value_counts()"
   ]
  },
  {
   "cell_type": "markdown",
   "metadata": {},
   "source": [
    "### experiment group : \n",
    "the group that is involved in the new experiment . i.e the group that received the new ad . \n",
    "### Control group : \n",
    "the 2nd group that didn't receive the new ad\n",
    "### Click-through rate (CTR) : \n",
    "the number of clicks advertisers receive on their ads per number of impressions.\n"
   ]
  },
  {
   "cell_type": "raw",
   "metadata": {},
   "source": [
    "## Hypothesis Testing steps:\n",
    "\n",
    "1) Specify the Null Hypothesis.\n",
    "- What we assume to be true before we collect the data\n",
    "- In this case, H0 is defined as old ad is better than new ad\n",
    "- Numerically, old ad CTR > new ad CTR\n",
    "\n",
    "2) Specify the Alternative Hypothesis.\n",
    "- What we want to try and prove to be true\n",
    "- In this case, HA is defined as new ad is better than old ad\n",
    "- Numerically, new ad CTR > old ad CTR\n",
    "\n",
    "3) Set the Significance Level (a)\n",
    "- How confident you are in rejecting the null hypothesis\n",
    "\n",
    "4) Calculate the  Corresponding P-Value.\n",
    "\n",
    "5) Drawing a Conclusion\n",
    "\n"
   ]
  },
  {
   "cell_type": "markdown",
   "metadata": {},
   "source": [
    "## Task Three : Compute the difference in the click-through rate "
   ]
  },
  {
   "cell_type": "code",
   "execution_count": 7,
   "metadata": {},
   "outputs": [
    {
     "name": "stdout",
     "output_type": "stream",
     "text": [
      "0.19349680170575692\n"
     ]
    }
   ],
   "source": [
    "# Purpose: You want to find out if the differnece in CTR is due to the new ad\n",
    "# To prove statistically that this is true, you use A/B Testing\n",
    "\n",
    "# Get dataframe with all observations from control group \n",
    "ctrl_group = df[df['group'] == 'control']\n",
    "\n",
    "# Compute CTR for control group \n",
    "CTR_ctrl_group = len(ctrl_group[ctrl_group['action'] == 'view and click']) / len(ctrl_group)\n",
    "\n",
    "# Display the CTR For the control group\n",
    "print(CTR_ctrl_group)"
   ]
  },
  {
   "cell_type": "code",
   "execution_count": 8,
   "metadata": {},
   "outputs": [
    {
     "name": "stdout",
     "output_type": "stream",
     "text": [
      "0.19349680170575692\n"
     ]
    }
   ],
   "source": [
    "# Alternative Method --> Using df.query\n",
    "ctrl_group = df.query('group==\"control\"')\n",
    "\n",
    "CTR_ctrl_group = len(ctrl_group.query('action==\"view and click\"')) / len(ctrl_group)\n",
    "\n",
    "print(CTR_ctrl_group)"
   ]
  },
  {
   "cell_type": "code",
   "execution_count": 9,
   "metadata": {},
   "outputs": [
    {
     "name": "stdout",
     "output_type": "stream",
     "text": [
      "0.16586921850079744\n"
     ]
    }
   ],
   "source": [
    "# Get dataframe with all records from experiment group \n",
    "exp_group = df[df['group'] == 'experiment']\n",
    "\n",
    "# Compute click through rate for experiment group \n",
    "CTR_exp_group = len(exp_group[exp_group['action'] == 'view and click']) / len(exp_group)\n",
    "\n",
    "# Display the CTR For the experiment group\n",
    "print(CTR_exp_group)"
   ]
  },
  {
   "cell_type": "code",
   "execution_count": 10,
   "metadata": {},
   "outputs": [
    {
     "name": "stdout",
     "output_type": "stream",
     "text": [
      "-0.027627583204959477\n"
     ]
    }
   ],
   "source": [
    "# Compute the difference in the CTR \n",
    "diff = CTR_exp_group - CTR_ctrl_group\n",
    "\n",
    "# Display the difference \n",
    "print(diff)"
   ]
  },
  {
   "cell_type": "markdown",
   "metadata": {},
   "source": [
    "# Task four : create sample distribution using bootsrapping"
   ]
  },
  {
   "cell_type": "markdown",
   "metadata": {},
   "source": [
    "## Bootstrapping : \n",
    "The bootstrap method is a statistical technique for estimating quantities about a population by averaging estimates from multiple small data samples.\n",
    "\n",
    "Importantly, samples are constructed by drawing observations from a large data sample one at a time and returning them to the data sample after they have been chosen. This allows a given observation to be included in a given small sample more than once. This approach to sampling is called sampling with replacement.\n",
    "\n",
    "## Example : \n",
    "Bootstrapping in statistics, means sampling with replacement.\n",
    "so if we have a group of individuals and , and want to bootsrap sample of ten individuals from this group , we could randomly sample any ten individuals but with bootsrapping, we are sampling with replacement so we could actually end up sampling 7 out of the ten individuals and three of the previously selected individuals might end up being sampled again"
   ]
  },
  {
   "cell_type": "markdown",
   "metadata": {},
   "source": [
    "<img src=\"files/Bootstrapping.png\" width=\"600\">"
   ]
  },
  {
   "cell_type": "code",
   "execution_count": 18,
   "metadata": {},
   "outputs": [],
   "source": [
    "# Bootsrapping\n",
    "differences = []\n",
    "sample_size = len(df)\n",
    "\n",
    "# Bootstrap 10000 times\n",
    "for i in range(10000):\n",
    "    sample = df.sample(sample_size, replace=True) # Bootstrap is sampling with replacement\n",
    "    ctrl_group = sample[sample['group'] == 'control']\n",
    "    exp_group = sample[sample['group'] == 'experiment']\n",
    "    \n",
    "    CTR_ctrl_group = len(ctrl_group.query('action==\"view and click\"')) / len(ctrl_group)\n",
    "    CTR_exp_group = len(exp_group.query('action==\"view and click\"')) / len(exp_group)\n",
    "    \n",
    "    diff = CTR_exp_group - CTR_ctrl_group\n",
    "    differences.append(diff)"
   ]
  },
  {
   "cell_type": "markdown",
   "metadata": {},
   "source": [
    "# Task five : Evaluate the null hypothesis and draw conclustions."
   ]
  },
  {
   "cell_type": "markdown",
   "metadata": {},
   "source": [
    "### The central limit theorem states that if you have a population with mean μ and standard deviation σ and take sufficiently large random samples from the population with replacement , then the distribution of the sample means will be approximately normally distributed."
   ]
  },
  {
   "cell_type": "code",
   "execution_count": 19,
   "metadata": {},
   "outputs": [
    {
     "data": {
      "text/plain": [
       "(array([  23.,  185.,  689., 1721., 2537., 2465., 1600.,  583.,  169.,\n",
       "          28.]),\n",
       " array([-0.07073934, -0.06202178, -0.05330421, -0.04458665, -0.03586908,\n",
       "        -0.02715151, -0.01843395, -0.00971638, -0.00099881,  0.00771875,\n",
       "         0.01643632]),\n",
       " <BarContainer object of 10 artists>)"
      ]
     },
     "execution_count": 19,
     "metadata": {},
     "output_type": "execute_result"
    },
    {
     "data": {
      "image/png": "[encoded data removed]",
      "text/plain": [
       "<Figure size 432x288 with 1 Axes>"
      ]
     },
     "metadata": {
      "needs_background": "light"
     },
     "output_type": "display_data"
    }
   ],
   "source": [
    "# Plot the sampling distribution \n",
    "differences = np.array(differences)\n",
    "plt.hist(differences)"
   ]
  },
  {
   "cell_type": "code",
   "execution_count": 23,
   "metadata": {},
   "outputs": [
    {
     "data": {
      "text/plain": [
       "<matplotlib.lines.Line2D at 0x1b57e8ea250>"
      ]
     },
     "execution_count": 23,
     "metadata": {},
     "output_type": "execute_result"
    },
    {
     "data": {
      "image/png": "[encoded data removed]",
      "text/plain": [
       "<Figure size 432x288 with 1 Axes>"
      ]
     },
     "metadata": {
      "needs_background": "light"
     },
     "output_type": "display_data"
    }
   ],
   "source": [
    "# Simulate the distribution under the null hypothesis \n",
    "H0 = np.random.normal(0, differences.std(), differences.size)\n",
    "\n",
    "\n",
    "# Plot the null distribution \n",
    "# diff is the difference between CTR of experiment & control of original dataset\n",
    "plt.hist(H0)\n",
    "plt.axvline(diff, c='red')\n"
   ]
  },
  {
   "cell_type": "code",
   "execution_count": 21,
   "metadata": {},
   "outputs": [
    {
     "data": {
      "text/plain": [
       "0.012694748358878427"
      ]
     },
     "execution_count": 21,
     "metadata": {},
     "output_type": "execute_result"
    }
   ],
   "source": [
    "differences.std()"
   ]
  },
  {
   "cell_type": "markdown",
   "metadata": {},
   "source": [
    "###  The definition of a p-value is the probability of observing your statistic (or one more extreme in favor of the alternative) if the null hypothesis is true."
   ]
  },
  {
   "cell_type": "markdown",
   "metadata": {},
   "source": [
    "### The confidence level is equivalent to 1 – the alpha level. So, if your significance level is 0.05, the corresponding confidence level is 95%.\n",
    "\n",
    "###  i.e for P Value less than 0.05 we are 95% percent confident that we can reject the null hypothesis "
   ]
  },
  {
   "cell_type": "code",
   "execution_count": 29,
   "metadata": {},
   "outputs": [
    {
     "data": {
      "text/plain": [
       "0.9731"
      ]
     },
     "execution_count": 29,
     "metadata": {},
     "output_type": "execute_result"
    }
   ],
   "source": [
    "# Compute the  P-value \n",
    "# This is essentially a len(h0 > diff) / len(h0)\n",
    "# Meaning 97.31% of H0 are greater than the difference\n",
    "(H0 > diff).mean()"
   ]
  },
  {
   "cell_type": "code",
   "execution_count": 58,
   "metadata": {},
   "outputs": [],
   "source": [
    "def perform_abtest(data):\n",
    "    # Reading in data according to data file extension\n",
    "    if '.xlsx' in data:\n",
    "        try:\n",
    "            df = pd.read_excel(data)\n",
    "        except:\n",
    "            return 'Invalid file provided. Please try again'\n",
    "    elif '.csv' in data:\n",
    "        try:\n",
    "            df = pd.read_csv(data)\n",
    "        except:\n",
    "            return 'Invalid file provided. Please try again'\n",
    "    \n",
    "    \n",
    "    # Get dataframe with all observations from control group \n",
    "    # Get dataframe with all records from experiment group \n",
    "    ctrl_group = df[df['group'] == 'control']\n",
    "    exp_group = df[df['group'] == 'experiment']\n",
    "    \n",
    "    # Compute CTR for control group \n",
    "    # Compute click through rate for experiment group \n",
    "    CTR_ctrl_group = len(ctrl_group[ctrl_group['action'] == 'view and click']) / len(ctrl_group)   \n",
    "    CTR_exp_group = len(exp_group[exp_group['action'] == 'view and click']) / len(exp_group)\n",
    "    \n",
    "    # Compute difference between CTR of control & experiment group\n",
    "    diff = CTR_exp_group - CTR_ctrl_group\n",
    "\n",
    " \n",
    "    # Bootsrapping\n",
    "    differences = []\n",
    "    sample_size = len(df)\n",
    "\n",
    "    # Bootstrap 10000 times\n",
    "    for i in range(10000):\n",
    "        sample = df.sample(sample_size, replace=True) # Bootstrap is sampling with replacement\n",
    "        bs_ctrl_group = sample[sample['group'] == 'control']\n",
    "        bs_exp_group = sample[sample['group'] == 'experiment']\n",
    "    \n",
    "        bs_CTR_ctrl_group = len(bs_ctrl_group.query('action==\"view and click\"')) / len(bs_ctrl_group)\n",
    "        bs_CTR_exp_group = len(bs_exp_group.query('action==\"view and click\"')) / len(bs_exp_group)\n",
    "    \n",
    "        bs_diff = bs_CTR_exp_group - bs_CTR_ctrl_group\n",
    "        differences.append(bs_diff)\n",
    "    \n",
    "    differences = np.array(differences)\n",
    "    H0 = np.random.normal(0, differences.std(), differences.size)\n",
    "    p_value = (H0 > diff).mean()\n",
    "    \n",
    "    if p_value < 0.05:\n",
    "        print('P-Value:', p_value, ' Reject H0')\n",
    "    else:\n",
    "        print('P-Value:', p_value, ' Reject HA')"
   ]
  },
  {
   "cell_type": "code",
   "execution_count": 59,
   "metadata": {},
   "outputs": [
    {
     "name": "stdout",
     "output_type": "stream",
     "text": [
      "P-Value: 0.9869  Reject HA\n"
     ]
    }
   ],
   "source": [
    "perform_abtest('AB Test.xlsx')"
   ]
  },
  {
   "cell_type": "code",
   "execution_count": null,
   "metadata": {},
   "outputs": [],
   "source": []
  }
 ],
 "metadata": {
  "kernelspec": {
   "display_name": "Python 3",
   "language": "python",
   "name": "python3"
  },
  "language_info": {
   "codemirror_mode": {
    "name": "ipython",
    "version": 3
   },
   "file_extension": ".py",
   "mimetype": "text/x-python",
   "name": "python",
   "nbconvert_exporter": "python",
   "pygments_lexer": "ipython3",
   "version": "3.8.8"
  }
 },
 "nbformat": 4,
 "nbformat_minor": 4
}
