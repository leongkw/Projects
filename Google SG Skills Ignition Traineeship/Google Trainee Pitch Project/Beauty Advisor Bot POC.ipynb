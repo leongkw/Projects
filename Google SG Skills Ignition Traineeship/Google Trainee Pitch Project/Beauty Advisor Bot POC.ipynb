{
 "cells": [
  {
   "cell_type": "code",
   "execution_count": 1,
   "metadata": {},
   "outputs": [],
   "source": [
    "import telepot, telepot.aio\n",
    "from telepot.loop import MessageLoop\n",
    "from telepot.delegate import pave_event_space, per_chat_id, create_open\n",
    "from telepot.namedtuple import ReplyKeyboardMarkup\n",
    "import time"
   ]
  },
  {
   "cell_type": "code",
   "execution_count": 2,
   "metadata": {},
   "outputs": [],
   "source": [
    "Token = '1624445135:AAG9VJDMO6CRcyGDzuatR6q59pCgibyBGww'\n",
    "welcome_text = \"Hello! Welcome to Goophora's Virtual Beauty Advisor.\\n\\nWe are currently in beta mode and support only 1 feature - Product Recommendation from Facial Profile.\\n\\nTo start using the feature, type /scan\"\n",
    "scan_text = 'Welcome to Product Recommendation from Facial Profile\\n\\nThis feature will analyze an uploaded photo of your face, provide some diagnosis and recommend products from the Goophora catalogue based on the diagnosis.\\n\\nTo begin, please upload a photo of your face.'\n",
    "analysis_text = \"<b>Analysis Report</b>\\n\\n1. Forehead\\nDiagnosis: Mild Acne\\nRecommended Product: <a href='sites.google.com/gworkspace.work/goophora/products'>Brand X Acne Cream</a>\\nStock Availability: In-stock\\n2. Left Cheek\\nDiagnosis: Severe Acne\\nRecommended Product: <a href='sites.google.com/gworkspace.work/goophora/products'>Brand Y Strong Acne Cream</a>\\nStock Availability: In-stock\\n3. Right Cheek\\nDiagnosis: Mild Acne\\nRecommended Product: <a href='sites.google.com/gworkspace.work/goophora/products'>Brand X Acne Cream</a>\\nStock Availability: In-stock\\n4. Chin\\nDiagnosis: Very Mild Acne\\nRecommended Product: <a href='sites.google.com/gworkspace.work/goophora/products'>Brand Z Light Strength Acne Buster</a>\\nStock Availability: Not in-stock\\n\"\n",
    "restart_text = 'If you wish to perform another analysis, please /scan again.'"
   ]
  },
  {
   "cell_type": "code",
   "execution_count": null,
   "metadata": {},
   "outputs": [
    {
     "name": "stdout",
     "output_type": "stream",
     "text": [
      "BOT IS UP! WOOT WOOT!.\n"
     ]
    },
    {
     "name": "stderr",
     "output_type": "stream",
     "text": [
      "ERROR:root:on_close() called due to IdleTerminate: 300\n"
     ]
    }
   ],
   "source": [
    "class MessageCounter(telepot.helper.ChatHandler):\n",
    "    def __init__(self, *args, **kwargs):\n",
    "        super(MessageCounter, self).__init__(*args, **kwargs)\n",
    "        self.new_session = True\n",
    "        \n",
    "        # Menu ID\n",
    "        self.menuid = 0\n",
    "\n",
    "        \n",
    "    def on_chat_message(self, message):\n",
    "        content_type, chat_type, chat_id = telepot.glance(message)\n",
    "        \n",
    "        \n",
    "        if content_type != 'text' and self.menuid == 11:\n",
    "            bot.download_file(message['photo'][-1]['file_id'], './pimple.jpg')\n",
    "            bot.sendMessage(chat_id, 'Analyzing Photo...')\n",
    "            bot.sendPhoto(chat_id, photo=open('output.png', 'rb'))\n",
    "            bot.sendMessage(chat_id, analysis_text, parse_mode='HTML')\n",
    "            bot.sendMessage(chat_id, restart_text)\n",
    "            self.menuid = 0\n",
    "        \n",
    "        \n",
    "        elif content_type == 'text':\n",
    "            if message['text'] == '/start':\n",
    "                bot.sendPhoto(chat_id, photo=open('logo.png', 'rb'))\n",
    "                bot.sendMessage(chat_id, welcome_text)\n",
    "                self.menuid = 1\n",
    "        \n",
    "            elif message['text'] == '/scan':\n",
    "                bot.sendMessage(chat_id, scan_text)\n",
    "                self.menuid = 11\n",
    "        \n",
    "max_duration = 300\n",
    "\n",
    "bot = telepot.DelegatorBot(Token, [\n",
    "    pave_event_space()(\n",
    "        per_chat_id(), create_open, MessageCounter, timeout=max_duration),\n",
    "])\n",
    "\n",
    "\n",
    "\n",
    "run_server = True\n",
    "print('BOT IS UP! WOOT WOOT!.')\n",
    "MessageLoop(bot).run_as_thread()\n",
    "\n",
    "                  \n",
    "\n",
    "while run_server:\n",
    "    time.sleep(3)"
   ]
  },
  {
   "cell_type": "code",
   "execution_count": null,
   "metadata": {},
   "outputs": [],
   "source": []
  }
 ],
 "metadata": {
  "kernelspec": {
   "display_name": "Python 3",
   "language": "python",
   "name": "python3"
  },
  "language_info": {
   "codemirror_mode": {
    "name": "ipython",
    "version": 3
   },
   "file_extension": ".py",
   "mimetype": "text/x-python",
   "name": "python",
   "nbconvert_exporter": "python",
   "pygments_lexer": "ipython3",
   "version": "3.7.1"
  }
 },
 "nbformat": 4,
 "nbformat_minor": 2
}
